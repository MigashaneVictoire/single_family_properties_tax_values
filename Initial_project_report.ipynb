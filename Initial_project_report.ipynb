{
 "cells": [
  {
   "cell_type": "markdown",
   "id": "aca85651",
   "metadata": {},
   "source": [
    "# Initial Project Report"
   ]
  },
  {
   "cell_type": "code",
   "execution_count": 1,
   "id": "30a4bc2a",
   "metadata": {},
   "outputs": [],
   "source": [
    "import pandas as pd\n",
    "import matplotlib.pyplot as plt\n",
    "import seaborn as sns\n",
    "\n",
    "# system import to access file on different directory \n",
    "import sys\n",
    "sys.path.append(\"./util_\")\n",
    "\n",
    "# # wrangle and eda files\n",
    "# import acquire_\n",
    "# import prepare_\n",
    "# import explore_\n",
    "# import hyp_test_\n",
    "# import final_visuals_\n",
    "# import model_"
   ]
  },
  {
   "cell_type": "markdown",
   "id": "68c86e02",
   "metadata": {},
   "source": [
    "## Goal\n",
    "\n",
    "- Predicts single family properties tax assessed values.\n",
    "\n",
    "- Find the key drivers of property value for single family properties.\n",
    "\n",
    "    - Why do some properties have a much higher value than others when they are located so close to each other?\n",
    "    - Why are some properties valued so differently from others when they have nearly the same physical attributes but only differ in location?\n",
    "    - Is having 1 bathroom worse for property value than having 2 bedrooms?\n",
    " "
   ]
  },
  {
   "cell_type": "markdown",
   "id": "490b2694",
   "metadata": {},
   "source": [
    "## Acquire\n",
    "\n",
    "I am using the Telco churn data from the Codeup database.\n",
    "\n",
    "- Query the following columns:\n",
    "    - `bedroomcnt, bathroomcnt,calculatedfinishedsquarefeet, taxvaluedollarcnt, yearbuilt, taxamount, fips`\n",
    "\n",
    "- 2152863 rows and 7 columns.\n",
    "- 7 numric and 0 object\n",
    "- 22778 total null count (1% of the data)"
   ]
  },
  {
   "cell_type": "markdown",
   "id": "acc3b8f6",
   "metadata": {},
   "source": [
    "## Prepare\n",
    "\n",
    "- Remove all nulls (1% of the data)\n",
    "- Remove duplicated rows.\n",
    "- convert data type from float to int (bedrooms, bathrooms)\n",
    "- remove outliers\n",
    "- replace the fips code with county names and Encode county column.\n",
    "- Split data into train, validate, and test. (`60/20/20 ` split)\n",
    "- scale the humeric categorical and continuous variable and extract a copy of the original data frame.\n",
    "    - `bedrooms, bathrooms, sqr_feet, year_built, tax_amount`"
   ]
  },
  {
   "cell_type": "code",
   "execution_count": null,
   "id": "dd93b5a6",
   "metadata": {},
   "outputs": [],
   "source": []
  },
  {
   "cell_type": "code",
   "execution_count": null,
   "id": "68edcf82",
   "metadata": {},
   "outputs": [],
   "source": []
  },
  {
   "cell_type": "code",
   "execution_count": null,
   "id": "9e40cecc",
   "metadata": {},
   "outputs": [],
   "source": []
  }
 ],
 "metadata": {
  "kernelspec": {
   "display_name": "Python 3 (ipykernel)",
   "language": "python",
   "name": "python3"
  },
  "language_info": {
   "codemirror_mode": {
    "name": "ipython",
    "version": 3
   },
   "file_extension": ".py",
   "mimetype": "text/x-python",
   "name": "python",
   "nbconvert_exporter": "python",
   "pygments_lexer": "ipython3",
   "version": "3.10.9"
  }
 },
 "nbformat": 4,
 "nbformat_minor": 5
}
