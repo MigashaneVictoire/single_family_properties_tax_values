{
 "cells": [
  {
   "cell_type": "markdown",
   "id": "756c02ce",
   "metadata": {},
   "source": [
    "# Initial Project Report"
   ]
  },
  {
   "cell_type": "code",
   "execution_count": 1,
   "id": "88e77c29",
   "metadata": {},
   "outputs": [],
   "source": [
    "import pandas as pd\n",
    "import matplotlib.pyplot as plt\n",
    "import seaborn as sns\n",
    "\n",
    "# system import to access file on different directory \n",
    "import sys\n",
    "sys.path.append(\"./util_\")\n",
    "\n",
    "# # wrangle and eda files\n",
    "# import acquire_\n",
    "# import prepare_\n",
    "# import explore_\n",
    "# import hyp_test_\n",
    "# import final_visuals_\n",
    "# import model_"
   ]
  },
  {
   "cell_type": "markdown",
   "id": "d74c86b5",
   "metadata": {},
   "source": [
    "## Goal\n",
    "\n",
    "- Predicts single family properties tax assessed values.\n",
    "\n",
    "- Find the key drivers of property value for single family properties.\n",
    "\n",
    "    - Why do some properties have a much higher value than others when they are located so close to each other?\n",
    "    - Why are some properties valued so differently from others when they have nearly the same physical attributes but only differ in location?\n",
    "    - Is having 1 bathroom worse for property value than having 2 bedrooms?\n",
    " "
   ]
  },
  {
   "cell_type": "markdown",
   "id": "b7775482",
   "metadata": {},
   "source": [
    "## Acquire\n",
    "\n",
    "I am using the Telco churn data from the Codeup database.\n",
    "\n",
    "- Query the following columns:\n",
    "    - `bedroomcnt, bathroomcnt,calculatedfinishedsquarefeet, taxvaluedollarcnt, yearbuilt, taxamount, fips`\n",
    "\n",
    "- 2152863 rows and 7 columns.\n",
    "- 7 numric and 0 object\n",
    "- 22778 total null count (1% of the data)"
   ]
  },
  {
   "cell_type": "markdown",
   "id": "0ce17569",
   "metadata": {},
   "source": [
    "## Prepare\n",
    "\n",
    "- Remove all nulls (1% of the data)\n",
    "- Remove duplicated rows.\n",
    "- convert data type from float to int (bedrooms, bathrooms)\n",
    "- remove outliers\n",
    "- replace the fips code with county names and Encode county column.\n",
    "- Split data into train, validate, and test. (`60/20/20 ` split)\n",
    "- scale the humeric categorical and continuous variable and extract a copy of the original data frame.\n",
    "    - `bedrooms, bathrooms, sqr_feet, year_built, tax_amount`"
   ]
  },
  {
   "cell_type": "markdown",
   "id": "d64b13db",
   "metadata": {},
   "source": [
    "## Explore\n",
    "\n",
    "**Univariate Statistics**\n",
    "\n",
    "- `bathrooms` and `bedrooms`: looks to have some normality with some outliers.\n",
    "\n",
    "- `county`: three categories with Los Angeles having the largest porpotion.\n",
    "- `sqr_feet`: positive skew (right skew) with out liers starting at aout 3500 sqr feet.\n",
    "- `tax_amount`: bimodal distribution with two picks (modes) and contains outliers starting at about 12000 dollars.\n",
    "- `tax_value`: bimodal distribution with two picks (modes) and contains outliers starting at about 100000 dollars. (this may be do to the `0` values in bedroom and bathrooms)\n",
    "- `year built`: have some normality shape to it and some outliers . its pick is aroung the 1955.\n",
    "\n",
    "**Bivariate Statistics - Categorical**\n",
    "\n",
    "- `bathrooms_vs_tax_value`: `0` bathrooms has the lowest average while `5.5` have the highers average. `5 and 6` bathroom counts have the higers tax value.\n",
    "- `bedrooms_vs_tax_value`: `0` bedrooms has the lowest average while `5` have the highers average.`5, 6and 7` bedroom counts have the higers tax value.\n",
    "- `county_vs_tax_value`: `orange county` have a sighly higer average than the other counties but it's not by much. outliers might be affecting these counties. `Orange county` have the higers tax value.\n",
    "\n",
    "**Bivariate Statistics - Continuous**\n",
    "\n",
    "- `sqr_feet_vs_tax_value`: looks like a strong positive linear relationship between these two, but it is lossing the strength as it gains more sqare footage. this relationship looke to be strongest around 1500 sqr feet.\n",
    "- `tax_amount_vs_tax_value`: looks like a moderate positive linear relationship between these two, but it is lossing the strength as it gains more dollars. this relationship looke to be strongest around 2500 dollars.\n",
    "- `year)built_vs_tax_value`: looks like a positive linear relationship between these two. This relationship looke to be strongest around 1950 but countain miltiple little picks.\n",
    "\n",
    "**Multivariate Statistics**\n",
    "\n",
    "- `bathrooms_and_q`"
   ]
  },
  {
   "cell_type": "markdown",
   "id": "07757a1e",
   "metadata": {},
   "source": [
    "### Stats Test"
   ]
  },
  {
   "cell_type": "code",
   "execution_count": null,
   "id": "66d33172",
   "metadata": {},
   "outputs": [],
   "source": []
  }
 ],
 "metadata": {
  "kernelspec": {
   "display_name": "Python 3 (ipykernel)",
   "language": "python",
   "name": "python3"
  },
  "language_info": {
   "codemirror_mode": {
    "name": "ipython",
    "version": 3
   },
   "file_extension": ".py",
   "mimetype": "text/x-python",
   "name": "python",
   "nbconvert_exporter": "python",
   "pygments_lexer": "ipython3",
   "version": "3.10.9"
  }
 },
 "nbformat": 4,
 "nbformat_minor": 5
}
