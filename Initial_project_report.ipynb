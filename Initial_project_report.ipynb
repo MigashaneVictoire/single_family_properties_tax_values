{
 "cells": [
  {
   "cell_type": "markdown",
   "id": "6159687b",
   "metadata": {},
   "source": [
    "# Initial Project Report"
   ]
  },
  {
   "cell_type": "code",
   "execution_count": 1,
   "id": "39fa9861",
   "metadata": {},
   "outputs": [],
   "source": [
    "import pandas as pd\n",
    "import matplotlib.pyplot as plt\n",
    "import seaborn as sns\n",
    "\n",
    "# system import to access file on different directory \n",
    "import sys\n",
    "sys.path.append(\"./util_\")\n",
    "\n",
    "# # wrangle and eda files\n",
    "# import acquire_\n",
    "\n",
    "# import prepare_\n",
    "# import explore_\n",
    "# import hyp_test_\n",
    "# import final_visuals_\n",
    "# import model_"
   ]
  },
  {
   "cell_type": "markdown",
   "id": "161053c4",
   "metadata": {},
   "source": [
    "## Goal\n",
    "\n",
    "- Predicts single family properties tax assessed values.\n",
    "\n",
    "- Find the key drivers of property value for single family properties.\n",
    "\n",
    "    - Why do some properties have a much higher value than others when they are located so close to each other?\n",
    "    - Why are some properties valued so differently from others when they have nearly the same physical attributes but only differ in location?\n",
    "    - Is having 1 bathroom worse for property value than having 2 bedrooms?\n",
    " "
   ]
  },
  {
   "cell_type": "markdown",
   "id": "b29dd9d1",
   "metadata": {},
   "source": [
    "## Acquire\n",
    "\n",
    "I am using the Telco churn data from the Codeup database.\n",
    "\n",
    "- Query the following columns:\n",
    "    - `bedroomcnt, bathroomcnt,calculatedfinishedsquarefeet, taxvaluedollarcnt, yearbuilt, taxamount, fips`\n",
    "\n",
    "- 2152863 rows and 7 columns.\n",
    "- 7 numric and 0 object\n",
    "- 22778 total null count (1% of the data)"
   ]
  },
  {
   "cell_type": "markdown",
   "id": "daffe8a1",
   "metadata": {},
   "source": [
    "## Prepare\n",
    "\n",
    "- Remove all nulls (1% of the data)\n",
    "- Remove duplicated rows.\n",
    "- convert data type from float to int (bedrooms, bathrooms)\n",
    "- remove outliers\n",
    "- replace the fips code with county names and Encode county column.\n",
    "- Split data into train, validate, and test. (`60/20/20 ` split)\n",
    "- scale the humeric categorical and continuous variable and extract a copy of the original data frame.\n",
    "    - `bedrooms, bathrooms, sqr_feet, year_built, tax_amount`"
   ]
  },
  {
   "cell_type": "markdown",
   "id": "f7ffdbb9",
   "metadata": {},
   "source": [
    "## Data Dictionary\n",
    "\n",
    "| Column Name | Description |\n",
    "| ----------- | ----------- |\n",
    "| bedrooms | The number of bedrooms in the property. Bedrooms refer to individual rooms used primarily for sleeping and are typically found in residential properties. |\n",
    "| bathrooms | The number of bathrooms in the property. Bathrooms refer to rooms containing a toilet, sink, and typically a bathtub or shower, used for personal hygiene. |\n",
    "| sqr_feet | The total square footage of the property. Square footage is a measurement of the area covered by the property, indicating its size or living space. It is often used to estimate the property's value or to determine the price per square foot. |\n",
    "| tax_value | The assessed value of the property for tax purposes. Tax value represents the estimated worth of the property as determined by the local tax authority. It is used to calculate property taxes. |\n",
    "| year_built | The year in which the property was constructed or built. This indicates the age of the property and can be useful in assessing its condition or historical significance. |\n",
    "| tax_amount | The amount of tax owed on the property. Tax amount refers to the actual dollar amount that needs to be paid in property taxes based on the assessed tax value and local tax rates. |\n",
    "| county | The county where the property is located. County refers to a specific geographic region or administrative division within a state or country. It helps identify the property's location within a broader jurisdiction. |\n"
   ]
  },
  {
   "cell_type": "markdown",
   "id": "c945f23d",
   "metadata": {},
   "source": [
    "## Explore\n",
    "\n",
    "**Univariate Statistics**\n",
    "\n",
    "- `bathrooms` and `bedrooms`: looks to have some normality with some outliers.\n",
    "\n",
    "- `county`: three categories with Los Angeles having the largest porpotion.\n",
    "- `sqr_feet`: positive skew (right skew) with out liers starting at aout 3500 sqr feet.\n",
    "- `tax_amount`: bimodal distribution with two picks (modes) and contains outliers starting at about 12000 dollars.\n",
    "- `tax_value`: bimodal distribution with two picks (modes) and contains outliers starting at about 100000 dollars. (this may be do to the `0` values in bedroom and bathrooms)\n",
    "- `year built`: have some normality shape to it and some outliers . its pick is aroung the 1955.\n",
    "\n",
    "**Bivariate Statistics - Categorical**\n",
    "\n",
    "- `bathrooms_vs_tax_value`: `0` bathrooms has the lowest average while `5.5` have the highers average. `5 and 6` bathroom counts have the higers tax value.\n",
    "- `bedrooms_vs_tax_value`: `0` bedrooms has the lowest average while `5` have the highers average.`5, 6and 7` bedroom counts have the higers tax value.\n",
    "- `county_vs_tax_value`: `orange county` have a sighly higer average than the other counties but it's not by much. outliers might be affecting these counties. `Orange county` have the higers tax value.\n",
    "\n",
    "**Bivariate Statistics - Continuous**\n",
    "\n",
    "- `sqr_feet_vs_tax_value`: looks like a strong positive linear relationship between these two, but it is lossing the strength as it gains more sqare footage. this relationship looke to be strongest around 1500 sqr feet.\n",
    "- `tax_amount_vs_tax_value`: looks like a moderate positive linear relationship between these two, but it is lossing the strength as it gains more dollars. this relationship looke to be strongest around 2500 dollars.\n",
    "- `year)built_vs_tax_value`: looks like a positive linear relationship between these two. This relationship looke to be strongest around 1950 but countain miltiple little picks.\n",
    "\n",
    "**Multivariate Statistics**\n",
    "\n",
    "- `bathrooms_and_q`"
   ]
  },
  {
   "cell_type": "markdown",
   "id": "94d89164",
   "metadata": {},
   "source": [
    "### Stats Testing\n",
    "\n",
    "\n",
    "**1. Is there a linear relationship between the square footage of the property and the tax value?**\n",
    "\n",
    "    - Null_Hyp: There is no a linear relationship between the square footage of the property and the tax value\n",
    "\n",
    "    - Alt_Hyp: There is a linear relationship between the square footage of the property and the tax value\n",
    "\n",
    "- The correlation test shows that there is enough data to say that there is a relationship between square feet and tax valiue and our r-coeficient shows that this relashionship is strong.\n",
    "\n",
    "\n",
    "**A. Does the mean tax value differ significantly between properties with different square footage**\n",
    "\n",
    "    - Null_Hyp: The mean tax value differ significantly between properties with different square footage\n",
    "\n",
    "    - Alt_Hyp: The mean tax value does not differ significantly between properties with different square footage\n",
    "    \n",
    "- Stats test show that the mean tax value differ significantly between properties with different square footage"
   ]
  },
  {
   "cell_type": "markdown",
   "id": "ba6a45b6",
   "metadata": {},
   "source": [
    "**2. Do the number of bedrooms or bathrooms impact the tax value?**\n",
    "\n",
    "    - Null_Hyp: The number of bedrooms or bathrooms don't impact the tax value\n",
    "\n",
    "    - Alt_Hyp: The number of bedrooms or bathrooms impact the tax value\n",
    "    \n",
    "- The spearmanr test shows that there is enough data to say that there is a relationship between bedrooms and tax valiue and our r-coeficient shows that this relashionship is weak.\n",
    "\n",
    "- The spearmanr test shows that there is enough data to say that there is a relationship between bedrooms and tax valiue and our r-coeficient shows that this relashionship is moderate.\n",
    "\n",
    "\n",
    "**A. Is there a significant difference in the mean tax value between properties with low numbers of bedrooms or bathrooms against the properties with high numbers of bedrooms or bathrooms**\n",
    "\n",
    "    - Null_Hyp: There is a significant difference in the mean tax value between properties with low numbers of bedrooms or bathrooms against the properties with high numbers of bedrooms or bathrooms\n",
    "\n",
    "    - Alt_Hyp: There is no a significant difference in the mean tax value between properties with low numbers of bedrooms or bathrooms against the properties with high numbers of bedrooms or bathrooms\n",
    "    \n",
    "- Stat test shows that there is a significant difference in the mean tax value between properties with low numbers of bedrooms or bathrooms against the properties with high numbers of bedrooms or bathrooms"
   ]
  },
  {
   "cell_type": "markdown",
   "id": "9151326c",
   "metadata": {},
   "source": [
    "**3. Does the county where the property is located affect the tax value?**\n",
    "\n",
    "    - Null_Hyp: The county where the property is located does not affect the tax value\n",
    "\n",
    "    - Alt_Hyp: The county where the property is located affect the tax value\n",
    "    \n",
    "- The spearmanr test shows that there is enough data to say that there is a relationship between county and tax valiue and our r-coeficient shows that this relashionship is very weak.\n",
    "\n",
    "**A. Does the mean tax value differ significantly between properties in Los Angeles County compared to the other counties?**\n",
    "\n",
    "    - Null_Hyp: The mean tax value differ significantly between properties in Los Angeles County compared to the other counties?\n",
    "\n",
    "    - Alt_Hyp: The mean tax value does not differ significantly between properties in Los Angeles County compared to the other counties?\n",
    "    \n",
    "- Test show that the mean tax value does not differ significantly between properties in Los Angeles County compared to the other counties?"
   ]
  },
  {
   "cell_type": "markdown",
   "id": "cb51de14",
   "metadata": {},
   "source": [
    "**4. Does the year the property was built have any influence on its tax value?**\n",
    "\n",
    "    - Null_Hyp: The year the property was built have no influence on its tax value\n",
    "\n",
    "    - Alt_Hyp: The year the property was built have influence on its tax value\n",
    "\n",
    "- The spearmanr test shows that there is enough data to say that there is a relationship between year built and tax valiue and our r-coeficient shows that this relashionship is very weak.\n",
    "\n",
    "\n",
    "**A. Is there a significant difference in the mean tax value between properties built in different years?**\n",
    "\n",
    "    Null_H- yp: There is a significant difference in the mean tax value between properties built in different years\n",
    "\n",
    "    - Alt_Hyp: There is not a significant difference in the mean tax value between properties built in different years\n",
    "\n",
    "- Test reject null, we have data to say that there is not a significant difference in the mean tax value between properties built in different years."
   ]
  },
  {
   "cell_type": "markdown",
   "id": "ed96a55f",
   "metadata": {},
   "source": [
    "### Explore Summary"
   ]
  },
  {
   "cell_type": "markdown",
   "id": "ce5ab78d",
   "metadata": {},
   "source": [
    "## Modeling\n",
    "\n",
    "**Model features**\n",
    "\n",
    "    - `bedroomcnt, bathroomcnt,calculatedfinishedsquarefeet, taxvaluedollarcnt, yearbuilt, taxamount, county`\n",
    "    \n",
    "**Baseline RMSE**\n",
    "\n",
    "    - mean basline: 288337.8476118577\n",
    "    - median baseline: 296095.8199448605\n"
   ]
  },
  {
   "cell_type": "markdown",
   "id": "7fc53a32",
   "metadata": {},
   "source": [
    "### Linear Regression (OLS)\n",
    "\n",
    "OLS Regressor \n",
    "- Train RMSE: `235399.31`\n",
    "- Validate RMSE: `235138.62`\n",
    "- RMSE_difference `-260.69`\n",
    "- R2_validate `0.33`\n"
   ]
  },
  {
   "cell_type": "markdown",
   "id": "03c96c8a",
   "metadata": {},
   "source": [
    "### LassoLars\n",
    "\n",
    "Lasso + Lars\n",
    "\n",
    "- Train RMSE: `235399.22` \n",
    "- Validate RMSE:  `235138.92`\n",
    "- RMSE Difference:  `-260.30`\n",
    "- R2_validate: `0.33`"
   ]
  },
  {
   "cell_type": "markdown",
   "id": "9cedcdf6",
   "metadata": {},
   "source": [
    "### TweedieRegressor (GLM:Generalized Linear Model)\n",
    "\n",
    "Tweedie Regressor\n",
    "\n",
    "- Train RMSE: `236386.04` \n",
    "- Validate RMSE:  `236127.92`\n",
    "- RMSE Difference:  `-258.11`\n",
    "- R2_validate: `0.33`"
   ]
  },
  {
   "cell_type": "markdown",
   "id": "4b179dc8",
   "metadata": {},
   "source": [
    "### Polynomial Features\n",
    "\n",
    "Polynomial feature regressor\n",
    "\n",
    "- Train RMSE: `229654.86` \n",
    "- Validate RMSE:  `229364.37`\n",
    "- RMSE Difference:  `-290.49`\n",
    "- R2_validate: `0.37`"
   ]
  },
  {
   "cell_type": "markdown",
   "id": "7b4587bd",
   "metadata": {},
   "source": [
    "### Test the GLM\n",
    "\n",
    "- Train RMSE: `000` \n",
    "- Validate RMSE:  `000`\n",
    "- RMSE Difference:  `000`\n",
    "- R2_validate: `000`"
   ]
  },
  {
   "cell_type": "markdown",
   "id": "1f6c0491",
   "metadata": {},
   "source": [
    "### Comparing Models"
   ]
  },
  {
   "cell_type": "markdown",
   "id": "9a1d9a9c",
   "metadata": {},
   "source": [
    "## Conclusion\n",
    "\n",
    "### Explore\n",
    "\n",
    "### Modeling\n",
    "\n",
    "The final model performed significantly better than the baseline over 7%, and even did better than the train and validate cases.\n",
    "\n",
    "- Contract type, internet service type and technical support seems to be strong drivers for predicting churn in addition to there monthly charges.\n",
    "\n",
    "\n",
    "### Recomendatios\n",
    "\n",
    "### Next Steps\n",
    "\n",
    "- Collecte bettwe data on home condition"
   ]
  },
  {
   "cell_type": "code",
   "execution_count": null,
   "id": "9fa6a84a",
   "metadata": {},
   "outputs": [],
   "source": []
  }
 ],
 "metadata": {
  "kernelspec": {
   "display_name": "Python 3 (ipykernel)",
   "language": "python",
   "name": "python3"
  },
  "language_info": {
   "codemirror_mode": {
    "name": "ipython",
    "version": 3
   },
   "file_extension": ".py",
   "mimetype": "text/x-python",
   "name": "python",
   "nbconvert_exporter": "python",
   "pygments_lexer": "ipython3",
   "version": "3.10.9"
  }
 },
 "nbformat": 4,
 "nbformat_minor": 5
}
