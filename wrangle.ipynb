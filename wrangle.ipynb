{
 "cells": [
  {
   "cell_type": "markdown",
   "id": "06174f04",
   "metadata": {},
   "source": [
    "# Acquire\n",
    "\n",
    "**Goal: Your goal is to predict the values of single unit properties using the obervations from 2017.**\n",
    "\n",
    "**import**"
   ]
  },
  {
   "cell_type": "code",
   "execution_count": 1,
   "id": "6d5743ee",
   "metadata": {},
   "outputs": [],
   "source": [
    "# data manipulation\n",
    "import pandas as pd\n",
    "import numpy as np\n",
    "\n",
    "# data visualization\n",
    "import matplotlib.pyplot as plt\n",
    "import seaborn as sns\n",
    "\n",
    "# data separation/transformation\n",
    "from sklearn.model_selection import train_test_split\n",
    "from sklearn.preprocessing import MinMaxScaler\n",
    "\n",
    "# system manipulation\n",
    "import sys\n",
    "sys.path.append(\"./util_\")\n",
    "import acquire_\n",
    "import prepare_\n",
    "\n",
    "# other\n",
    "import warnings\n",
    "warnings.filterwarnings(\"ignore\")\n"
   ]
  },
  {
   "cell_type": "markdown",
   "id": "b82b4656",
   "metadata": {},
   "source": [
    "**get data**"
   ]
  },
  {
   "cell_type": "code",
   "execution_count": 2,
   "id": "15a0f3a0",
   "metadata": {},
   "outputs": [],
   "source": [
    "# sql query\n",
    "query = \"\"\"\n",
    "SELECT bedroomcnt, \n",
    "        bathroomcnt,\n",
    "        calculatedfinishedsquarefeet,\n",
    "        taxvaluedollarcnt,\n",
    "        yearbuilt,\n",
    "        taxamount,\n",
    "        fips,\n",
    "        latitude,\n",
    "        longitude        \n",
    "FROM properties_2017\n",
    "WHERE propertylandusetypeid = 261; -- Single family home\n",
    "\"\"\""
   ]
  },
  {
   "cell_type": "code",
   "execution_count": 3,
   "id": "198f93ec",
   "metadata": {},
   "outputs": [],
   "source": [
    "# get data from codeup database\n",
    "zillow, q = acquire_.get_codeup_sql_data_(db_name=\"zillow\", query=query,fileName=\"zillow_single_family\")\n"
   ]
  },
  {
   "cell_type": "markdown",
   "id": "60f43d12",
   "metadata": {},
   "source": [
    "**Understand data**"
   ]
  },
  {
   "cell_type": "code",
   "execution_count": 4,
   "id": "b5b9675d",
   "metadata": {},
   "outputs": [
    {
     "data": {
      "text/html": [
       "<div>\n",
       "<style scoped>\n",
       "    .dataframe tbody tr th:only-of-type {\n",
       "        vertical-align: middle;\n",
       "    }\n",
       "\n",
       "    .dataframe tbody tr th {\n",
       "        vertical-align: top;\n",
       "    }\n",
       "\n",
       "    .dataframe thead th {\n",
       "        text-align: right;\n",
       "    }\n",
       "</style>\n",
       "<table border=\"1\" class=\"dataframe\">\n",
       "  <thead>\n",
       "    <tr style=\"text-align: right;\">\n",
       "      <th></th>\n",
       "      <th>bedroomcnt</th>\n",
       "      <th>bathroomcnt</th>\n",
       "      <th>calculatedfinishedsquarefeet</th>\n",
       "      <th>taxvaluedollarcnt</th>\n",
       "      <th>yearbuilt</th>\n",
       "      <th>taxamount</th>\n",
       "      <th>fips</th>\n",
       "      <th>latitude</th>\n",
       "      <th>longitude</th>\n",
       "    </tr>\n",
       "  </thead>\n",
       "  <tbody>\n",
       "    <tr>\n",
       "      <th>0</th>\n",
       "      <td>0.0</td>\n",
       "      <td>0.0</td>\n",
       "      <td>NaN</td>\n",
       "      <td>27516.0</td>\n",
       "      <td>NaN</td>\n",
       "      <td>NaN</td>\n",
       "      <td>6037.0</td>\n",
       "      <td>34140430.0</td>\n",
       "      <td>-118625364.0</td>\n",
       "    </tr>\n",
       "    <tr>\n",
       "      <th>1</th>\n",
       "      <td>0.0</td>\n",
       "      <td>0.0</td>\n",
       "      <td>NaN</td>\n",
       "      <td>10.0</td>\n",
       "      <td>NaN</td>\n",
       "      <td>NaN</td>\n",
       "      <td>6037.0</td>\n",
       "      <td>34585014.0</td>\n",
       "      <td>-118162010.0</td>\n",
       "    </tr>\n",
       "    <tr>\n",
       "      <th>2</th>\n",
       "      <td>0.0</td>\n",
       "      <td>0.0</td>\n",
       "      <td>NaN</td>\n",
       "      <td>10.0</td>\n",
       "      <td>NaN</td>\n",
       "      <td>NaN</td>\n",
       "      <td>6037.0</td>\n",
       "      <td>34563376.0</td>\n",
       "      <td>-118019104.0</td>\n",
       "    </tr>\n",
       "    <tr>\n",
       "      <th>3</th>\n",
       "      <td>0.0</td>\n",
       "      <td>0.0</td>\n",
       "      <td>NaN</td>\n",
       "      <td>2108.0</td>\n",
       "      <td>NaN</td>\n",
       "      <td>174.21</td>\n",
       "      <td>6037.0</td>\n",
       "      <td>34526913.0</td>\n",
       "      <td>-118050581.0</td>\n",
       "    </tr>\n",
       "    <tr>\n",
       "      <th>4</th>\n",
       "      <td>4.0</td>\n",
       "      <td>2.0</td>\n",
       "      <td>3633.0</td>\n",
       "      <td>296425.0</td>\n",
       "      <td>2005.0</td>\n",
       "      <td>6941.39</td>\n",
       "      <td>6037.0</td>\n",
       "      <td>34560018.0</td>\n",
       "      <td>-118169806.0</td>\n",
       "    </tr>\n",
       "  </tbody>\n",
       "</table>\n",
       "</div>"
      ],
      "text/plain": [
       "   bedroomcnt  bathroomcnt  calculatedfinishedsquarefeet  taxvaluedollarcnt  \\\n",
       "0         0.0          0.0                           NaN            27516.0   \n",
       "1         0.0          0.0                           NaN               10.0   \n",
       "2         0.0          0.0                           NaN               10.0   \n",
       "3         0.0          0.0                           NaN             2108.0   \n",
       "4         4.0          2.0                        3633.0           296425.0   \n",
       "\n",
       "   yearbuilt  taxamount    fips    latitude    longitude  \n",
       "0        NaN        NaN  6037.0  34140430.0 -118625364.0  \n",
       "1        NaN        NaN  6037.0  34585014.0 -118162010.0  \n",
       "2        NaN        NaN  6037.0  34563376.0 -118019104.0  \n",
       "3        NaN     174.21  6037.0  34526913.0 -118050581.0  \n",
       "4     2005.0    6941.39  6037.0  34560018.0 -118169806.0  "
      ]
     },
     "execution_count": 4,
     "metadata": {},
     "output_type": "execute_result"
    }
   ],
   "source": [
    "zillow.head()"
   ]
  },
  {
   "cell_type": "code",
   "execution_count": 5,
   "id": "4ae4da04",
   "metadata": {},
   "outputs": [
    {
     "data": {
      "text/plain": [
       "(2152863, 9)"
      ]
     },
     "execution_count": 5,
     "metadata": {},
     "output_type": "execute_result"
    }
   ],
   "source": [
    "zillow.shape"
   ]
  },
  {
   "cell_type": "code",
   "execution_count": 6,
   "id": "66fcee59",
   "metadata": {},
   "outputs": [
    {
     "data": {
      "text/plain": [
       "Index(['bedroomcnt', 'bathroomcnt', 'calculatedfinishedsquarefeet',\n",
       "       'taxvaluedollarcnt', 'yearbuilt', 'taxamount', 'fips', 'latitude',\n",
       "       'longitude'],\n",
       "      dtype='object')"
      ]
     },
     "execution_count": 6,
     "metadata": {},
     "output_type": "execute_result"
    }
   ],
   "source": [
    "zillow.columns"
   ]
  },
  {
   "cell_type": "code",
   "execution_count": 7,
   "id": "11b576f3",
   "metadata": {},
   "outputs": [
    {
     "name": "stdout",
     "output_type": "stream",
     "text": [
      "<class 'pandas.core.frame.DataFrame'>\n",
      "RangeIndex: 2152863 entries, 0 to 2152862\n",
      "Data columns (total 9 columns):\n",
      " #   Column                        Non-Null Count    Dtype  \n",
      "---  ------                        --------------    -----  \n",
      " 0   bedroomcnt                    2152852 non-null  float64\n",
      " 1   bathroomcnt                   2152852 non-null  float64\n",
      " 2   calculatedfinishedsquarefeet  2144379 non-null  float64\n",
      " 3   taxvaluedollarcnt             2152370 non-null  float64\n",
      " 4   yearbuilt                     2143526 non-null  float64\n",
      " 5   taxamount                     2148421 non-null  float64\n",
      " 6   fips                          2152863 non-null  float64\n",
      " 7   latitude                      2152863 non-null  float64\n",
      " 8   longitude                     2152863 non-null  float64\n",
      "dtypes: float64(9)\n",
      "memory usage: 147.8 MB\n"
     ]
    }
   ],
   "source": [
    "zillow.info(show_counts=True)"
   ]
  },
  {
   "cell_type": "code",
   "execution_count": 8,
   "id": "5078177f",
   "metadata": {},
   "outputs": [
    {
     "data": {
      "text/html": [
       "<div>\n",
       "<style scoped>\n",
       "    .dataframe tbody tr th:only-of-type {\n",
       "        vertical-align: middle;\n",
       "    }\n",
       "\n",
       "    .dataframe tbody tr th {\n",
       "        vertical-align: top;\n",
       "    }\n",
       "\n",
       "    .dataframe thead th {\n",
       "        text-align: right;\n",
       "    }\n",
       "</style>\n",
       "<table border=\"1\" class=\"dataframe\">\n",
       "  <thead>\n",
       "    <tr style=\"text-align: right;\">\n",
       "      <th></th>\n",
       "      <th>bedroomcnt</th>\n",
       "      <th>bathroomcnt</th>\n",
       "      <th>calculatedfinishedsquarefeet</th>\n",
       "      <th>taxvaluedollarcnt</th>\n",
       "      <th>yearbuilt</th>\n",
       "      <th>taxamount</th>\n",
       "      <th>fips</th>\n",
       "      <th>latitude</th>\n",
       "      <th>longitude</th>\n",
       "    </tr>\n",
       "  </thead>\n",
       "  <tbody>\n",
       "    <tr>\n",
       "      <th>count</th>\n",
       "      <td>2.152852e+06</td>\n",
       "      <td>2.152852e+06</td>\n",
       "      <td>2.144379e+06</td>\n",
       "      <td>2.152370e+06</td>\n",
       "      <td>2.143526e+06</td>\n",
       "      <td>2.148421e+06</td>\n",
       "      <td>2.152863e+06</td>\n",
       "      <td>2.152863e+06</td>\n",
       "      <td>2.152863e+06</td>\n",
       "    </tr>\n",
       "    <tr>\n",
       "      <th>mean</th>\n",
       "      <td>3.287196e+00</td>\n",
       "      <td>2.230688e+00</td>\n",
       "      <td>1.862855e+03</td>\n",
       "      <td>4.618962e+05</td>\n",
       "      <td>1.960950e+03</td>\n",
       "      <td>5.634866e+03</td>\n",
       "      <td>6.048377e+03</td>\n",
       "      <td>3.400747e+07</td>\n",
       "      <td>-1.181912e+08</td>\n",
       "    </tr>\n",
       "    <tr>\n",
       "      <th>std</th>\n",
       "      <td>9.547544e-01</td>\n",
       "      <td>9.992796e-01</td>\n",
       "      <td>1.222125e+03</td>\n",
       "      <td>6.996760e+05</td>\n",
       "      <td>2.216220e+01</td>\n",
       "      <td>8.178910e+03</td>\n",
       "      <td>2.043329e+01</td>\n",
       "      <td>2.481654e+05</td>\n",
       "      <td>3.439660e+05</td>\n",
       "    </tr>\n",
       "    <tr>\n",
       "      <th>min</th>\n",
       "      <td>0.000000e+00</td>\n",
       "      <td>0.000000e+00</td>\n",
       "      <td>1.000000e+00</td>\n",
       "      <td>1.000000e+00</td>\n",
       "      <td>1.801000e+03</td>\n",
       "      <td>1.850000e+00</td>\n",
       "      <td>6.037000e+03</td>\n",
       "      <td>3.333991e+07</td>\n",
       "      <td>-1.194758e+08</td>\n",
       "    </tr>\n",
       "    <tr>\n",
       "      <th>25%</th>\n",
       "      <td>3.000000e+00</td>\n",
       "      <td>2.000000e+00</td>\n",
       "      <td>1.257000e+03</td>\n",
       "      <td>1.881702e+05</td>\n",
       "      <td>1.949000e+03</td>\n",
       "      <td>2.534980e+03</td>\n",
       "      <td>6.037000e+03</td>\n",
       "      <td>3.383213e+07</td>\n",
       "      <td>-1.183845e+08</td>\n",
       "    </tr>\n",
       "    <tr>\n",
       "      <th>50%</th>\n",
       "      <td>3.000000e+00</td>\n",
       "      <td>2.000000e+00</td>\n",
       "      <td>1.623000e+03</td>\n",
       "      <td>3.276710e+05</td>\n",
       "      <td>1.958000e+03</td>\n",
       "      <td>4.108950e+03</td>\n",
       "      <td>6.037000e+03</td>\n",
       "      <td>3.400455e+07</td>\n",
       "      <td>-1.181447e+08</td>\n",
       "    </tr>\n",
       "    <tr>\n",
       "      <th>75%</th>\n",
       "      <td>4.000000e+00</td>\n",
       "      <td>3.000000e+00</td>\n",
       "      <td>2.208000e+03</td>\n",
       "      <td>5.345270e+05</td>\n",
       "      <td>1.976000e+03</td>\n",
       "      <td>6.414320e+03</td>\n",
       "      <td>6.059000e+03</td>\n",
       "      <td>3.417047e+07</td>\n",
       "      <td>-1.179442e+08</td>\n",
       "    </tr>\n",
       "    <tr>\n",
       "      <th>max</th>\n",
       "      <td>2.500000e+01</td>\n",
       "      <td>3.200000e+01</td>\n",
       "      <td>9.525760e+05</td>\n",
       "      <td>9.842891e+07</td>\n",
       "      <td>2.016000e+03</td>\n",
       "      <td>1.337756e+06</td>\n",
       "      <td>6.111000e+03</td>\n",
       "      <td>3.481965e+07</td>\n",
       "      <td>-1.175543e+08</td>\n",
       "    </tr>\n",
       "  </tbody>\n",
       "</table>\n",
       "</div>"
      ],
      "text/plain": [
       "         bedroomcnt   bathroomcnt  calculatedfinishedsquarefeet  \\\n",
       "count  2.152852e+06  2.152852e+06                  2.144379e+06   \n",
       "mean   3.287196e+00  2.230688e+00                  1.862855e+03   \n",
       "std    9.547544e-01  9.992796e-01                  1.222125e+03   \n",
       "min    0.000000e+00  0.000000e+00                  1.000000e+00   \n",
       "25%    3.000000e+00  2.000000e+00                  1.257000e+03   \n",
       "50%    3.000000e+00  2.000000e+00                  1.623000e+03   \n",
       "75%    4.000000e+00  3.000000e+00                  2.208000e+03   \n",
       "max    2.500000e+01  3.200000e+01                  9.525760e+05   \n",
       "\n",
       "       taxvaluedollarcnt     yearbuilt     taxamount          fips  \\\n",
       "count       2.152370e+06  2.143526e+06  2.148421e+06  2.152863e+06   \n",
       "mean        4.618962e+05  1.960950e+03  5.634866e+03  6.048377e+03   \n",
       "std         6.996760e+05  2.216220e+01  8.178910e+03  2.043329e+01   \n",
       "min         1.000000e+00  1.801000e+03  1.850000e+00  6.037000e+03   \n",
       "25%         1.881702e+05  1.949000e+03  2.534980e+03  6.037000e+03   \n",
       "50%         3.276710e+05  1.958000e+03  4.108950e+03  6.037000e+03   \n",
       "75%         5.345270e+05  1.976000e+03  6.414320e+03  6.059000e+03   \n",
       "max         9.842891e+07  2.016000e+03  1.337756e+06  6.111000e+03   \n",
       "\n",
       "           latitude     longitude  \n",
       "count  2.152863e+06  2.152863e+06  \n",
       "mean   3.400747e+07 -1.181912e+08  \n",
       "std    2.481654e+05  3.439660e+05  \n",
       "min    3.333991e+07 -1.194758e+08  \n",
       "25%    3.383213e+07 -1.183845e+08  \n",
       "50%    3.400455e+07 -1.181447e+08  \n",
       "75%    3.417047e+07 -1.179442e+08  \n",
       "max    3.481965e+07 -1.175543e+08  "
      ]
     },
     "execution_count": 8,
     "metadata": {},
     "output_type": "execute_result"
    }
   ],
   "source": [
    "zillow.describe()"
   ]
  },
  {
   "cell_type": "code",
   "execution_count": 9,
   "id": "93bb08c6",
   "metadata": {},
   "outputs": [
    {
     "name": "stdout",
     "output_type": "stream",
     "text": [
      "Numeric col count: 9\n",
      "object col count: 0\n"
     ]
    }
   ],
   "source": [
    "# count of numeric columns and object columns\n",
    "numerics = len(zillow.select_dtypes(\"number\").columns)\n",
    "objects = len(zillow.select_dtypes(\"object\").columns)\n",
    "\n",
    "print(\"Numeric col count:\", numerics)\n",
    "print(\"object col count:\", objects)"
   ]
  },
  {
   "cell_type": "markdown",
   "id": "82ddac19",
   "metadata": {},
   "source": [
    "**What I see:**\n",
    "\n",
    "- I have 2152863 rows and 7 columns\n",
    "- 7 of the 29 columns are numric while 0 of them are string object colums\n",
    "- I have unsure null values in my data\n",
    "- I also see the descriptive statistics of my data"
   ]
  },
  {
   "cell_type": "markdown",
   "id": "9e6bfa4b",
   "metadata": {},
   "source": [
    "# Prepare"
   ]
  },
  {
   "cell_type": "markdown",
   "id": "dca305e6",
   "metadata": {},
   "source": [
    "**Rename columns**"
   ]
  },
  {
   "cell_type": "code",
   "execution_count": 10,
   "id": "8045f98d",
   "metadata": {},
   "outputs": [],
   "source": [
    "# rename dataframe columns\n",
    "zillow = zillow.rename(columns={\"bedroomcnt\":\"bedrooms\",\n",
    "                       \"bathroomcnt\":\"bathrooms\",\n",
    "                       \"calculatedfinishedsquarefeet\":\"sqr_feet\",\n",
    "                      \"taxvaluedollarcnt\":\"tax_value\",\n",
    "                      \"yearbuilt\":\"year_built\",\n",
    "                      \"taxamount\":\"tax_amount\",\n",
    "                      \"fips\":\"county\"})"
   ]
  },
  {
   "cell_type": "markdown",
   "id": "fb266d4e",
   "metadata": {},
   "source": [
    "**drop nulls**"
   ]
  },
  {
   "cell_type": "code",
   "execution_count": 11,
   "id": "2c08a476",
   "metadata": {},
   "outputs": [],
   "source": [
    "# drop all nulls in the dataframe\n",
    "zillow = zillow.dropna()"
   ]
  },
  {
   "cell_type": "markdown",
   "id": "4a8230a0",
   "metadata": {},
   "source": [
    "**convert data type**"
   ]
  },
  {
   "cell_type": "code",
   "execution_count": 12,
   "id": "7a939fa9",
   "metadata": {},
   "outputs": [],
   "source": [
    "# convert data type from float to int\n",
    "zillow.bedrooms = zillow.bedrooms.astype(int)\n",
    "zillow.year_built = zillow.year_built.astype(int)"
   ]
  },
  {
   "cell_type": "markdown",
   "id": "a748cca4",
   "metadata": {},
   "source": [
    "**Remove duplicated rows**"
   ]
  },
  {
   "cell_type": "code",
   "execution_count": 13,
   "id": "11f51429",
   "metadata": {},
   "outputs": [],
   "source": [
    "# remove the duplocated rows\n",
    "zillow = zillow.drop_duplicates(keep=\"first\")"
   ]
  },
  {
   "cell_type": "markdown",
   "id": "0f652bbb",
   "metadata": {},
   "source": [
    "**Remove outliers**\n",
    "\n",
    "This is done using box plot in the explore phase. only looking at the training data."
   ]
  },
  {
   "cell_type": "code",
   "execution_count": 14,
   "id": "3028e3e7",
   "metadata": {},
   "outputs": [],
   "source": [
    "# remove outliers\n",
    "zillow = zillow[zillow.bedrooms <= 7]\n",
    "zillow = zillow[zillow.bathrooms <= 7]\n",
    "zillow = zillow[zillow.year_built >= 1900]\n",
    "zillow = zillow[zillow.sqr_feet <= 5000]\n",
    "zillow = zillow[zillow.tax_amount <= 20000]"
   ]
  },
  {
   "cell_type": "markdown",
   "id": "cfb115e3",
   "metadata": {},
   "source": [
    "**feature transformation**"
   ]
  },
  {
   "cell_type": "code",
   "execution_count": 15,
   "id": "3ff17dbc",
   "metadata": {},
   "outputs": [],
   "source": [
    "# Rename the unique values in fips to county names\n",
    "zillow.county = zillow.county.astype(str).str.replace(\"6037.0\",\"Los Angeles\").str.replace(\"6059.0\",\"Orange\").str.replace(\"6111.0\",\"Sam Juan\")\n"
   ]
  },
  {
   "cell_type": "markdown",
   "id": "315e8353",
   "metadata": {},
   "source": [
    "**Create dummies**"
   ]
  },
  {
   "cell_type": "code",
   "execution_count": 16,
   "id": "79ab99df",
   "metadata": {},
   "outputs": [
    {
     "data": {
      "text/html": [
       "<div>\n",
       "<style scoped>\n",
       "    .dataframe tbody tr th:only-of-type {\n",
       "        vertical-align: middle;\n",
       "    }\n",
       "\n",
       "    .dataframe tbody tr th {\n",
       "        vertical-align: top;\n",
       "    }\n",
       "\n",
       "    .dataframe thead th {\n",
       "        text-align: right;\n",
       "    }\n",
       "</style>\n",
       "<table border=\"1\" class=\"dataframe\">\n",
       "  <thead>\n",
       "    <tr style=\"text-align: right;\">\n",
       "      <th></th>\n",
       "      <th>Los Angeles</th>\n",
       "      <th>Orange</th>\n",
       "      <th>Sam Juan</th>\n",
       "    </tr>\n",
       "  </thead>\n",
       "  <tbody>\n",
       "    <tr>\n",
       "      <th>4</th>\n",
       "      <td>1</td>\n",
       "      <td>0</td>\n",
       "      <td>0</td>\n",
       "    </tr>\n",
       "    <tr>\n",
       "      <th>6</th>\n",
       "      <td>1</td>\n",
       "      <td>0</td>\n",
       "      <td>0</td>\n",
       "    </tr>\n",
       "  </tbody>\n",
       "</table>\n",
       "</div>"
      ],
      "text/plain": [
       "   Los Angeles  Orange  Sam Juan\n",
       "4            1       0         0\n",
       "6            1       0         0"
      ]
     },
     "execution_count": 16,
     "metadata": {},
     "output_type": "execute_result"
    }
   ],
   "source": [
    "# create dummie variables\n",
    "dummies = pd.get_dummies(zillow.county)\n",
    "\n",
    "# clean dummie column names\n",
    "dummies_col = dummies.columns.str.replace(\" \", \"_\").str.lower()\n",
    "\n",
    "dummies.head(2)"
   ]
  },
  {
   "cell_type": "code",
   "execution_count": 17,
   "id": "a3df4c05",
   "metadata": {},
   "outputs": [
    {
     "data": {
      "text/html": [
       "<div>\n",
       "<style scoped>\n",
       "    .dataframe tbody tr th:only-of-type {\n",
       "        vertical-align: middle;\n",
       "    }\n",
       "\n",
       "    .dataframe tbody tr th {\n",
       "        vertical-align: top;\n",
       "    }\n",
       "\n",
       "    .dataframe thead th {\n",
       "        text-align: right;\n",
       "    }\n",
       "</style>\n",
       "<table border=\"1\" class=\"dataframe\">\n",
       "  <thead>\n",
       "    <tr style=\"text-align: right;\">\n",
       "      <th></th>\n",
       "      <th>bedrooms</th>\n",
       "      <th>bathrooms</th>\n",
       "      <th>sqr_feet</th>\n",
       "      <th>tax_value</th>\n",
       "      <th>year_built</th>\n",
       "      <th>tax_amount</th>\n",
       "      <th>county</th>\n",
       "      <th>latitude</th>\n",
       "      <th>longitude</th>\n",
       "      <th>los_angeles</th>\n",
       "      <th>orange</th>\n",
       "      <th>sam_juan</th>\n",
       "    </tr>\n",
       "  </thead>\n",
       "  <tbody>\n",
       "    <tr>\n",
       "      <th>4</th>\n",
       "      <td>4</td>\n",
       "      <td>2.0</td>\n",
       "      <td>3633.0</td>\n",
       "      <td>296425.0</td>\n",
       "      <td>2005</td>\n",
       "      <td>6941.39</td>\n",
       "      <td>Los Angeles</td>\n",
       "      <td>34560018.0</td>\n",
       "      <td>-118169806.0</td>\n",
       "      <td>1</td>\n",
       "      <td>0</td>\n",
       "      <td>0</td>\n",
       "    </tr>\n",
       "    <tr>\n",
       "      <th>6</th>\n",
       "      <td>3</td>\n",
       "      <td>4.0</td>\n",
       "      <td>1620.0</td>\n",
       "      <td>847770.0</td>\n",
       "      <td>2011</td>\n",
       "      <td>10244.94</td>\n",
       "      <td>Los Angeles</td>\n",
       "      <td>33996200.0</td>\n",
       "      <td>-118438000.0</td>\n",
       "      <td>1</td>\n",
       "      <td>0</td>\n",
       "      <td>0</td>\n",
       "    </tr>\n",
       "  </tbody>\n",
       "</table>\n",
       "</div>"
      ],
      "text/plain": [
       "   bedrooms  bathrooms  sqr_feet  tax_value  year_built  tax_amount  \\\n",
       "4         4        2.0    3633.0   296425.0        2005     6941.39   \n",
       "6         3        4.0    1620.0   847770.0        2011    10244.94   \n",
       "\n",
       "        county    latitude    longitude  los_angeles  orange  sam_juan  \n",
       "4  Los Angeles  34560018.0 -118169806.0            1       0         0  \n",
       "6  Los Angeles  33996200.0 -118438000.0            1       0         0  "
      ]
     },
     "execution_count": 17,
     "metadata": {},
     "output_type": "execute_result"
    }
   ],
   "source": [
    "# make a copy of my original data frame\n",
    "zillow_encoded_scaled = zillow.copy()\n",
    "\n",
    "# add dummies to my data frame\n",
    "zillow_encoded_scaled[dummies_col] = dummies\n",
    "zillow_encoded_scaled.head(2)"
   ]
  },
  {
   "cell_type": "markdown",
   "id": "e8a7c0be",
   "metadata": {},
   "source": [
    "## Split"
   ]
  },
  {
   "cell_type": "code",
   "execution_count": 18,
   "id": "ce748ac4",
   "metadata": {},
   "outputs": [
    {
     "data": {
      "text/plain": [
       "((1243601, 12), (414534, 12), (414534, 12))"
      ]
     },
     "execution_count": 18,
     "metadata": {},
     "output_type": "execute_result"
    }
   ],
   "source": [
    "# split the data into training, validation and testing sets\n",
    "train, validate, test = prepare_.split_data_(df=zillow_encoded_scaled,\n",
    "                    test_size=0.2, \n",
    "                     validate_size=0.2, \n",
    "                     random_state=95)\n",
    "(train.shape, validate.shape, test.shape)"
   ]
  },
  {
   "cell_type": "markdown",
   "id": "4cde777f",
   "metadata": {},
   "source": [
    "**Scale data**"
   ]
  },
  {
   "cell_type": "code",
   "execution_count": 19,
   "id": "43b338e5",
   "metadata": {},
   "outputs": [
    {
     "data": {
      "text/html": [
       "<div>\n",
       "<style scoped>\n",
       "    .dataframe tbody tr th:only-of-type {\n",
       "        vertical-align: middle;\n",
       "    }\n",
       "\n",
       "    .dataframe tbody tr th {\n",
       "        vertical-align: top;\n",
       "    }\n",
       "\n",
       "    .dataframe thead th {\n",
       "        text-align: right;\n",
       "    }\n",
       "</style>\n",
       "<table border=\"1\" class=\"dataframe\">\n",
       "  <thead>\n",
       "    <tr style=\"text-align: right;\">\n",
       "      <th></th>\n",
       "      <th>bedrooms</th>\n",
       "      <th>bathrooms</th>\n",
       "      <th>sqr_feet</th>\n",
       "      <th>year_built</th>\n",
       "      <th>tax_amount</th>\n",
       "    </tr>\n",
       "  </thead>\n",
       "  <tbody>\n",
       "    <tr>\n",
       "      <th>1580543</th>\n",
       "      <td>3</td>\n",
       "      <td>2.0</td>\n",
       "      <td>1719.0</td>\n",
       "      <td>1976</td>\n",
       "      <td>5158.46</td>\n",
       "    </tr>\n",
       "    <tr>\n",
       "      <th>1776927</th>\n",
       "      <td>4</td>\n",
       "      <td>2.0</td>\n",
       "      <td>1729.0</td>\n",
       "      <td>1968</td>\n",
       "      <td>2901.78</td>\n",
       "    </tr>\n",
       "  </tbody>\n",
       "</table>\n",
       "</div>"
      ],
      "text/plain": [
       "         bedrooms  bathrooms  sqr_feet  year_built  tax_amount\n",
       "1580543         3        2.0    1719.0        1976     5158.46\n",
       "1776927         4        2.0    1729.0        1968     2901.78"
      ]
     },
     "execution_count": 19,
     "metadata": {},
     "output_type": "execute_result"
    }
   ],
   "source": [
    "# scalable features\n",
    "features_to_scale = train[['bedrooms','bathrooms','sqr_feet','year_built','tax_amount']]\n",
    "\n",
    "features_to_scale.head(2)"
   ]
  },
  {
   "cell_type": "code",
   "execution_count": 20,
   "id": "c3f34634",
   "metadata": {},
   "outputs": [],
   "source": [
    "# build a scaling object\n",
    "scaler = MinMaxScaler()\n",
    "\n",
    "# Note that we only call .fit with the training data,\n",
    "# but we use .transform to apply the scaling to all the data splits.\n",
    "# y Target values: this is not being changed in any way(no predictions are being made)\n",
    "x_train_scaled = scaler.fit_transform(X=features_to_scale,)\n",
    "\n",
    "# transfrom the validate and test using the minMax object\n",
    "x_val_scaled = scaler.transform(X=validate[features_to_scale.columns])\n",
    "x_test_scaled = scaler.transform(X=test[features_to_scale.columns])\n"
   ]
  },
  {
   "cell_type": "code",
   "execution_count": 21,
   "id": "4144b31c",
   "metadata": {},
   "outputs": [
    {
     "data": {
      "text/plain": [
       "array([[0.42857143, 0.28571429, 0.34366873, 0.65517241, 0.25742734],\n",
       "       [0.57142857, 0.28571429, 0.34566913, 0.5862069 , 0.14451599],\n",
       "       [0.42857143, 0.28571429, 0.33966793, 0.34482759, 0.02414904],\n",
       "       ...,\n",
       "       [0.42857143, 0.28571429, 0.31866373, 0.50862069, 0.06743569],\n",
       "       [0.42857143, 0.28571429, 0.29445889, 0.6637931 , 0.21413868],\n",
       "       [0.42857143, 0.28571429, 0.26505301, 0.53448276, 0.1410246 ]])"
      ]
     },
     "execution_count": 21,
     "metadata": {},
     "output_type": "execute_result"
    }
   ],
   "source": [
    "x_train_scaled"
   ]
  },
  {
   "cell_type": "markdown",
   "id": "154cd06c",
   "metadata": {},
   "source": [
    "**Convert scaled features to dataframe**"
   ]
  },
  {
   "cell_type": "code",
   "execution_count": 22,
   "id": "3e78505f",
   "metadata": {},
   "outputs": [
    {
     "data": {
      "text/plain": [
       "['bedrooms_scaled',\n",
       " 'bathrooms_scaled',\n",
       " 'sqr_feet_scaled',\n",
       " 'year_built_scaled',\n",
       " 'tax_amount_scaled']"
      ]
     },
     "execution_count": 22,
     "metadata": {},
     "output_type": "execute_result"
    }
   ],
   "source": [
    "# New _ariable mames to add to data\n",
    "new_scale_col = []\n",
    "for i in features_to_scale.columns:\n",
    "    new_scale_col.append(f\"{i}_scaled\")\n",
    "\n",
    "new_scale_col"
   ]
  },
  {
   "cell_type": "code",
   "execution_count": 23,
   "id": "59b42efe",
   "metadata": {},
   "outputs": [
    {
     "data": {
      "text/html": [
       "<div>\n",
       "<style scoped>\n",
       "    .dataframe tbody tr th:only-of-type {\n",
       "        vertical-align: middle;\n",
       "    }\n",
       "\n",
       "    .dataframe tbody tr th {\n",
       "        vertical-align: top;\n",
       "    }\n",
       "\n",
       "    .dataframe thead th {\n",
       "        text-align: right;\n",
       "    }\n",
       "</style>\n",
       "<table border=\"1\" class=\"dataframe\">\n",
       "  <thead>\n",
       "    <tr style=\"text-align: right;\">\n",
       "      <th></th>\n",
       "      <th>bedrooms_scaled</th>\n",
       "      <th>bathrooms_scaled</th>\n",
       "      <th>sqr_feet_scaled</th>\n",
       "      <th>year_built_scaled</th>\n",
       "      <th>tax_amount_scaled</th>\n",
       "    </tr>\n",
       "  </thead>\n",
       "  <tbody>\n",
       "    <tr>\n",
       "      <th>0</th>\n",
       "      <td>0.428571</td>\n",
       "      <td>0.285714</td>\n",
       "      <td>0.343669</td>\n",
       "      <td>0.655172</td>\n",
       "      <td>0.257427</td>\n",
       "    </tr>\n",
       "    <tr>\n",
       "      <th>1</th>\n",
       "      <td>0.571429</td>\n",
       "      <td>0.285714</td>\n",
       "      <td>0.345669</td>\n",
       "      <td>0.586207</td>\n",
       "      <td>0.144516</td>\n",
       "    </tr>\n",
       "    <tr>\n",
       "      <th>2</th>\n",
       "      <td>0.428571</td>\n",
       "      <td>0.285714</td>\n",
       "      <td>0.339668</td>\n",
       "      <td>0.344828</td>\n",
       "      <td>0.024149</td>\n",
       "    </tr>\n",
       "    <tr>\n",
       "      <th>3</th>\n",
       "      <td>0.428571</td>\n",
       "      <td>0.285714</td>\n",
       "      <td>0.290258</td>\n",
       "      <td>0.482759</td>\n",
       "      <td>0.053821</td>\n",
       "    </tr>\n",
       "    <tr>\n",
       "      <th>4</th>\n",
       "      <td>0.571429</td>\n",
       "      <td>0.428571</td>\n",
       "      <td>0.687538</td>\n",
       "      <td>0.732759</td>\n",
       "      <td>0.456343</td>\n",
       "    </tr>\n",
       "  </tbody>\n",
       "</table>\n",
       "</div>"
      ],
      "text/plain": [
       "   bedrooms_scaled  bathrooms_scaled  sqr_feet_scaled  year_built_scaled  \\\n",
       "0         0.428571          0.285714         0.343669           0.655172   \n",
       "1         0.571429          0.285714         0.345669           0.586207   \n",
       "2         0.428571          0.285714         0.339668           0.344828   \n",
       "3         0.428571          0.285714         0.290258           0.482759   \n",
       "4         0.571429          0.428571         0.687538           0.732759   \n",
       "\n",
       "   tax_amount_scaled  \n",
       "0           0.257427  \n",
       "1           0.144516  \n",
       "2           0.024149  \n",
       "3           0.053821  \n",
       "4           0.456343  "
      ]
     },
     "execution_count": 23,
     "metadata": {},
     "output_type": "execute_result"
    }
   ],
   "source": [
    "# convert to dataframe\n",
    "x_train_scaled = pd.DataFrame(x_train_scaled)\n",
    "x_val_scaled = pd.DataFrame(x_val_scaled)\n",
    "x_test_scaled = pd.DataFrame(x_test_scaled)\n",
    "\n",
    "# add new column names back to the data frame\n",
    "x_train_scaled[new_scale_col] = x_train_scaled\n",
    "x_val_scaled[new_scale_col] = x_val_scaled\n",
    "x_test_scaled[new_scale_col] = x_test_scaled\n",
    "\n",
    "# remove redundent columns from new dataframe\n",
    "x_train_scaled = x_train_scaled[new_scale_col]\n",
    "x_val_scaled = x_val_scaled[new_scale_col]\n",
    "x_test_scaled = x_test_scaled[new_scale_col]\n",
    "\n",
    "x_train_scaled.head()"
   ]
  },
  {
   "cell_type": "code",
   "execution_count": 30,
   "id": "ba233d97",
   "metadata": {},
   "outputs": [
    {
     "data": {
      "text/plain": [
       "(1243601, 5)"
      ]
     },
     "execution_count": 30,
     "metadata": {},
     "output_type": "execute_result"
    }
   ],
   "source": [
    "x_train_scaled.shape"
   ]
  },
  {
   "cell_type": "markdown",
   "id": "5c736798",
   "metadata": {},
   "source": [
    "**Add scaled columns to a copy of original data**"
   ]
  },
  {
   "cell_type": "code",
   "execution_count": 24,
   "id": "7144a384",
   "metadata": {},
   "outputs": [],
   "source": [
    "train[x_train_scaled.columns] = x_train_scaled\n",
    "validate[x_val_scaled.columns] = x_val_scaled\n",
    "test[x_test_scaled.columns] = x_test_scaled"
   ]
  },
  {
   "cell_type": "code",
   "execution_count": 31,
   "id": "74b3239b",
   "metadata": {},
   "outputs": [
    {
     "data": {
      "text/html": [
       "<div>\n",
       "<style scoped>\n",
       "    .dataframe tbody tr th:only-of-type {\n",
       "        vertical-align: middle;\n",
       "    }\n",
       "\n",
       "    .dataframe tbody tr th {\n",
       "        vertical-align: top;\n",
       "    }\n",
       "\n",
       "    .dataframe thead th {\n",
       "        text-align: right;\n",
       "    }\n",
       "</style>\n",
       "<table border=\"1\" class=\"dataframe\">\n",
       "  <thead>\n",
       "    <tr style=\"text-align: right;\">\n",
       "      <th></th>\n",
       "      <th>bedrooms</th>\n",
       "      <th>bathrooms</th>\n",
       "      <th>sqr_feet</th>\n",
       "      <th>tax_value</th>\n",
       "      <th>year_built</th>\n",
       "      <th>tax_amount</th>\n",
       "      <th>county</th>\n",
       "      <th>latitude</th>\n",
       "      <th>longitude</th>\n",
       "      <th>los_angeles</th>\n",
       "      <th>orange</th>\n",
       "      <th>sam_juan</th>\n",
       "      <th>bedrooms_scaled</th>\n",
       "      <th>bathrooms_scaled</th>\n",
       "      <th>sqr_feet_scaled</th>\n",
       "      <th>year_built_scaled</th>\n",
       "      <th>tax_amount_scaled</th>\n",
       "    </tr>\n",
       "  </thead>\n",
       "  <tbody>\n",
       "    <tr>\n",
       "      <th>532476</th>\n",
       "      <td>3</td>\n",
       "      <td>2.0</td>\n",
       "      <td>1699.0</td>\n",
       "      <td>50343.0</td>\n",
       "      <td>1940</td>\n",
       "      <td>496.09</td>\n",
       "      <td>Los Angeles</td>\n",
       "      <td>33917890.0</td>\n",
       "      <td>-118197747.0</td>\n",
       "      <td>1</td>\n",
       "      <td>0</td>\n",
       "      <td>0</td>\n",
       "      <td>0.428571</td>\n",
       "      <td>0.285714</td>\n",
       "      <td>0.243449</td>\n",
       "      <td>0.465517</td>\n",
       "      <td>0.165679</td>\n",
       "    </tr>\n",
       "    <tr>\n",
       "      <th>1159344</th>\n",
       "      <td>4</td>\n",
       "      <td>2.0</td>\n",
       "      <td>2009.0</td>\n",
       "      <td>615802.0</td>\n",
       "      <td>1975</td>\n",
       "      <td>7255.22</td>\n",
       "      <td>Los Angeles</td>\n",
       "      <td>34143859.0</td>\n",
       "      <td>-117841236.0</td>\n",
       "      <td>1</td>\n",
       "      <td>0</td>\n",
       "      <td>0</td>\n",
       "      <td>0.428571</td>\n",
       "      <td>0.285714</td>\n",
       "      <td>0.294059</td>\n",
       "      <td>0.448276</td>\n",
       "      <td>0.130605</td>\n",
       "    </tr>\n",
       "    <tr>\n",
       "      <th>404423</th>\n",
       "      <td>4</td>\n",
       "      <td>2.0</td>\n",
       "      <td>1843.0</td>\n",
       "      <td>557492.0</td>\n",
       "      <td>1947</td>\n",
       "      <td>6704.29</td>\n",
       "      <td>Los Angeles</td>\n",
       "      <td>33776525.0</td>\n",
       "      <td>-118327552.0</td>\n",
       "      <td>1</td>\n",
       "      <td>0</td>\n",
       "      <td>0</td>\n",
       "      <td>0.285714</td>\n",
       "      <td>0.285714</td>\n",
       "      <td>0.322264</td>\n",
       "      <td>0.232759</td>\n",
       "      <td>0.251746</td>\n",
       "    </tr>\n",
       "    <tr>\n",
       "      <th>1150179</th>\n",
       "      <td>3</td>\n",
       "      <td>2.5</td>\n",
       "      <td>1794.0</td>\n",
       "      <td>524851.0</td>\n",
       "      <td>1986</td>\n",
       "      <td>6284.76</td>\n",
       "      <td>Orange</td>\n",
       "      <td>33881313.0</td>\n",
       "      <td>-117845895.0</td>\n",
       "      <td>0</td>\n",
       "      <td>1</td>\n",
       "      <td>0</td>\n",
       "      <td>0.571429</td>\n",
       "      <td>0.428571</td>\n",
       "      <td>0.468894</td>\n",
       "      <td>0.646552</td>\n",
       "      <td>0.106146</td>\n",
       "    </tr>\n",
       "    <tr>\n",
       "      <th>1049513</th>\n",
       "      <td>2</td>\n",
       "      <td>1.0</td>\n",
       "      <td>1307.0</td>\n",
       "      <td>437000.0</td>\n",
       "      <td>1941</td>\n",
       "      <td>5146.71</td>\n",
       "      <td>Los Angeles</td>\n",
       "      <td>33894911.0</td>\n",
       "      <td>-118132660.0</td>\n",
       "      <td>1</td>\n",
       "      <td>0</td>\n",
       "      <td>0</td>\n",
       "      <td>0.428571</td>\n",
       "      <td>0.357143</td>\n",
       "      <td>0.596919</td>\n",
       "      <td>0.750000</td>\n",
       "      <td>0.526721</td>\n",
       "    </tr>\n",
       "    <tr>\n",
       "      <th>...</th>\n",
       "      <td>...</td>\n",
       "      <td>...</td>\n",
       "      <td>...</td>\n",
       "      <td>...</td>\n",
       "      <td>...</td>\n",
       "      <td>...</td>\n",
       "      <td>...</td>\n",
       "      <td>...</td>\n",
       "      <td>...</td>\n",
       "      <td>...</td>\n",
       "      <td>...</td>\n",
       "      <td>...</td>\n",
       "      <td>...</td>\n",
       "      <td>...</td>\n",
       "      <td>...</td>\n",
       "      <td>...</td>\n",
       "      <td>...</td>\n",
       "    </tr>\n",
       "    <tr>\n",
       "      <th>502203</th>\n",
       "      <td>2</td>\n",
       "      <td>1.0</td>\n",
       "      <td>692.0</td>\n",
       "      <td>98606.0</td>\n",
       "      <td>1913</td>\n",
       "      <td>1414.88</td>\n",
       "      <td>Los Angeles</td>\n",
       "      <td>34063596.0</td>\n",
       "      <td>-117758469.0</td>\n",
       "      <td>1</td>\n",
       "      <td>0</td>\n",
       "      <td>0</td>\n",
       "      <td>0.285714</td>\n",
       "      <td>0.142857</td>\n",
       "      <td>0.212643</td>\n",
       "      <td>0.112069</td>\n",
       "      <td>0.111903</td>\n",
       "    </tr>\n",
       "    <tr>\n",
       "      <th>383192</th>\n",
       "      <td>3</td>\n",
       "      <td>1.0</td>\n",
       "      <td>1242.0</td>\n",
       "      <td>421328.0</td>\n",
       "      <td>1949</td>\n",
       "      <td>5396.98</td>\n",
       "      <td>Los Angeles</td>\n",
       "      <td>33921223.0</td>\n",
       "      <td>-118078152.0</td>\n",
       "      <td>1</td>\n",
       "      <td>0</td>\n",
       "      <td>0</td>\n",
       "      <td>0.571429</td>\n",
       "      <td>0.428571</td>\n",
       "      <td>0.597520</td>\n",
       "      <td>0.758621</td>\n",
       "      <td>0.315197</td>\n",
       "    </tr>\n",
       "    <tr>\n",
       "      <th>1088549</th>\n",
       "      <td>3</td>\n",
       "      <td>2.0</td>\n",
       "      <td>1594.0</td>\n",
       "      <td>102627.0</td>\n",
       "      <td>1959</td>\n",
       "      <td>1361.23</td>\n",
       "      <td>Los Angeles</td>\n",
       "      <td>34203318.0</td>\n",
       "      <td>-118563213.0</td>\n",
       "      <td>1</td>\n",
       "      <td>0</td>\n",
       "      <td>0</td>\n",
       "      <td>0.428571</td>\n",
       "      <td>0.285714</td>\n",
       "      <td>0.452691</td>\n",
       "      <td>0.525862</td>\n",
       "      <td>0.321837</td>\n",
       "    </tr>\n",
       "    <tr>\n",
       "      <th>1240079</th>\n",
       "      <td>3</td>\n",
       "      <td>2.0</td>\n",
       "      <td>1473.0</td>\n",
       "      <td>348674.0</td>\n",
       "      <td>1977</td>\n",
       "      <td>4293.28</td>\n",
       "      <td>Los Angeles</td>\n",
       "      <td>34257515.0</td>\n",
       "      <td>-118454988.0</td>\n",
       "      <td>1</td>\n",
       "      <td>0</td>\n",
       "      <td>0</td>\n",
       "      <td>0.571429</td>\n",
       "      <td>0.285714</td>\n",
       "      <td>0.250050</td>\n",
       "      <td>0.094828</td>\n",
       "      <td>0.120765</td>\n",
       "    </tr>\n",
       "    <tr>\n",
       "      <th>786314</th>\n",
       "      <td>3</td>\n",
       "      <td>2.0</td>\n",
       "      <td>1326.0</td>\n",
       "      <td>257643.0</td>\n",
       "      <td>1962</td>\n",
       "      <td>2832.00</td>\n",
       "      <td>Sam Juan</td>\n",
       "      <td>34230782.0</td>\n",
       "      <td>-119057348.0</td>\n",
       "      <td>0</td>\n",
       "      <td>0</td>\n",
       "      <td>1</td>\n",
       "      <td>0.428571</td>\n",
       "      <td>0.285714</td>\n",
       "      <td>0.276255</td>\n",
       "      <td>0.439655</td>\n",
       "      <td>0.053837</td>\n",
       "    </tr>\n",
       "  </tbody>\n",
       "</table>\n",
       "<p>718424 rows × 17 columns</p>\n",
       "</div>"
      ],
      "text/plain": [
       "         bedrooms  bathrooms  sqr_feet  tax_value  year_built  tax_amount  \\\n",
       "532476          3        2.0    1699.0    50343.0        1940      496.09   \n",
       "1159344         4        2.0    2009.0   615802.0        1975     7255.22   \n",
       "404423          4        2.0    1843.0   557492.0        1947     6704.29   \n",
       "1150179         3        2.5    1794.0   524851.0        1986     6284.76   \n",
       "1049513         2        1.0    1307.0   437000.0        1941     5146.71   \n",
       "...           ...        ...       ...        ...         ...         ...   \n",
       "502203          2        1.0     692.0    98606.0        1913     1414.88   \n",
       "383192          3        1.0    1242.0   421328.0        1949     5396.98   \n",
       "1088549         3        2.0    1594.0   102627.0        1959     1361.23   \n",
       "1240079         3        2.0    1473.0   348674.0        1977     4293.28   \n",
       "786314          3        2.0    1326.0   257643.0        1962     2832.00   \n",
       "\n",
       "              county    latitude    longitude  los_angeles  orange  sam_juan  \\\n",
       "532476   Los Angeles  33917890.0 -118197747.0            1       0         0   \n",
       "1159344  Los Angeles  34143859.0 -117841236.0            1       0         0   \n",
       "404423   Los Angeles  33776525.0 -118327552.0            1       0         0   \n",
       "1150179       Orange  33881313.0 -117845895.0            0       1         0   \n",
       "1049513  Los Angeles  33894911.0 -118132660.0            1       0         0   \n",
       "...              ...         ...          ...          ...     ...       ...   \n",
       "502203   Los Angeles  34063596.0 -117758469.0            1       0         0   \n",
       "383192   Los Angeles  33921223.0 -118078152.0            1       0         0   \n",
       "1088549  Los Angeles  34203318.0 -118563213.0            1       0         0   \n",
       "1240079  Los Angeles  34257515.0 -118454988.0            1       0         0   \n",
       "786314      Sam Juan  34230782.0 -119057348.0            0       0         1   \n",
       "\n",
       "         bedrooms_scaled  bathrooms_scaled  sqr_feet_scaled  \\\n",
       "532476          0.428571          0.285714         0.243449   \n",
       "1159344         0.428571          0.285714         0.294059   \n",
       "404423          0.285714          0.285714         0.322264   \n",
       "1150179         0.571429          0.428571         0.468894   \n",
       "1049513         0.428571          0.357143         0.596919   \n",
       "...                  ...               ...              ...   \n",
       "502203          0.285714          0.142857         0.212643   \n",
       "383192          0.571429          0.428571         0.597520   \n",
       "1088549         0.428571          0.285714         0.452691   \n",
       "1240079         0.571429          0.285714         0.250050   \n",
       "786314          0.428571          0.285714         0.276255   \n",
       "\n",
       "         year_built_scaled  tax_amount_scaled  \n",
       "532476            0.465517           0.165679  \n",
       "1159344           0.448276           0.130605  \n",
       "404423            0.232759           0.251746  \n",
       "1150179           0.646552           0.106146  \n",
       "1049513           0.750000           0.526721  \n",
       "...                    ...                ...  \n",
       "502203            0.112069           0.111903  \n",
       "383192            0.758621           0.315197  \n",
       "1088549           0.525862           0.321837  \n",
       "1240079           0.094828           0.120765  \n",
       "786314            0.439655           0.053837  \n",
       "\n",
       "[718424 rows x 17 columns]"
      ]
     },
     "execution_count": 31,
     "metadata": {},
     "output_type": "execute_result"
    }
   ],
   "source": [
    "train.dropna()"
   ]
  },
  {
   "cell_type": "markdown",
   "id": "1c8a7ebf",
   "metadata": {},
   "source": [
    "**Save split**"
   ]
  },
  {
   "cell_type": "code",
   "execution_count": 27,
   "id": "907211c8",
   "metadata": {},
   "outputs": [],
   "source": [
    "# prepare_.save_split_data(encoded_df=zillow, train=train, validate=validate, test=test)"
   ]
  }
 ],
 "metadata": {
  "kernelspec": {
   "display_name": "Python 3 (ipykernel)",
   "language": "python",
   "name": "python3"
  },
  "language_info": {
   "codemirror_mode": {
    "name": "ipython",
    "version": 3
   },
   "file_extension": ".py",
   "mimetype": "text/x-python",
   "name": "python",
   "nbconvert_exporter": "python",
   "pygments_lexer": "ipython3",
   "version": "3.10.9"
  }
 },
 "nbformat": 4,
 "nbformat_minor": 5
}
