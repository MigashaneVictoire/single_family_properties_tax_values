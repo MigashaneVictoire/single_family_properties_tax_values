{
 "cells": [
  {
   "cell_type": "markdown",
   "id": "6159687b",
   "metadata": {},
   "source": [
    "# Initial Project Report"
   ]
  },
  {
   "cell_type": "code",
   "execution_count": 1,
   "id": "39fa9861",
   "metadata": {},
   "outputs": [],
   "source": [
    "import pandas as pd\n",
    "import matplotlib.pyplot as plt\n",
    "import seaborn as sns\n",
    "\n",
    "# system import to access file on different directory \n",
    "import sys\n",
    "sys.path.append(\"./util_\")\n",
    "\n",
    "# # wrangle and eda files\n",
    "# import acquire_\n",
    "\n",
    "# import prepare_\n",
    "# import explore_\n",
    "# import hyp_test_\n",
    "# import final_visuals_\n",
    "# import model_"
   ]
  },
  {
   "cell_type": "markdown",
   "id": "161053c4",
   "metadata": {},
   "source": [
    "## Goal\n",
    "\n",
    "- Predicts single family properties tax assessed values.\n",
    "\n",
    "- Find the key drivers of property value for single family properties.\n"
   ]
  },
  {
   "cell_type": "markdown",
   "id": "b29dd9d1",
   "metadata": {},
   "source": [
    "## Acquire\n",
    "\n",
    "I am using the Telco churn data from the Codeup database.\n",
    "\n",
    "- Query the following columns:\n",
    "    - `bedroomcnt, bathroomcnt,calculatedfinishedsquarefeet, taxvaluedollarcnt, yearbuilt, taxamount, fips`\n",
    "\n",
    "- 2152863 rows and 7 columns.\n",
    "- 7 numeric and 0 object\n",
    "- 22778 total null count (1% of the data)"
   ]
  },
  {
   "cell_type": "markdown",
   "id": "daffe8a1",
   "metadata": {},
   "source": [
    "## Prepare\n",
    "\n",
    "- Remove all nulls (1% of the data)\n",
    "- Remove duplicated rows.\n",
    "- convert data type from float to int (bedrooms, bathrooms)\n",
    "- remove outliers\n",
    "- replace the fips code with county names and Encode county column.\n",
    "- Split data into train, validate, and test. (`60/20/20 ` split)\n",
    "- scale the numeric categorical and continuous variables and extract a copy of the original data frame.\n",
    "    - `bedrooms, bathrooms, sqr_feet, year_built,`"
   ]
  },
  {
   "cell_type": "markdown",
   "id": "f7ffdbb9",
   "metadata": {},
   "source": [
    "## Data Dictionary\n",
    "\n",
    "| Column Name | Description |\n",
    "| ----------- | ----------- |\n",
    "| bedrooms | The number of bedrooms in the property. Bedrooms refer to individual rooms used primarily for sleeping and are typically found in residential properties. |\n",
    "| bathrooms | The number of bathrooms in the property. Bathrooms refer to rooms containing a toilet, sink, and typically a bathtub or shower, used for personal hygiene. |\n",
    "| sqr_feet | The total square footage of the property. Square footage is a measurement of the area covered by the property, indicating its size or living space. It is often used to estimate the property's value or to determine the price per square foot. |\n",
    "| tax_value | The assessed value of the property for tax purposes. Tax value represents the estimated worth of the property as determined by the local tax authority. It is used to calculate property taxes. |\n",
    "| year_built | The year in which the property was constructed or built. This indicates the age of the property and can be useful in assessing its condition or historical significance. |\n",
    "| tax_amount | The amount of tax owed on the property. Tax amount refers to the actual dollar amount that needs to be paid in property taxes based on the assessed tax value and local tax rates. |\n",
    "| county | The county where the property is located. County refers to a specific geographic region or administrative division within a state or country. It helps identify the property's location within a broader jurisdiction. |\n"
   ]
  },
  {
   "cell_type": "markdown",
   "id": "c945f23d",
   "metadata": {},
   "source": [
    "## Explore"
   ]
  },
  {
   "cell_type": "markdown",
   "id": "553fe482",
   "metadata": {},
   "source": [
    "**1. Is there a linear relationship between the square footage of the property and the tax value?**\n",
    "\n",
    "- The data we have is enough to say that there is a relationship between square feet and tax value and that this relationship is **strong**.\n",
    "\n",
    "**A. Does the mean tax value differ significantly between properties with different square footage**\n",
    "\n",
    "- $H_o$: The mean tax value differs significantly between properties with different square footage.\n",
    "\n",
    "    - `We reject the null hypothesis`\n",
    "    \n",
    "- The test says that the mean tax value does not differ significantly between properties with different square footage."
   ]
  },
  {
   "cell_type": "markdown",
   "id": "cef675bc",
   "metadata": {},
   "source": [
    "**2. Do the number of bedrooms or bathrooms impact the tax value?**\n",
    "    \n",
    "- The Spearman test shows that there is enough data to say that there is a relationship between bedrooms and tax value and our r-coefficient shows that this relationship is **weak**.\n",
    "\n",
    "- The Spearman test shows that there is enough data to say that there is a relationship between bedrooms and tax value and our r-coefficient shows that this relationship is **moderate**.\n",
    "\n",
    "**A. Is there a significant difference in the mean tax value between properties with low numbers of bedrooms or bathrooms against the properties with high numbers of bedrooms or bathrooms**\n",
    "\n",
    "- $H_0$: There is a significant difference in the mean tax value between properties with low numbers of bedrooms or bathrooms against the properties with high numbers of bedrooms or bathrooms\n",
    "    \n",
    "    - `We fail to reject the null hypothesis`\n",
    "\n",
    "- The test says that there is a `significant difference` in the mean tax value between properties with low numbers of bedrooms or bathrooms against the properties with high numbers of bedrooms or bathrooms."
   ]
  },
  {
   "cell_type": "markdown",
   "id": "e846f02e",
   "metadata": {},
   "source": [
    "**3. Does the county where the property is located affect the tax value?**\n",
    "\n",
    "- The Spearman test shows that there is enough data to say that there is a relationship between county and tax value and our r-coefficient shows that this relationship is **very weak**.\n",
    "\n",
    "**A. Does the mean tax value differ significantly between properties in Los Angeles County compared to the other counties?**\n",
    "\n",
    "- $H_0$: The mean tax value differs significantly between properties in Los Angeles County compared to the other counties.\n",
    "\n",
    "    - `We reject the null hypothesis`\n",
    "    \n",
    "- Test show that the mean tax value does not differ significantly between properties in Los Angeles County compared to the other counties?"
   ]
  },
  {
   "cell_type": "markdown",
   "id": "cc9561a2",
   "metadata": {},
   "source": [
    "**4. Does the year the property was built have any influence on its tax value?**\n",
    "\n",
    "- The Spearman test shows that we have enough data to say that there is a relationship between year built and tax value and that this relationship is **very weak**.\n",
    "\n",
    "**A. Is there a significant difference in the mean tax value between properties built in different years?**\n",
    "\n",
    "- $H_0$: There is a significant difference in the mean tax value between properties built in different years\n",
    "\n",
    "    - `We reject the null hypothesis`\n",
    "    \n",
    "- We have data to say that there is not a significant difference in the mean tax value between properties built in different years."
   ]
  },
  {
   "cell_type": "markdown",
   "id": "174b9987",
   "metadata": {},
   "source": [
    "### Explore Summary\n",
    "\n",
    "- The test says that the mean tax value does not differ significantly between properties with different square footage.\n",
    "\n",
    "- The test says that there is a significant difference in the mean tax value between properties with low numbers of bedrooms or bathrooms against the properties with high numbers of bedrooms or bathrooms.\n",
    "\n",
    "- Test show that the mean tax value does not differ significantly between properties in Los Angeles County compared to the other counties.\n",
    "\n",
    "- We have data to say that there is not a significant difference in the mean tax value between properties built in different years."
   ]
  },
  {
   "cell_type": "markdown",
   "id": "ce5ab78d",
   "metadata": {},
   "source": [
    "## Modeling\n",
    "\n",
    "**Model features**\n",
    "\n",
    "- `bedroomcnt, bathroomcnt,calculatedfinishedsquarefeet, taxvaluedollarcnt, yearbuilt, county`\n",
    "    \n",
    "**Baseline RMSE**\n",
    "\n",
    "- mean basline: `288337.85`\n"
   ]
  },
  {
   "cell_type": "markdown",
   "id": "83a0a0f0",
   "metadata": {},
   "source": [
    "### Linear Regression (OLS)\n",
    "\n",
    "OLS Regressor \n",
    "- Train RMSE: `235399.31`\n",
    "- Validate RMSE: `235138.62`\n",
    "- RMSE_difference `-260.69`\n",
    "- R2_validate `0.33`\n"
   ]
  },
  {
   "cell_type": "markdown",
   "id": "9f850b0d",
   "metadata": {},
   "source": [
    "### LassoLars\n",
    "\n",
    "Lasso + Lars\n",
    "\n",
    "- Train RMSE: `235399.22` \n",
    "- Validate RMSE:  `235138.92`\n",
    "- RMSE Difference:  `-260.30`\n",
    "- R2_validate: `0.33`"
   ]
  },
  {
   "cell_type": "markdown",
   "id": "fde1586a",
   "metadata": {},
   "source": [
    "### TweedieRegressor (GLM:Generalized Linear Model)\n",
    "\n",
    "Tweedie Regressor\n",
    "\n",
    "- Train RMSE: `236386.04` \n",
    "- Validate RMSE:  `236127.92`\n",
    "- RMSE Difference:  `-258.11`\n",
    "- R2_validate: `0.33`"
   ]
  },
  {
   "cell_type": "markdown",
   "id": "96ec361a",
   "metadata": {},
   "source": [
    "### Polynomial Features\n",
    "\n",
    "Polynomial feature regressor (Power 3)\n",
    "\n",
    "- Train RMSE: `229654.86` \n",
    "- Validate RMSE:  `229364.37`\n",
    "- RMSE Difference:  `-290.49`\n",
    "- R2_validate: `0.37`"
   ]
  },
  {
   "cell_type": "markdown",
   "id": "23870205",
   "metadata": {},
   "source": [
    "### Test the Cubic Regression\n",
    "\n",
    "- Train RMSE: `000` \n",
    "- Validate RMSE:  `000`\n",
    "- RMSE Difference:  `000`\n",
    "- R2_validate: `000`"
   ]
  },
  {
   "cell_type": "markdown",
   "id": "ff823031",
   "metadata": {},
   "source": [
    "### Comparing Models\n",
    "\n",
    "| Model | Validation RMSE | R<sup>2</sup> Value |\n",
    "| ---- | ----| ---- |\n",
    "| Baseline | 288337.85 ||\n",
    "| Linear Regression (OLS) | 235138.62 |0.33|  \n",
    "| Tweedie Regressor (GLM) | 236127.92 |0.33|  \n",
    "| Lasso Lars | 235138.92 |0.33|  \n",
    "| Cubic Regression | 229364.37 |0.37| "
   ]
  },
  {
   "cell_type": "markdown",
   "id": "9a1d9a9c",
   "metadata": {},
   "source": [
    "## Conclusion\n",
    "\n",
    "### Explore\n",
    "\n",
    "- The test says that the mean tax value does not differ significantly between properties with different square footage.\n",
    "\n",
    "- The test says that there is a significant difference in the mean tax value between properties with low numbers of bedrooms or bathrooms against the properties with high numbers of bedrooms or bathrooms.\n",
    "\n",
    "- Test show that the mean tax value does not differ significantly between properties in Los Angeles County compared to the other counties.\n",
    "\n",
    "- We have data to say that there is not a significant difference in the mean tax value between properties built in different years.\n",
    "\n",
    "### Modeling\n",
    "\n",
    "The final (Cubic Regression) model performed significantly better than the baseline by about 5%. Saving $100000 since 1% is about $20000.\n",
    "\n",
    "- Bedrooms, bathrooms, square feet, year built, and county seems to be moderate drivers for predicting tax value.\n",
    "\n",
    "### Recommendations\n",
    "\n",
    "Some properties have a much higher value than others when they are located so close to each other mostly due to the size, year built, and the number of rooms in the house. So to better predict home value we should look father into the condition of the house and identify a unique indoor or outdoor feature that some homes have that makes them worth more or less to the current housing market.\n",
    "\n",
    "### Next Steps\n",
    "\n",
    "- Collect bettwe data on current home conditions."
   ]
  }
 ],
 "metadata": {
  "kernelspec": {
   "display_name": "Python 3 (ipykernel)",
   "language": "python",
   "name": "python3"
  },
  "language_info": {
   "codemirror_mode": {
    "name": "ipython",
    "version": 3
   },
   "file_extension": ".py",
   "mimetype": "text/x-python",
   "name": "python",
   "nbconvert_exporter": "python",
   "pygments_lexer": "ipython3",
   "version": "3.10.9"
  }
 },
 "nbformat": 4,
 "nbformat_minor": 5
}
