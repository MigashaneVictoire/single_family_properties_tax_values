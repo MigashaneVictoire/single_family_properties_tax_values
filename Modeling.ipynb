{
 "cells": [
  {
   "cell_type": "markdown",
   "id": "badfd69d",
   "metadata": {},
   "source": [
    "# Modeling"
   ]
  },
  {
   "cell_type": "code",
   "execution_count": 1,
   "id": "4dec98b8",
   "metadata": {},
   "outputs": [],
   "source": [
    "# data manipulation\n",
    "import pandas as pd\n",
    "import numpy as np\n",
    "\n",
    "# data visualization\n",
    "import matplotlib.pyplot as plt\n",
    "import seaborn as sns\n",
    "\n",
    "# modeling\n",
    "from sklearn.linear_model import LinearRegression, LassoLars, TweedieRegressor\n",
    "from sklearn.metrics import mean_squared_error\n",
    "from sklearn.preprocessing import PolynomialFeatures\n",
    "from sklearn.metrics import explained_variance_score\n",
    "\n",
    "# statistics testing\n",
    "import scipy.stats as stats\n",
    "\n",
    "# system manipulation\n",
    "import itertools\n",
    "import os\n",
    "import sys\n",
    "sys.path.append(\"./util_\")\n",
    "import prepare_\n",
    "import explore_\n",
    "\n",
    "# other\n",
    "import env\n",
    "import warnings\n",
    "warnings.filterwarnings(\"ignore\")\n",
    "\n",
    "# set the random seed\n",
    "np.random.seed(95)"
   ]
  },
  {
   "cell_type": "markdown",
   "id": "cee22d20",
   "metadata": {},
   "source": [
    "**Get train and validate datasets**"
   ]
  },
  {
   "cell_type": "code",
   "execution_count": 2,
   "id": "96860081",
   "metadata": {},
   "outputs": [
    {
     "data": {
      "text/html": [
       "<div>\n",
       "<style scoped>\n",
       "    .dataframe tbody tr th:only-of-type {\n",
       "        vertical-align: middle;\n",
       "    }\n",
       "\n",
       "    .dataframe tbody tr th {\n",
       "        vertical-align: top;\n",
       "    }\n",
       "\n",
       "    .dataframe thead th {\n",
       "        text-align: right;\n",
       "    }\n",
       "</style>\n",
       "<table border=\"1\" class=\"dataframe\">\n",
       "  <thead>\n",
       "    <tr style=\"text-align: right;\">\n",
       "      <th></th>\n",
       "      <th>tax_value</th>\n",
       "      <th>county</th>\n",
       "      <th>los_angeles</th>\n",
       "      <th>orange</th>\n",
       "      <th>ventura</th>\n",
       "      <th>bedrooms_scaled</th>\n",
       "      <th>bathrooms_scaled</th>\n",
       "      <th>sqr_feet_scaled</th>\n",
       "      <th>year_built_scaled</th>\n",
       "      <th>tax_amount_scaled</th>\n",
       "    </tr>\n",
       "  </thead>\n",
       "  <tbody>\n",
       "    <tr>\n",
       "      <th>0</th>\n",
       "      <td>385794.0</td>\n",
       "      <td>Los Angeles</td>\n",
       "      <td>1</td>\n",
       "      <td>0</td>\n",
       "      <td>0</td>\n",
       "      <td>0.75</td>\n",
       "      <td>0.444444</td>\n",
       "      <td>0.199454</td>\n",
       "      <td>0.424528</td>\n",
       "      <td>0.248709</td>\n",
       "    </tr>\n",
       "    <tr>\n",
       "      <th>1</th>\n",
       "      <td>206832.0</td>\n",
       "      <td>Los Angeles</td>\n",
       "      <td>1</td>\n",
       "      <td>0</td>\n",
       "      <td>0</td>\n",
       "      <td>0.50</td>\n",
       "      <td>0.222222</td>\n",
       "      <td>0.141558</td>\n",
       "      <td>0.283019</td>\n",
       "      <td>0.138462</td>\n",
       "    </tr>\n",
       "    <tr>\n",
       "      <th>2</th>\n",
       "      <td>526078.0</td>\n",
       "      <td>Ventura</td>\n",
       "      <td>0</td>\n",
       "      <td>0</td>\n",
       "      <td>1</td>\n",
       "      <td>0.75</td>\n",
       "      <td>0.444444</td>\n",
       "      <td>0.457108</td>\n",
       "      <td>0.424528</td>\n",
       "      <td>0.276061</td>\n",
       "    </tr>\n",
       "    <tr>\n",
       "      <th>3</th>\n",
       "      <td>468240.0</td>\n",
       "      <td>Los Angeles</td>\n",
       "      <td>1</td>\n",
       "      <td>0</td>\n",
       "      <td>0</td>\n",
       "      <td>0.75</td>\n",
       "      <td>0.666667</td>\n",
       "      <td>0.526523</td>\n",
       "      <td>0.424528</td>\n",
       "      <td>0.268749</td>\n",
       "    </tr>\n",
       "    <tr>\n",
       "      <th>4</th>\n",
       "      <td>270136.0</td>\n",
       "      <td>Orange</td>\n",
       "      <td>0</td>\n",
       "      <td>1</td>\n",
       "      <td>0</td>\n",
       "      <td>1.00</td>\n",
       "      <td>0.444444</td>\n",
       "      <td>0.239770</td>\n",
       "      <td>0.518868</td>\n",
       "      <td>0.158247</td>\n",
       "    </tr>\n",
       "  </tbody>\n",
       "</table>\n",
       "</div>"
      ],
      "text/plain": [
       "   tax_value       county  los_angeles  orange  ventura  bedrooms_scaled  \\\n",
       "0   385794.0  Los Angeles            1       0        0             0.75   \n",
       "1   206832.0  Los Angeles            1       0        0             0.50   \n",
       "2   526078.0      Ventura            0       0        1             0.75   \n",
       "3   468240.0  Los Angeles            1       0        0             0.75   \n",
       "4   270136.0       Orange            0       1        0             1.00   \n",
       "\n",
       "   bathrooms_scaled  sqr_feet_scaled  year_built_scaled  tax_amount_scaled  \n",
       "0          0.444444         0.199454           0.424528           0.248709  \n",
       "1          0.222222         0.141558           0.283019           0.138462  \n",
       "2          0.444444         0.457108           0.424528           0.276061  \n",
       "3          0.666667         0.526523           0.424528           0.268749  \n",
       "4          0.444444         0.239770           0.518868           0.158247  "
      ]
     },
     "execution_count": 2,
     "metadata": {},
     "output_type": "execute_result"
    }
   ],
   "source": [
    "# This data is already been split and save\n",
    "# This is only training data\n",
    "train_scaled = pd.read_csv(\"./00_project_data/1-1_training_data.csv\", index_col=0)\n",
    "validate_scaled = pd.read_csv(\"./00_project_data/1-2_validation_data.csv\", index_col=0)\n",
    "\n",
    "train_scaled = train_scaled.reset_index(drop=True)\n",
    "validate_scaled = validate_scaled.reset_index(drop=True)\n",
    "train_scaled.head()"
   ]
  },
  {
   "cell_type": "markdown",
   "id": "a78edbcd",
   "metadata": {},
   "source": [
    "**Separate Feature and target**"
   ]
  },
  {
   "cell_type": "code",
   "execution_count": 3,
   "id": "c5f26ab7",
   "metadata": {},
   "outputs": [],
   "source": [
    "# separate features from target\n",
    "# these coluns are set in order of importance\n",
    "xtrain = train_scaled[['los_angeles', 'ventura', \"orange\",\n",
    "                       'bathrooms_scaled','sqr_feet_scaled', \"bedrooms_scaled\", \"year_built_scaled\"]]\n",
    "\n",
    "ytrain= train_scaled.tax_value\n",
    "\n",
    "### ----------------------------------------------------------------\n",
    "\n",
    "# separate features from target\n",
    "# these coluns are set in order of importance\n",
    "xval = validate_scaled[['los_angeles', 'ventura', \"orange\",\n",
    "                       'bathrooms_scaled','sqr_feet_scaled', \"bedrooms_scaled\", \"year_built_scaled\"]]\n",
    "\n",
    "yval= validate_scaled.tax_value\n"
   ]
  },
  {
   "cell_type": "markdown",
   "id": "6f6e8412",
   "metadata": {},
   "source": [
    "**Set baseline**"
   ]
  },
  {
   "cell_type": "code",
   "execution_count": 4,
   "id": "0b349863",
   "metadata": {},
   "outputs": [
    {
     "name": "stdout",
     "output_type": "stream",
     "text": [
      "mean basline: 212157.49658660826\n",
      "median baseline: 215487.63907708594\n"
     ]
    }
   ],
   "source": [
    "# create a temporary dataframe for the baseline\n",
    "base = pd.DataFrame({\n",
    "    \"mean_baseline\": np.arange(len(train_scaled)),\n",
    "    \"median_baseline\": np.arange(len(train_scaled))\n",
    "})\n",
    "\n",
    "# get the baseline averages\n",
    "mean_base = train_scaled.tax_value.mean()\n",
    "median_base = train_scaled.tax_value.median()\n",
    "\n",
    "# add the averages into the dataframe\n",
    "base.mean_baseline = mean_base\n",
    "base.median_baseline = median_base\n",
    "\n",
    "# compute the RMSE baseline\n",
    "# set baseline at the mean and median of the target\n",
    "baseline_mean = mean_squared_error(ytrain,base.mean_baseline) ** (0.5)\n",
    "baseline_median = mean_squared_error(ytrain, base.median_baseline) ** (0.5)\n",
    "\n",
    "print(f\"mean basline: {baseline_mean}\\\n",
    "\\nmedian baseline: {baseline_median}\")"
   ]
  },
  {
   "cell_type": "markdown",
   "id": "6660edac",
   "metadata": {},
   "source": [
    "## Linear Regression (OLS)\n",
    "\n",
    "**Train**"
   ]
  },
  {
   "cell_type": "code",
   "execution_count": 5,
   "id": "ff87fa8c",
   "metadata": {},
   "outputs": [],
   "source": [
    "# MAKE THE THING: create the model object\n",
    "linear_model_ols = LinearRegression(fit_intercept=True)\n",
    "\n",
    "#1. FIT THE THING: fit the model to training data\n",
    "OLSmodel = linear_model_ols.fit(xtrain, ytrain)\n",
    "\n",
    "#2. USE THE THING: make a prediction\n",
    "ytrain_pred_ols = linear_model_ols.predict(xtrain)\n",
    "\n",
    "#3. Evaluate: RMSE\n",
    "rmse_train_ols = mean_squared_error(ytrain, ytrain_pred_ols) ** (.5) # 0.5 to get the root\n"
   ]
  },
  {
   "cell_type": "markdown",
   "id": "ac4b9a7a",
   "metadata": {},
   "source": [
    "**Validate**"
   ]
  },
  {
   "cell_type": "code",
   "execution_count": 6,
   "id": "2b9744f7",
   "metadata": {},
   "outputs": [
    {
     "name": "stdout",
     "output_type": "stream",
     "text": [
      "RMSE for OLS\n",
      "_____________________\n",
      "OLS Regressor \n",
      "RMSE_train 187043.68279436068\n",
      "RMSE_validate 187376.12178418814\n",
      "RMSE_difference 332.4389898274676\n",
      "Difference from baseline:  -24781.37480242012\n",
      "______________________\n",
      "R2_validate 0.2233121229584737\")\n",
      "\n",
      "Looking for:\n",
      "High R^2\n",
      "Low RMSE\n",
      "High RMSE difference baseline\n",
      "Low RMSE difference between training and validation\n",
      "\n"
     ]
    },
    {
     "data": {
      "text/html": [
       "<div>\n",
       "<style scoped>\n",
       "    .dataframe tbody tr th:only-of-type {\n",
       "        vertical-align: middle;\n",
       "    }\n",
       "\n",
       "    .dataframe tbody tr th {\n",
       "        vertical-align: top;\n",
       "    }\n",
       "\n",
       "    .dataframe thead th {\n",
       "        text-align: right;\n",
       "    }\n",
       "</style>\n",
       "<table border=\"1\" class=\"dataframe\">\n",
       "  <thead>\n",
       "    <tr style=\"text-align: right;\">\n",
       "      <th></th>\n",
       "      <th>RMSE Training</th>\n",
       "      <th>RMSE Validation</th>\n",
       "      <th>train validate RMSE diff</th>\n",
       "      <th>val baseline diff</th>\n",
       "      <th>R2_validate</th>\n",
       "    </tr>\n",
       "  </thead>\n",
       "  <tbody>\n",
       "    <tr>\n",
       "      <th>0</th>\n",
       "      <td>187043.682794</td>\n",
       "      <td>187376.121784</td>\n",
       "      <td>332.43899</td>\n",
       "      <td>-24781.374802</td>\n",
       "      <td>0.223312</td>\n",
       "    </tr>\n",
       "  </tbody>\n",
       "</table>\n",
       "</div>"
      ],
      "text/plain": [
       "   RMSE Training  RMSE Validation  train validate RMSE diff  \\\n",
       "0  187043.682794    187376.121784                 332.43899   \n",
       "\n",
       "   val baseline diff  R2_validate  \n",
       "0      -24781.374802     0.223312  "
      ]
     },
     "execution_count": 6,
     "metadata": {},
     "output_type": "execute_result"
    }
   ],
   "source": [
    "\n",
    "#2. USE THE THING: make a prediction\n",
    "yval_pred_ols = linear_model_ols.predict(xval)\n",
    "\n",
    "#3. Evaluate: RMSE\n",
    "rmse_val_ols = mean_squared_error(yval, yval_pred_ols) ** (.5) # 0.5 to get the root\n",
    "\n",
    "\n",
    "# root mean squeared error\n",
    "print(f\"\"\"RMSE for OLS\n",
    "_____________________\n",
    "OLS Regressor \\nRMSE_train {rmse_train_ols}\n",
    "RMSE_validate {rmse_val_ols}\n",
    "RMSE_difference {rmse_val_ols - rmse_train_ols}\n",
    "Difference from baseline:  {rmse_val_ols - baseline_mean}\n",
    "______________________\n",
    "R2_validate {explained_variance_score(yval, yval_pred_ols)}\")\n",
    "\n",
    "Looking for:\n",
    "High R^2\n",
    "Low RMSE\n",
    "High RMSE difference baseline\n",
    "Low RMSE difference between training and validation\n",
    "\"\"\")\n",
    "\n",
    "# Create a DataFrame with a single row\n",
    "data = {'RMSE Training': rmse_train_ols,\n",
    "        'RMSE Validation': rmse_val_ols, \n",
    "        'train validate RMSE diff': rmse_val_ols - rmse_train_ols,\n",
    "       'val baseline diff': rmse_val_ols - baseline_mean,\n",
    "       'R2_validate': explained_variance_score(yval, yval_pred_ols)}\n",
    "results = pd.DataFrame([data])\n",
    "results"
   ]
  },
  {
   "cell_type": "markdown",
   "id": "70a78c2b",
   "metadata": {},
   "source": [
    "## LassoLars\n",
    "\n",
    "**train**"
   ]
  },
  {
   "cell_type": "code",
   "execution_count": 7,
   "id": "45b00637",
   "metadata": {},
   "outputs": [],
   "source": [
    "# MAKE THE THING: create the model object\n",
    "linear_nodel_lars = LassoLars(alpha= 1.0, fit_intercept=False, max_iter=1000)\n",
    "\n",
    "#1. FIT THE THING: fit the model to training data\n",
    "# We must specify the column in y_train, since we have converted it to a dataframe from a series!\n",
    "laslars = linear_nodel_lars.fit(xtrain, ytrain)\n",
    "\n",
    "#2. USE THE THING: make a prediction\n",
    "ytrain_pred_lars = linear_nodel_lars.predict(xtrain)\n",
    "\n",
    "#3. Evaluate: RMSE\n",
    "rmse_train_lars = mean_squared_error(ytrain, ytrain_pred_lars) ** (0.5)\n"
   ]
  },
  {
   "cell_type": "markdown",
   "id": "ea1bcfc9",
   "metadata": {},
   "source": [
    "**Validate**"
   ]
  },
  {
   "cell_type": "code",
   "execution_count": 8,
   "id": "1217cfc9",
   "metadata": {},
   "outputs": [
    {
     "name": "stdout",
     "output_type": "stream",
     "text": [
      "RMSE for Lasso + Lars\n",
      "_____________________\n",
      "RMSE Training/In-Sample: 187043.6482554098, \n",
      "RMSE Validation/Out-of-Sample:  187376.6049225882\n",
      "RMSE Difference:  332.95666717839777\n",
      "Difference from baseline:  -24780.891664020077\n",
      "______________________\n",
      "R2_validate 0.22330816171738843\")\n",
      "\n",
      "Looking for:\n",
      "High R^2\n",
      "Low RMSE\n",
      "High RMSE difference baseline\n",
      "Low RMSE difference between training and validation\n",
      "\n"
     ]
    },
    {
     "data": {
      "text/html": [
       "<div>\n",
       "<style scoped>\n",
       "    .dataframe tbody tr th:only-of-type {\n",
       "        vertical-align: middle;\n",
       "    }\n",
       "\n",
       "    .dataframe tbody tr th {\n",
       "        vertical-align: top;\n",
       "    }\n",
       "\n",
       "    .dataframe thead th {\n",
       "        text-align: right;\n",
       "    }\n",
       "</style>\n",
       "<table border=\"1\" class=\"dataframe\">\n",
       "  <thead>\n",
       "    <tr style=\"text-align: right;\">\n",
       "      <th></th>\n",
       "      <th>RMSE Training</th>\n",
       "      <th>RMSE Validation</th>\n",
       "      <th>train validate RMSE diff</th>\n",
       "      <th>val baseline diff</th>\n",
       "      <th>R2_validate</th>\n",
       "    </tr>\n",
       "  </thead>\n",
       "  <tbody>\n",
       "    <tr>\n",
       "      <th>0</th>\n",
       "      <td>187043.648255</td>\n",
       "      <td>187376.604923</td>\n",
       "      <td>332.956667</td>\n",
       "      <td>-24780.891664</td>\n",
       "      <td>0.223308</td>\n",
       "    </tr>\n",
       "  </tbody>\n",
       "</table>\n",
       "</div>"
      ],
      "text/plain": [
       "   RMSE Training  RMSE Validation  train validate RMSE diff  \\\n",
       "0  187043.648255    187376.604923                332.956667   \n",
       "\n",
       "   val baseline diff  R2_validate  \n",
       "0      -24780.891664     0.223308  "
      ]
     },
     "execution_count": 8,
     "metadata": {},
     "output_type": "execute_result"
    }
   ],
   "source": [
    "\n",
    "# predict validate\n",
    "yval_pred_lars = linear_nodel_lars.predict(xval)\n",
    "\n",
    "# evaluate: RMSE\n",
    "rmse_val_lars = mean_squared_error(yval, yval_pred_lars) ** (0.5)\n",
    "\n",
    "# how important is each feature to the target\n",
    "laslars.coef_\n",
    "\n",
    "print(f\"\"\"RMSE for Lasso + Lars\n",
    "_____________________\n",
    "RMSE Training/In-Sample: {rmse_train_lars}, \n",
    "RMSE Validation/Out-of-Sample:  {rmse_val_lars}\n",
    "RMSE Difference:  {rmse_val_lars - rmse_train_lars}\n",
    "Difference from baseline:  {rmse_val_lars - baseline_mean}\n",
    "______________________\n",
    "R2_validate {explained_variance_score(yval, yval_pred_lars)}\")\n",
    "\n",
    "Looking for:\n",
    "High R^2\n",
    "Low RMSE\n",
    "High RMSE difference baseline\n",
    "Low RMSE difference between training and validation\n",
    "\"\"\")\n",
    "\n",
    "# Create a DataFrame with a single row\n",
    "data = {'RMSE Training': rmse_train_lars,\n",
    "        'RMSE Validation': rmse_val_lars, \n",
    "        'train validate RMSE diff': rmse_val_lars - rmse_train_lars,\n",
    "       'val baseline diff': rmse_val_lars - baseline_mean,\n",
    "       'R2_validate': explained_variance_score(yval, yval_pred_lars)}\n",
    "results = pd.DataFrame([data])\n",
    "results"
   ]
  },
  {
   "cell_type": "markdown",
   "id": "f48b1b69",
   "metadata": {},
   "source": [
    "## TweedieRegressor (GLM:Generalized Linear Model)"
   ]
  },
  {
   "cell_type": "code",
   "execution_count": 9,
   "id": "6d004ab9",
   "metadata": {},
   "outputs": [
    {
     "data": {
      "text/plain": [
       "<Axes: >"
      ]
     },
     "execution_count": 9,
     "metadata": {},
     "output_type": "execute_result"
    },
    {
     "data": {
      "image/png": "[encoded data removed]",
      "text/plain": [
       "<Figure size 500x300 with 1 Axes>"
      ]
     },
     "metadata": {},
     "output_type": "display_data"
    }
   ],
   "source": [
    "# Plot the distribution\n",
    "plt.figure(figsize=(5,3))\n",
    "ytrain.hist()\n",
    "\n",
    "# looks like a gamma distribution"
   ]
  },
  {
   "cell_type": "markdown",
   "id": "a3ac3a32",
   "metadata": {},
   "source": [
    "**Train**"
   ]
  },
  {
   "cell_type": "code",
   "execution_count": 10,
   "id": "1e9e597d",
   "metadata": {},
   "outputs": [],
   "source": [
    "# MAKE THE THING: create the model object\n",
    "linear_nodel_twd = TweedieRegressor(alpha= 1.0, power= 1)\n",
    "\n",
    "#1. FIT THE THING: fit the model to training data\n",
    "# We must specify the column in y_train, since we have converted it to a dataframe from a series!\n",
    "tweedieReg = linear_nodel_twd.fit(xtrain, ytrain)\n",
    "\n",
    "#2. USE THE THING: make a prediction\n",
    "ytrain_pred_twd = linear_nodel_twd.predict(xtrain)\n",
    "\n",
    "#3. Evaluate: RMSE\n",
    "rmse_train_twd = mean_squared_error(ytrain, ytrain_pred_twd) ** (0.5)\n"
   ]
  },
  {
   "cell_type": "markdown",
   "id": "a3e4be87",
   "metadata": {},
   "source": [
    "**Validate**"
   ]
  },
  {
   "cell_type": "code",
   "execution_count": 11,
   "id": "a79ed416",
   "metadata": {},
   "outputs": [
    {
     "name": "stdout",
     "output_type": "stream",
     "text": [
      "RMSE for Tweedie Regressor\n",
      "_____________________\n",
      "RMSE Training/In-Sample: 187251.25075231143, \n",
      "RMSE Validation/Out-of-Sample:  187565.82390969963\n",
      "RMSE Difference:  314.57315738819307\n",
      "Difference from baseline:  -24591.672676908638\n",
      "______________________\n",
      "R2_validate 0.2217387012794404\")\n",
      "\n",
      "Looking for:\n",
      "High R^2\n",
      "Low RMSE\n",
      "High RMSE difference baseline\n",
      "Low RMSE difference between training and validation\n",
      "\n"
     ]
    }
   ],
   "source": [
    "# predict validate\n",
    "yval_pred_twd = linear_nodel_twd.predict(xval)\n",
    "\n",
    "# evaluate: RMSE\n",
    "rmse_val_twd = mean_squared_error(yval, yval_pred_twd) ** (0.5)\n",
    "\n",
    "# how important is each feature to the target\n",
    "tweedieReg.coef_\n",
    "\n",
    "print(f\"\"\"RMSE for Tweedie Regressor\n",
    "_____________________\n",
    "RMSE Training/In-Sample: {rmse_train_twd}, \n",
    "RMSE Validation/Out-of-Sample:  {rmse_val_twd}\n",
    "RMSE Difference:  {rmse_val_twd - rmse_train_twd}\n",
    "Difference from baseline:  {rmse_val_twd - baseline_mean}\n",
    "______________________\n",
    "R2_validate {explained_variance_score(yval, yval_pred_twd)}\")\n",
    "\n",
    "Looking for:\n",
    "High R^2\n",
    "Low RMSE\n",
    "High RMSE difference baseline\n",
    "Low RMSE difference between training and validation\n",
    "\"\"\")\n",
    "\n",
    "# Create a DataFrame with a single row\n",
    "data = {'RMSE Training': rmse_train_twd,\n",
    "        'RMSE Validation': rmse_val_twd, \n",
    "        'train validate RMSE diff': rmse_val_twd - rmse_train_twd,\n",
    "       'val baseline diff': rmse_val_twd - baseline_mean,\n",
    "       'R2_validate': explained_variance_score(yval, yval_pred_twd)}\n",
    "results = pd.DataFrame([data])\n"
   ]
  },
  {
   "cell_type": "markdown",
   "id": "bf623266",
   "metadata": {},
   "source": [
    "## Polynomial Features\n",
    "\n",
    "**Prep Polynomial features**"
   ]
  },
  {
   "cell_type": "code",
   "execution_count": 18,
   "id": "0a185f37",
   "metadata": {},
   "outputs": [
    {
     "data": {
      "text/plain": [
       "array([1.        , 1.        , 0.        , 0.        , 0.22222222,\n",
       "       0.14155805, 0.5       , 0.28301887, 1.        , 0.        ,\n",
       "       0.        , 0.22222222, 0.14155805, 0.5       , 0.28301887,\n",
       "       0.        , 0.        , 0.        , 0.        , 0.        ,\n",
       "       0.        , 0.        , 0.        , 0.        , 0.        ,\n",
       "       0.        , 0.04938272, 0.03145734, 0.11111111, 0.06289308,\n",
       "       0.02003868, 0.07077902, 0.0400636 , 0.25      , 0.14150943,\n",
       "       0.08009968, 1.        , 0.        , 0.        , 0.22222222,\n",
       "       0.14155805, 0.5       , 0.28301887, 0.        , 0.        ,\n",
       "       0.        , 0.        , 0.        , 0.        , 0.        ,\n",
       "       0.        , 0.        , 0.        , 0.        , 0.04938272,\n",
       "       0.03145734, 0.11111111, 0.06289308, 0.02003868, 0.07077902,\n",
       "       0.0400636 , 0.25      , 0.14150943, 0.08009968, 0.        ,\n",
       "       0.        , 0.        , 0.        , 0.        , 0.        ,\n",
       "       0.        , 0.        , 0.        , 0.        , 0.        ,\n",
       "       0.        , 0.        , 0.        , 0.        , 0.        ,\n",
       "       0.        , 0.        , 0.        , 0.        , 0.        ,\n",
       "       0.        , 0.        , 0.        , 0.        , 0.        ,\n",
       "       0.        , 0.        , 0.        , 0.        , 0.        ,\n",
       "       0.        , 0.        , 0.        , 0.        , 0.        ,\n",
       "       0.01097394, 0.00699052, 0.02469136, 0.01397624, 0.00445304,\n",
       "       0.01572867, 0.00890302, 0.05555556, 0.03144654, 0.01779993,\n",
       "       0.00283664, 0.01001934, 0.00567132, 0.03538951, 0.0200318 ,\n",
       "       0.01133875, 0.125     , 0.07075472, 0.04004984, 0.02266972])"
      ]
     },
     "execution_count": 18,
     "metadata": {},
     "output_type": "execute_result"
    }
   ],
   "source": [
    "#1. Create the polynomial features to get a new set of features\n",
    "pf = PolynomialFeatures(degree=3) #Quadratic aka x-squared\n",
    "\n",
    "#1. Fit and transform X_train_scaled\n",
    "xtrain_degree3 = pf.fit_transform(xtrain)\n",
    "\n",
    "#1. Transform X_validate_scaled & X_test_scaled \n",
    "xval_degree3 = pf.transform(xval)\n",
    "\n",
    "xtrain_degree2[1]"
   ]
  },
  {
   "cell_type": "markdown",
   "id": "fa91328b",
   "metadata": {},
   "source": [
    "**Train**"
   ]
  },
  {
   "cell_type": "code",
   "execution_count": 19,
   "id": "08eed579",
   "metadata": {},
   "outputs": [],
   "source": [
    "#2.1 MAKE THE THING: create the model object\n",
    "linear_model_pf = LinearRegression()\n",
    "\n",
    "#2.2 FIT THE THING: fit the model to our training data. We must specify the column in y_train, \n",
    "# since we have converted it to a dataframe from a series! \n",
    "polyFeat = linear_model_pf.fit(xtrain_degree3, ytrain)\n",
    "\n",
    "#3. USE THE THING: predict train\n",
    "ytrain_pred_poly = linear_model_pf.predict(xtrain_degree3)\n",
    "\n",
    "#4. Evaluate: rmse\n",
    "rmse_train_poly = mean_squared_error(ytrain, ytrain_pred_poly) ** (0.5)\n"
   ]
  },
  {
   "cell_type": "markdown",
   "id": "f825c4f6",
   "metadata": {},
   "source": [
    "**Validate**"
   ]
  },
  {
   "cell_type": "code",
   "execution_count": 14,
   "id": "e5aff527",
   "metadata": {},
   "outputs": [
    {
     "name": "stdout",
     "output_type": "stream",
     "text": [
      "Polynomial feature regressor\n",
      "_____________________\n",
      "RMSE Training/In-Sample: 183837.83233884265, \n",
      "RMSE Validation/Out-of-Sample:  184170.37466070065\n",
      "RMSE Difference:  332.5423218579963\n",
      "Difference from baseline:  -27987.121925907617\n",
      "______________________\n",
      "R2_validate 0.2496604225061292\")\n",
      "\n",
      "Looking for:\n",
      "High R^2\n",
      "Low RMSE\n",
      "High RMSE difference baseline\n",
      "Low RMSE difference between training and validation\n",
      "\n"
     ]
    },
    {
     "data": {
      "text/html": [
       "<div>\n",
       "<style scoped>\n",
       "    .dataframe tbody tr th:only-of-type {\n",
       "        vertical-align: middle;\n",
       "    }\n",
       "\n",
       "    .dataframe tbody tr th {\n",
       "        vertical-align: top;\n",
       "    }\n",
       "\n",
       "    .dataframe thead th {\n",
       "        text-align: right;\n",
       "    }\n",
       "</style>\n",
       "<table border=\"1\" class=\"dataframe\">\n",
       "  <thead>\n",
       "    <tr style=\"text-align: right;\">\n",
       "      <th></th>\n",
       "      <th>RMSE Training</th>\n",
       "      <th>RMSE Validation</th>\n",
       "      <th>train validate RMSE diff</th>\n",
       "      <th>val baseline diff</th>\n",
       "      <th>R2_validate</th>\n",
       "    </tr>\n",
       "  </thead>\n",
       "  <tbody>\n",
       "    <tr>\n",
       "      <th>0</th>\n",
       "      <td>183837.832339</td>\n",
       "      <td>184170.374661</td>\n",
       "      <td>332.542322</td>\n",
       "      <td>-27987.121926</td>\n",
       "      <td>0.24966</td>\n",
       "    </tr>\n",
       "  </tbody>\n",
       "</table>\n",
       "</div>"
      ],
      "text/plain": [
       "   RMSE Training  RMSE Validation  train validate RMSE diff  \\\n",
       "0  183837.832339    184170.374661                332.542322   \n",
       "\n",
       "   val baseline diff  R2_validate  \n",
       "0      -27987.121926      0.24966  "
      ]
     },
     "execution_count": 14,
     "metadata": {},
     "output_type": "execute_result"
    }
   ],
   "source": [
    "# predict validate\n",
    "yval_pred_poly = linear_model_pf.predict(xval_degree2)\n",
    "\n",
    "# evaluate: RMSE\n",
    "rmse_val_poly = mean_squared_error(yval, yval_pred_poly) ** (0.5)\n",
    "\n",
    "# how important is each feature to the target\n",
    "polyFeat.coef_\n",
    "\n",
    "\n",
    "print(f\"\"\"Polynomial feature regressor\n",
    "_____________________\n",
    "RMSE Training/In-Sample: {rmse_train_poly}, \n",
    "RMSE Validation/Out-of-Sample:  {rmse_val_poly}\n",
    "RMSE Difference:  {rmse_val_poly - rmse_train_poly}\n",
    "Difference from baseline:  {rmse_val_poly - baseline_mean}\n",
    "______________________\n",
    "R2_validate {explained_variance_score(yval, yval_pred_poly)}\")\n",
    "\n",
    "Looking for:\n",
    "High R^2\n",
    "Low RMSE\n",
    "High RMSE difference baseline\n",
    "Low RMSE difference between training and validation\n",
    "\"\"\")\n",
    "\n",
    "# Create a DataFrame with a single row\n",
    "data = {'RMSE Training': rmse_train_poly,\n",
    "        'RMSE Validation': rmse_val_poly, \n",
    "        'train validate RMSE diff': rmse_val_poly - rmse_train_poly,\n",
    "       'val baseline diff': rmse_val_poly - baseline_mean,\n",
    "       'R2_validate': explained_variance_score(yval, yval_pred_poly)}\n",
    "results = pd.DataFrame([data])\n",
    "results"
   ]
  },
  {
   "cell_type": "markdown",
   "id": "6b48e433",
   "metadata": {},
   "source": [
    "## Best Model Test (GML)"
   ]
  },
  {
   "cell_type": "code",
   "execution_count": 27,
   "id": "e4680f67",
   "metadata": {},
   "outputs": [],
   "source": [
    "# This is only the test data\n",
    "test_scaled = pd.read_csv(\"./00_project_data/1-3_testing_data.csv\", index_col=0)\n",
    "\n",
    "test_scaled = test_scaled.reset_index(drop=True)\n",
    "\n",
    "# separate features from target\n",
    "# these coluns are set in order of importance\n",
    "xtest = test_scaled[['los_angeles', 'ventura', 'orange', \n",
    "                       'bathrooms_scaled','sqr_feet_scaled', \n",
    "                       'bedrooms_scaled', 'year_built_scaled']]\n",
    "\n",
    "ytest= test_scaled.tax_value"
   ]
  },
  {
   "cell_type": "code",
   "execution_count": 26,
   "id": "534a8c1e",
   "metadata": {},
   "outputs": [
    {
     "name": "stdout",
     "output_type": "stream",
     "text": [
      "RMSE for Tweedie Regressor\n",
      "_____________________\n",
      "RMSE Training/In-Sample: 187251.25075231143, \n",
      "RMSE Validation/Out-of-Sample:  187507.5941606917\n",
      "RMSE Difference:  256.34340838025673\n",
      "Difference from baseline:  -24649.902425916574\n",
      "______________________\n",
      "R2 validate 0.2217387012794404\")\n",
      "\n"
     ]
    },
    {
     "data": {
      "text/html": [
       "<div>\n",
       "<style scoped>\n",
       "    .dataframe tbody tr th:only-of-type {\n",
       "        vertical-align: middle;\n",
       "    }\n",
       "\n",
       "    .dataframe tbody tr th {\n",
       "        vertical-align: top;\n",
       "    }\n",
       "\n",
       "    .dataframe thead th {\n",
       "        text-align: right;\n",
       "    }\n",
       "</style>\n",
       "<table border=\"1\" class=\"dataframe\">\n",
       "  <thead>\n",
       "    <tr style=\"text-align: right;\">\n",
       "      <th></th>\n",
       "      <th>RMSE Training</th>\n",
       "      <th>RMSE test</th>\n",
       "      <th>RMSE baseline</th>\n",
       "      <th>train test RMSE diff</th>\n",
       "      <th>test baseline diff</th>\n",
       "      <th>R2 test</th>\n",
       "    </tr>\n",
       "  </thead>\n",
       "  <tbody>\n",
       "    <tr>\n",
       "      <th>0</th>\n",
       "      <td>187251.250752</td>\n",
       "      <td>187507.594161</td>\n",
       "      <td>212157.496587</td>\n",
       "      <td>256.343408</td>\n",
       "      <td>-24649.902426</td>\n",
       "      <td>0.222059</td>\n",
       "    </tr>\n",
       "  </tbody>\n",
       "</table>\n",
       "</div>"
      ],
      "text/plain": [
       "   RMSE Training      RMSE test  RMSE baseline  train test RMSE diff  \\\n",
       "0  187251.250752  187507.594161  212157.496587            256.343408   \n",
       "\n",
       "   test baseline diff   R2 test  \n",
       "0       -24649.902426  0.222059  "
      ]
     },
     "execution_count": 26,
     "metadata": {},
     "output_type": "execute_result"
    }
   ],
   "source": [
    "# predict validate\n",
    "ytest_pred_twd = linear_nodel_twd.predict(xtest)\n",
    "\n",
    "# evaluate: RMSE\n",
    "rmse_test_twd = mean_squared_error(ytest, ytest_pred_twd) ** (0.5)\n",
    "\n",
    "# how important is each feature to the target\n",
    "tweedieReg.coef_\n",
    "\n",
    "print(f\"\"\"RMSE for Tweedie Regressor\n",
    "_____________________\n",
    "RMSE Training/In-Sample: {rmse_train_twd}, \n",
    "RMSE Validation/Out-of-Sample:  {rmse_test_twd}\n",
    "RMSE Difference:  {rmse_test_twd - rmse_train_twd}\n",
    "Difference from baseline:  {rmse_test_twd - baseline_mean}\n",
    "______________________\n",
    "R2 validate {explained_variance_score(yval, yval_pred_twd)}\")\n",
    "\"\"\")\n",
    "\n",
    "data = {'RMSE Training': rmse_train_twd,\n",
    "            'RMSE test': rmse_test_twd,\n",
    "            'RMSE baseline': baseline_mean,\n",
    "            'train test RMSE diff': rmse_test_twd - rmse_train_twd,\n",
    "        'test baseline diff': rmse_test_twd - baseline_mean,\n",
    "        'R2 test': explained_variance_score(ytest, ytest_pred_twd)}\n",
    "results = pd.DataFrame([data])\n",
    "results"
   ]
  },
  {
   "cell_type": "code",
   "execution_count": null,
   "id": "f966a0a4",
   "metadata": {},
   "outputs": [],
   "source": []
  }
 ],
 "metadata": {
  "kernelspec": {
   "display_name": "Python 3 (ipykernel)",
   "language": "python",
   "name": "python3"
  },
  "language_info": {
   "codemirror_mode": {
    "name": "ipython",
    "version": 3
   },
   "file_extension": ".py",
   "mimetype": "text/x-python",
   "name": "python",
   "nbconvert_exporter": "python",
   "pygments_lexer": "ipython3",
   "version": "3.10.9"
  }
 },
 "nbformat": 4,
 "nbformat_minor": 5
}
