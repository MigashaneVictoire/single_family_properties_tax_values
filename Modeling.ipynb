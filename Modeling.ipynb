{
 "cells": [
  {
   "cell_type": "markdown",
   "id": "b2066249",
   "metadata": {},
   "source": [
    "# Modeling"
   ]
  },
  {
   "cell_type": "code",
   "execution_count": 1,
   "id": "2156e363",
   "metadata": {},
   "outputs": [],
   "source": [
    "# data manipulation\n",
    "import pandas as pd\n",
    "import numpy as np\n",
    "\n",
    "# data visualization\n",
    "import matplotlib.pyplot as plt\n",
    "import seaborn as sns\n",
    "\n",
    "# modeling\n",
    "from sklearn.linear_model import LinearRegression, LassoLars, TweedieRegressor\n",
    "from sklearn.metrics import mean_squared_error\n",
    "from sklearn.preprocessing import PolynomialFeatures\n",
    "from sklearn.metrics import explained_variance_score\n",
    "\n",
    "# statistics testing\n",
    "import scipy.stats as stats\n",
    "\n",
    "# system manipulation\n",
    "import itertools\n",
    "import os\n",
    "import sys\n",
    "sys.path.append(\"./util_\")\n",
    "import prepare_\n",
    "import explore_\n",
    "\n",
    "# other\n",
    "import env\n",
    "import warnings\n",
    "warnings.filterwarnings(\"ignore\")\n",
    "\n",
    "# set the random seed\n",
    "np.random.seed(95)"
   ]
  },
  {
   "cell_type": "markdown",
   "id": "2044e645",
   "metadata": {},
   "source": [
    "**Get train and validate datasets**"
   ]
  },
  {
   "cell_type": "code",
   "execution_count": 2,
   "id": "e55a0d47",
   "metadata": {},
   "outputs": [
    {
     "data": {
      "text/html": [
       "<div>\n",
       "<style scoped>\n",
       "    .dataframe tbody tr th:only-of-type {\n",
       "        vertical-align: middle;\n",
       "    }\n",
       "\n",
       "    .dataframe tbody tr th {\n",
       "        vertical-align: top;\n",
       "    }\n",
       "\n",
       "    .dataframe thead th {\n",
       "        text-align: right;\n",
       "    }\n",
       "</style>\n",
       "<table border=\"1\" class=\"dataframe\">\n",
       "  <thead>\n",
       "    <tr style=\"text-align: right;\">\n",
       "      <th></th>\n",
       "      <th>tax_value</th>\n",
       "      <th>county</th>\n",
       "      <th>los_angeles</th>\n",
       "      <th>orange</th>\n",
       "      <th>ventura</th>\n",
       "      <th>bedrooms_scaled</th>\n",
       "      <th>bathrooms_scaled</th>\n",
       "      <th>sqr_feet_scaled</th>\n",
       "      <th>year_built_scaled</th>\n",
       "      <th>tax_amount_scaled</th>\n",
       "    </tr>\n",
       "  </thead>\n",
       "  <tbody>\n",
       "    <tr>\n",
       "      <th>0</th>\n",
       "      <td>160657.0</td>\n",
       "      <td>Los Angeles</td>\n",
       "      <td>1</td>\n",
       "      <td>0</td>\n",
       "      <td>0</td>\n",
       "      <td>0.428571</td>\n",
       "      <td>0.428571</td>\n",
       "      <td>0.320064</td>\n",
       "      <td>0.405172</td>\n",
       "      <td>0.162429</td>\n",
       "    </tr>\n",
       "    <tr>\n",
       "      <th>1</th>\n",
       "      <td>243277.0</td>\n",
       "      <td>Orange</td>\n",
       "      <td>0</td>\n",
       "      <td>1</td>\n",
       "      <td>0</td>\n",
       "      <td>0.428571</td>\n",
       "      <td>0.142857</td>\n",
       "      <td>0.195839</td>\n",
       "      <td>0.448276</td>\n",
       "      <td>0.144717</td>\n",
       "    </tr>\n",
       "    <tr>\n",
       "      <th>2</th>\n",
       "      <td>285312.0</td>\n",
       "      <td>Los Angeles</td>\n",
       "      <td>1</td>\n",
       "      <td>0</td>\n",
       "      <td>0</td>\n",
       "      <td>0.428571</td>\n",
       "      <td>0.428571</td>\n",
       "      <td>0.411882</td>\n",
       "      <td>0.491379</td>\n",
       "      <td>0.174333</td>\n",
       "    </tr>\n",
       "    <tr>\n",
       "      <th>3</th>\n",
       "      <td>268523.0</td>\n",
       "      <td>Ventura</td>\n",
       "      <td>0</td>\n",
       "      <td>0</td>\n",
       "      <td>1</td>\n",
       "      <td>0.428571</td>\n",
       "      <td>0.285714</td>\n",
       "      <td>0.261252</td>\n",
       "      <td>0.706897</td>\n",
       "      <td>0.147458</td>\n",
       "    </tr>\n",
       "    <tr>\n",
       "      <th>4</th>\n",
       "      <td>339115.0</td>\n",
       "      <td>Los Angeles</td>\n",
       "      <td>1</td>\n",
       "      <td>0</td>\n",
       "      <td>0</td>\n",
       "      <td>0.428571</td>\n",
       "      <td>0.285714</td>\n",
       "      <td>0.382877</td>\n",
       "      <td>0.655172</td>\n",
       "      <td>0.217292</td>\n",
       "    </tr>\n",
       "  </tbody>\n",
       "</table>\n",
       "</div>"
      ],
      "text/plain": [
       "   tax_value       county  los_angeles  orange  ventura  bedrooms_scaled  \\\n",
       "0   160657.0  Los Angeles            1       0        0         0.428571   \n",
       "1   243277.0       Orange            0       1        0         0.428571   \n",
       "2   285312.0  Los Angeles            1       0        0         0.428571   \n",
       "3   268523.0      Ventura            0       0        1         0.428571   \n",
       "4   339115.0  Los Angeles            1       0        0         0.428571   \n",
       "\n",
       "   bathrooms_scaled  sqr_feet_scaled  year_built_scaled  tax_amount_scaled  \n",
       "0          0.428571         0.320064           0.405172           0.162429  \n",
       "1          0.142857         0.195839           0.448276           0.144717  \n",
       "2          0.428571         0.411882           0.491379           0.174333  \n",
       "3          0.285714         0.261252           0.706897           0.147458  \n",
       "4          0.285714         0.382877           0.655172           0.217292  "
      ]
     },
     "execution_count": 2,
     "metadata": {},
     "output_type": "execute_result"
    }
   ],
   "source": [
    "# This data is already been split and save\n",
    "# This is only training data\n",
    "train_scaled = pd.read_csv(\"./00_project_data/1-1_training_data.csv\", index_col=0)\n",
    "validate_scaled = pd.read_csv(\"./00_project_data/1-2_validation_data.csv\", index_col=0)\n",
    "\n",
    "train_scaled = train_scaled.reset_index(drop=True)\n",
    "validate_scaled = validate_scaled.reset_index(drop=True)\n",
    "train_scaled.head()"
   ]
  },
  {
   "cell_type": "markdown",
   "id": "42e2d920",
   "metadata": {},
   "source": [
    "**Set baseline**"
   ]
  },
  {
   "cell_type": "code",
   "execution_count": 3,
   "id": "9613bc91",
   "metadata": {},
   "outputs": [
    {
     "name": "stdout",
     "output_type": "stream",
     "text": [
      "mean basline: 386859.1336478978\n",
      "median baseline: 319524.0\n"
     ]
    }
   ],
   "source": [
    "# set baseline at the mean and median of the target\n",
    "baseline_mean = train_scaled.tax_value.mean()\n",
    "baseline_median = train_scaled.tax_value.median()\n",
    "\n",
    "print(f\"mean basline: {baseline_mean}\\\n",
    "\\nmedian baseline: {baseline_median}\")"
   ]
  },
  {
   "cell_type": "markdown",
   "id": "9d6ba08e",
   "metadata": {},
   "source": [
    "**Separate Feature and target**"
   ]
  },
  {
   "cell_type": "code",
   "execution_count": 4,
   "id": "7569f1bd",
   "metadata": {},
   "outputs": [],
   "source": [
    "# separate features from target\n",
    "# these coluns are set in order of importance\n",
    "xtrain = train_scaled[['los_angeles', 'ventura', 'orange', \n",
    "                       'bathrooms_scaled','sqr_feet_scaled', \n",
    "                       'bedrooms_scaled', 'year_built_scaled']]\n",
    "\n",
    "ytrain= train_scaled.tax_value\n",
    "\n",
    "### ----------------------------------------------------------------\n",
    "\n",
    "# separate features from target\n",
    "# these coluns are set in order of importance\n",
    "xval = validate_scaled[['los_angeles', 'ventura', 'orange', \n",
    "                       'bathrooms_scaled','sqr_feet_scaled', \n",
    "                       'bedrooms_scaled', 'year_built_scaled']]\n",
    "\n",
    "yval= validate_scaled.tax_value\n"
   ]
  },
  {
   "cell_type": "markdown",
   "id": "c95ab78a",
   "metadata": {},
   "source": [
    "## Linear Regression (OLS)\n",
    "\n",
    "**Train**"
   ]
  },
  {
   "cell_type": "code",
   "execution_count": 5,
   "id": "29a7c7bd",
   "metadata": {},
   "outputs": [],
   "source": [
    "# MAKE THE THING: create the model object\n",
    "linear_model_ols = LinearRegression()\n",
    "\n",
    "#1. FIT THE THING: fit the model to training data\n",
    "OLSmodel = linear_model_ols.fit(xtrain, ytrain)\n",
    "\n",
    "#2. USE THE THING: make a prediction\n",
    "ytrain_pred_ols = linear_model_ols.predict(xtrain)\n",
    "\n",
    "#3. Evaluate: RMSE\n",
    "rmse_train_ols = mean_squared_error(ytrain, ytrain_pred_ols) ** (.5) # 0.5 to get the root\n"
   ]
  },
  {
   "cell_type": "markdown",
   "id": "4001612f",
   "metadata": {},
   "source": [
    "**Validate**"
   ]
  },
  {
   "cell_type": "code",
   "execution_count": 6,
   "id": "647260e3",
   "metadata": {},
   "outputs": [
    {
     "name": "stdout",
     "output_type": "stream",
     "text": [
      "OLS Regressor \n",
      "RMSE_train 235399.3111268613 \n",
      "RMSE_validate 235138.62240255778 \n",
      "RMSE_difference -260.68872430353076 \n",
      "R2_validate 0.33324587671290495\n"
     ]
    }
   ],
   "source": [
    "\n",
    "#2. USE THE THING: make a prediction\n",
    "yval_pred_ols = linear_model_ols.predict(xval)\n",
    "\n",
    "#3. Evaluate: RMSE\n",
    "rmse_val_ols = mean_squared_error(yval, yval_pred_ols) ** (.5) # 0.5 to get the root\n",
    "\n",
    "\n",
    "# root mean squeared error\n",
    "print(f\"OLS Regressor \\nRMSE_train {rmse_train_ols} \\\n",
    "\\nRMSE_validate {rmse_val_ols} \\\n",
    "\\nRMSE_difference {rmse_val_ols - rmse_train_ols} \\\n",
    "\\nR2_validate {explained_variance_score(yval, yval_pred_ols)}\")"
   ]
  },
  {
   "cell_type": "markdown",
   "id": "b81c8c91",
   "metadata": {},
   "source": [
    "## LassoLars\n",
    "\n",
    "**train**"
   ]
  },
  {
   "cell_type": "code",
   "execution_count": 7,
   "id": "823972ae",
   "metadata": {},
   "outputs": [],
   "source": [
    "# MAKE THE THING: create the model object\n",
    "linear_nodel_lars = LassoLars(alpha= 1.0)\n",
    "\n",
    "#1. FIT THE THING: fit the model to training data\n",
    "# We must specify the column in y_train, since we have converted it to a dataframe from a series!\n",
    "laslars = linear_nodel_lars.fit(xtrain, ytrain)\n",
    "\n",
    "#2. USE THE THING: make a prediction\n",
    "ytrain_pred_lars = linear_nodel_lars.predict(xtrain)\n",
    "\n",
    "#3. Evaluate: RMSE\n",
    "rmse_train_lars = mean_squared_error(ytrain, ytrain_pred_lars) ** (0.5)\n"
   ]
  },
  {
   "cell_type": "markdown",
   "id": "4a149222",
   "metadata": {},
   "source": [
    "**Validate**"
   ]
  },
  {
   "cell_type": "code",
   "execution_count": 8,
   "id": "9091e427",
   "metadata": {},
   "outputs": [
    {
     "name": "stdout",
     "output_type": "stream",
     "text": [
      "RMSE for Lasso + Lars\n",
      "_____________________\n",
      "RMSE Training/In-Sample: 235399.22164856692, \n",
      "RMSE Validation/Out-of-Sample:  235138.925931316\n",
      "RMSE Difference:  -260.2957172509341\n",
      "R2_validate 0.33324415534173624\")\n",
      "\n"
     ]
    }
   ],
   "source": [
    "\n",
    "# predict validate\n",
    "yval_pred_lars = linear_nodel_lars.predict(xval)\n",
    "\n",
    "# evaluate: RMSE\n",
    "rmse_val_lars = mean_squared_error(yval, yval_pred_lars) ** (0.5)\n",
    "\n",
    "# how important is each feature to the target\n",
    "laslars.coef_\n",
    "\n",
    "print(f\"\"\"RMSE for Lasso + Lars\n",
    "_____________________\n",
    "RMSE Training/In-Sample: {rmse_train_lars}, \n",
    "RMSE Validation/Out-of-Sample:  {rmse_val_lars}\n",
    "RMSE Difference:  {rmse_val_lars - rmse_train_lars}\n",
    "R2_validate {explained_variance_score(yval, yval_pred_lars)}\")\n",
    "\"\"\")"
   ]
  },
  {
   "cell_type": "markdown",
   "id": "25cb9571",
   "metadata": {},
   "source": [
    "## TweedieRegressor (GLM:Generalized Linear Model)"
   ]
  },
  {
   "cell_type": "code",
   "execution_count": 11,
   "id": "a516b665",
   "metadata": {},
   "outputs": [
    {
     "data": {
      "text/plain": [
       "<Axes: >"
      ]
     },
     "execution_count": 11,
     "metadata": {},
     "output_type": "execute_result"
    },
    {
     "data": {
      "image/png": "[encoded data removed]",
      "text/plain": [
       "<Figure size 500x300 with 1 Axes>"
      ]
     },
     "metadata": {},
     "output_type": "display_data"
    }
   ],
   "source": [
    "# Plot the distribution\n",
    "plt.figure(figsize=(5,3))\n",
    "ytrain.hist()\n",
    "\n",
    "# looks like a poisson distribution"
   ]
  },
  {
   "cell_type": "markdown",
   "id": "02ab7191",
   "metadata": {},
   "source": [
    "**Train**"
   ]
  },
  {
   "cell_type": "code",
   "execution_count": 12,
   "id": "fe39ba4c",
   "metadata": {},
   "outputs": [],
   "source": [
    "# MAKE THE THING: create the model object\n",
    "linear_nodel_twd = TweedieRegressor(alpha= 1.0, power= 1)\n",
    "\n",
    "#1. FIT THE THING: fit the model to training data\n",
    "# We must specify the column in y_train, since we have converted it to a dataframe from a series!\n",
    "tweedieReg = linear_nodel_twd.fit(xtrain, ytrain)\n",
    "\n",
    "#2. USE THE THING: make a prediction\n",
    "ytrain_pred_twd = linear_nodel_twd.predict(xtrain)\n",
    "\n",
    "#3. Evaluate: RMSE\n",
    "rmse_train_twd = mean_squared_error(ytrain, ytrain_pred_twd) ** (0.5)\n"
   ]
  },
  {
   "cell_type": "markdown",
   "id": "5ddf1048",
   "metadata": {},
   "source": [
    "**Validate**"
   ]
  },
  {
   "cell_type": "code",
   "execution_count": 13,
   "id": "93e61708",
   "metadata": {},
   "outputs": [
    {
     "name": "stdout",
     "output_type": "stream",
     "text": [
      "RMSE for Lasso + Lars\n",
      "_____________________\n",
      "RMSE Training/In-Sample: 236386.03523479012, \n",
      "RMSE Validation/Out-of-Sample:  236127.92329975966\n",
      "RMSE Difference:  -258.11193503046525\n",
      "R2_validate 0.32762366310882374\")\n",
      "\n"
     ]
    }
   ],
   "source": [
    "# predict validate\n",
    "yval_pred_twd = linear_nodel_twd.predict(xval)\n",
    "\n",
    "# evaluate: RMSE\n",
    "rmse_val_twd = mean_squared_error(yval, yval_pred_twd) ** (0.5)\n",
    "\n",
    "# how important is each feature to the target\n",
    "tweedieReg.coef_\n",
    "\n",
    "print(f\"\"\"RMSE for Lasso + Lars\n",
    "_____________________\n",
    "RMSE Training/In-Sample: {rmse_train_twd}, \n",
    "RMSE Validation/Out-of-Sample:  {rmse_val_twd}\n",
    "RMSE Difference:  {rmse_val_twd - rmse_train_twd}\n",
    "R2_validate {explained_variance_score(yval, yval_pred_twd)}\")\n",
    "\"\"\")"
   ]
  },
  {
   "cell_type": "markdown",
   "id": "1c039deb",
   "metadata": {},
   "source": [
    "## Polynomial Features\n",
    "\n",
    "**Prep Polynomial features**"
   ]
  },
  {
   "cell_type": "code",
   "execution_count": 17,
   "id": "6408bfc9",
   "metadata": {},
   "outputs": [
    {
     "data": {
      "text/plain": [
       "array([1.        , 0.        , 0.        , 1.        , 0.14285714,\n",
       "       0.19583917, 0.42857143, 0.44827586, 0.        , 0.        ,\n",
       "       0.        , 0.        , 0.        , 0.        , 0.        ,\n",
       "       0.        , 0.        , 0.        , 0.        , 0.        ,\n",
       "       0.        , 1.        , 0.14285714, 0.19583917, 0.42857143,\n",
       "       0.44827586, 0.02040816, 0.02797702, 0.06122449, 0.06403941,\n",
       "       0.03835298, 0.08393107, 0.08778997, 0.18367347, 0.19211823,\n",
       "       0.20095125])"
      ]
     },
     "execution_count": 17,
     "metadata": {},
     "output_type": "execute_result"
    }
   ],
   "source": [
    "#1. Create the polynomial features to get a new set of features\n",
    "pf = PolynomialFeatures(degree=2) #Quadratic aka x-squared\n",
    "\n",
    "#1. Fit and transform X_train_scaled\n",
    "xtrain_degree2 = pf.fit_transform(xtrain)\n",
    "\n",
    "#1. Transform X_validate_scaled & X_test_scaled \n",
    "xval_degree2 = pf.transform(xval)\n",
    "\n",
    "xtrain_degree2[1]\n",
    "# x_test_degree2 = pf.transform(x_test_scaled)"
   ]
  },
  {
   "cell_type": "markdown",
   "id": "72d8022f",
   "metadata": {},
   "source": [
    "**Train**"
   ]
  },
  {
   "cell_type": "code",
   "execution_count": 18,
   "id": "a9a80cd6",
   "metadata": {},
   "outputs": [],
   "source": [
    "#2.1 MAKE THE THING: create the model object\n",
    "linear_model_pf = LinearRegression()\n",
    "\n",
    "#2.2 FIT THE THING: fit the model to our training data. We must specify the column in y_train, \n",
    "# since we have converted it to a dataframe from a series! \n",
    "polyFeat = linear_model_pf.fit(xtrain_degree2, ytrain)\n",
    "\n",
    "#3. USE THE THING: predict train\n",
    "ytrain_pred_poly = linear_model_pf.predict(xtrain_degree2)\n",
    "\n",
    "#4. Evaluate: rmse\n",
    "rmse_train_poly = mean_squared_error(ytrain, ytrain_pred_poly) ** (0.5)\n"
   ]
  },
  {
   "cell_type": "markdown",
   "id": "4aae2e18",
   "metadata": {},
   "source": [
    "**Validate**"
   ]
  },
  {
   "cell_type": "code",
   "execution_count": 19,
   "id": "39923ef8",
   "metadata": {},
   "outputs": [
    {
     "name": "stdout",
     "output_type": "stream",
     "text": [
      "RMSE for Lasso + Lars\n",
      "_____________________\n",
      "RMSE Training/In-Sample: 231932.55070173478, \n",
      "RMSE Validation/Out-of-Sample:  231637.56517182206\n",
      "RMSE Difference:  -294.985529912723\n",
      "R2_validate 0.35295335681046747\")\n",
      "\n"
     ]
    }
   ],
   "source": [
    "# predict validate\n",
    "yval_pred_poly = linear_model_pf.predict(xval_degree2)\n",
    "\n",
    "# evaluate: RMSE\n",
    "rmse_val_poly = mean_squared_error(yval, yval_pred_poly) ** (0.5)\n",
    "\n",
    "# how important is each feature to the target\n",
    "polyFeat.coef_\n",
    "\n",
    "\n",
    "print(f\"\"\"RMSE for Lasso + Lars\n",
    "_____________________\n",
    "RMSE Training/In-Sample: {rmse_train_poly}, \n",
    "RMSE Validation/Out-of-Sample:  {rmse_val_poly}\n",
    "RMSE Difference:  {rmse_val_poly - rmse_train_poly}\n",
    "R2_validate {explained_variance_score(yval, yval_pred_poly)}\")\n",
    "\"\"\")"
   ]
  },
  {
   "cell_type": "markdown",
   "id": "c3a5dd9d",
   "metadata": {},
   "source": [
    "## Best Model Test"
   ]
  },
  {
   "cell_type": "code",
   "execution_count": null,
   "id": "9b04b799",
   "metadata": {},
   "outputs": [],
   "source": [
    "# # predict validate\n",
    "# ytest_pred_twd = linear_nodel_twd.predict(xval)\n",
    "\n",
    "# # evaluate: RMSE\n",
    "# rmse_test_twd = mean_squared_error(yval, ytest_pred_twd) ** (0.5)\n",
    "\n",
    "# # how important is each feature to the target\n",
    "# tweedieReg.coef_\n",
    "\n",
    "# print(f\"\"\"RMSE for Lasso + Lars\n",
    "# _____________________\n",
    "# RMSE Train: {rmse_train_twd}\n",
    "# RMSE Test: {rmse_test_twd}\n",
    "# RMSE Difference (test vs train):  {rmse_test_twd - rmse_train_twd}\n",
    "\n",
    "# Baseline mean: {baseline_mean}\n",
    "# Baseline median: {baseline_median}\n",
    "# \"\"\")\n",
    "\n",
    "# # R2_validate {explained_variance_score(yval, yval_pred_twd)}\""
   ]
  }
 ],
 "metadata": {
  "kernelspec": {
   "display_name": "Python 3 (ipykernel)",
   "language": "python",
   "name": "python3"
  },
  "language_info": {
   "codemirror_mode": {
    "name": "ipython",
    "version": 3
   },
   "file_extension": ".py",
   "mimetype": "text/x-python",
   "name": "python",
   "nbconvert_exporter": "python",
   "pygments_lexer": "ipython3",
   "version": "3.10.9"
  }
 },
 "nbformat": 4,
 "nbformat_minor": 5
}
