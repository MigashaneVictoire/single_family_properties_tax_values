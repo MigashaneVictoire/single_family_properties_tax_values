{
 "cells": [
  {
   "cell_type": "markdown",
   "id": "badfd69d",
   "metadata": {},
   "source": [
    "# Modeling"
   ]
  },
  {
   "cell_type": "code",
   "execution_count": 4,
   "id": "4dec98b8",
   "metadata": {},
   "outputs": [],
   "source": [
    "# data manipulation\n",
    "import pandas as pd\n",
    "import numpy as np\n",
    "\n",
    "# data visualization\n",
    "import matplotlib.pyplot as plt\n",
    "import seaborn as sns\n",
    "\n",
    "# modeling\n",
    "from sklearn.linear_model import LinearRegression, LassoLars, TweedieRegressor\n",
    "from sklearn.metrics import mean_squared_error\n",
    "from sklearn.preprocessing import PolynomialFeatures\n",
    "from sklearn.metrics import explained_variance_score\n",
    "\n",
    "# statistics testing\n",
    "import scipy.stats as stats\n",
    "\n",
    "# system manipulation\n",
    "import itertools\n",
    "import os\n",
    "import sys\n",
    "sys.path.append(\"./util_\")\n",
    "import prepare_\n",
    "import explore_\n",
    "\n",
    "# other\n",
    "import env\n",
    "import warnings\n",
    "warnings.filterwarnings(\"ignore\")\n",
    "\n",
    "# set the random seed\n",
    "np.random.seed(95)"
   ]
  },
  {
   "cell_type": "markdown",
   "id": "cee22d20",
   "metadata": {},
   "source": [
    "**Get train and validate datasets**"
   ]
  },
  {
   "cell_type": "code",
   "execution_count": 5,
   "id": "96860081",
   "metadata": {},
   "outputs": [
    {
     "data": {
      "text/html": [
       "<div>\n",
       "<style scoped>\n",
       "    .dataframe tbody tr th:only-of-type {\n",
       "        vertical-align: middle;\n",
       "    }\n",
       "\n",
       "    .dataframe tbody tr th {\n",
       "        vertical-align: top;\n",
       "    }\n",
       "\n",
       "    .dataframe thead th {\n",
       "        text-align: right;\n",
       "    }\n",
       "</style>\n",
       "<table border=\"1\" class=\"dataframe\">\n",
       "  <thead>\n",
       "    <tr style=\"text-align: right;\">\n",
       "      <th></th>\n",
       "      <th>tax_value</th>\n",
       "      <th>county</th>\n",
       "      <th>los_angeles</th>\n",
       "      <th>orange</th>\n",
       "      <th>ventura</th>\n",
       "      <th>bedrooms_scaled</th>\n",
       "      <th>bathrooms_scaled</th>\n",
       "      <th>sqr_feet_scaled</th>\n",
       "      <th>year_built_scaled</th>\n",
       "      <th>tax_amount_scaled</th>\n",
       "    </tr>\n",
       "  </thead>\n",
       "  <tbody>\n",
       "    <tr>\n",
       "      <th>0</th>\n",
       "      <td>326232.0</td>\n",
       "      <td>Los Angeles</td>\n",
       "      <td>1</td>\n",
       "      <td>0</td>\n",
       "      <td>0</td>\n",
       "      <td>0.75</td>\n",
       "      <td>0.444444</td>\n",
       "      <td>0.312519</td>\n",
       "      <td>0.415094</td>\n",
       "      <td>0.201110</td>\n",
       "    </tr>\n",
       "    <tr>\n",
       "      <th>1</th>\n",
       "      <td>336547.0</td>\n",
       "      <td>Los Angeles</td>\n",
       "      <td>1</td>\n",
       "      <td>0</td>\n",
       "      <td>0</td>\n",
       "      <td>0.50</td>\n",
       "      <td>0.444444</td>\n",
       "      <td>0.296150</td>\n",
       "      <td>0.179245</td>\n",
       "      <td>0.250392</td>\n",
       "    </tr>\n",
       "    <tr>\n",
       "      <th>2</th>\n",
       "      <td>138770.0</td>\n",
       "      <td>Los Angeles</td>\n",
       "      <td>1</td>\n",
       "      <td>0</td>\n",
       "      <td>0</td>\n",
       "      <td>0.75</td>\n",
       "      <td>0.444444</td>\n",
       "      <td>0.447105</td>\n",
       "      <td>0.500000</td>\n",
       "      <td>0.111268</td>\n",
       "    </tr>\n",
       "    <tr>\n",
       "      <th>3</th>\n",
       "      <td>275868.0</td>\n",
       "      <td>Los Angeles</td>\n",
       "      <td>1</td>\n",
       "      <td>0</td>\n",
       "      <td>0</td>\n",
       "      <td>0.75</td>\n",
       "      <td>0.444444</td>\n",
       "      <td>0.339194</td>\n",
       "      <td>0.745283</td>\n",
       "      <td>0.174100</td>\n",
       "    </tr>\n",
       "    <tr>\n",
       "      <th>4</th>\n",
       "      <td>219404.0</td>\n",
       "      <td>Los Angeles</td>\n",
       "      <td>1</td>\n",
       "      <td>0</td>\n",
       "      <td>0</td>\n",
       "      <td>0.75</td>\n",
       "      <td>0.222222</td>\n",
       "      <td>0.194908</td>\n",
       "      <td>0.443396</td>\n",
       "      <td>0.146260</td>\n",
       "    </tr>\n",
       "  </tbody>\n",
       "</table>\n",
       "</div>"
      ],
      "text/plain": [
       "   tax_value       county  los_angeles  orange  ventura  bedrooms_scaled  \\\n",
       "0   326232.0  Los Angeles            1       0        0             0.75   \n",
       "1   336547.0  Los Angeles            1       0        0             0.50   \n",
       "2   138770.0  Los Angeles            1       0        0             0.75   \n",
       "3   275868.0  Los Angeles            1       0        0             0.75   \n",
       "4   219404.0  Los Angeles            1       0        0             0.75   \n",
       "\n",
       "   bathrooms_scaled  sqr_feet_scaled  year_built_scaled  tax_amount_scaled  \n",
       "0          0.444444         0.312519           0.415094           0.201110  \n",
       "1          0.444444         0.296150           0.179245           0.250392  \n",
       "2          0.444444         0.447105           0.500000           0.111268  \n",
       "3          0.444444         0.339194           0.745283           0.174100  \n",
       "4          0.222222         0.194908           0.443396           0.146260  "
      ]
     },
     "execution_count": 5,
     "metadata": {},
     "output_type": "execute_result"
    }
   ],
   "source": [
    "# This data is already been split and save\n",
    "# This is only training data\n",
    "train_scaled = pd.read_csv(\"./00_project_data/1-1_training_data.csv\", index_col=0)\n",
    "validate_scaled = pd.read_csv(\"./00_project_data/1-2_validation_data.csv\", index_col=0)\n",
    "\n",
    "train_scaled = train_scaled.reset_index(drop=True)\n",
    "validate_scaled = validate_scaled.reset_index(drop=True)\n",
    "train_scaled.head()"
   ]
  },
  {
   "cell_type": "markdown",
   "id": "a78edbcd",
   "metadata": {},
   "source": [
    "**Separate Feature and target**"
   ]
  },
  {
   "cell_type": "code",
   "execution_count": 6,
   "id": "c5f26ab7",
   "metadata": {},
   "outputs": [],
   "source": [
    "# separate features from target\n",
    "# these coluns are set in order of importance\n",
    "xtrain = train_scaled[['los_angeles', 'ventura', 'orange', \n",
    "                       'bathrooms_scaled','sqr_feet_scaled', \n",
    "                       'bedrooms_scaled', 'year_built_scaled']]\n",
    "\n",
    "ytrain= train_scaled.tax_value\n",
    "\n",
    "### ----------------------------------------------------------------\n",
    "\n",
    "# separate features from target\n",
    "# these coluns are set in order of importance\n",
    "xval = validate_scaled[['los_angeles', 'ventura', 'orange', \n",
    "                       'bathrooms_scaled','sqr_feet_scaled', \n",
    "                       'bedrooms_scaled', 'year_built_scaled']]\n",
    "\n",
    "yval= validate_scaled.tax_value\n"
   ]
  },
  {
   "cell_type": "markdown",
   "id": "6f6e8412",
   "metadata": {},
   "source": [
    "**Set baseline**"
   ]
  },
  {
   "cell_type": "code",
   "execution_count": 7,
   "id": "0b349863",
   "metadata": {},
   "outputs": [
    {
     "name": "stdout",
     "output_type": "stream",
     "text": [
      "mean basline: 265451.4676702995\n",
      "median baseline: 271817.9993553606\n"
     ]
    }
   ],
   "source": [
    "# create a temporary dataframe for the baseline\n",
    "base = pd.DataFrame({\n",
    "    \"mean_baseline\": np.arange(len(train_scaled)),\n",
    "    \"median_baseline\": np.arange(len(train_scaled))\n",
    "})\n",
    "\n",
    "# get the baseline averages\n",
    "mean_base = train_scaled.tax_value.mean()\n",
    "median_base = train_scaled.tax_value.median()\n",
    "\n",
    "# add the averages into the dataframe\n",
    "base.mean_baseline = mean_base\n",
    "base.median_baseline = median_base\n",
    "\n",
    "# compute the RMSE baseline\n",
    "# set baseline at the mean and median of the target\n",
    "baseline_mean = mean_squared_error(ytrain,base.mean_baseline) ** (0.5)\n",
    "baseline_median = mean_squared_error(ytrain, base.median_baseline) ** (0.5)\n",
    "\n",
    "print(f\"mean basline: {baseline_mean}\\\n",
    "\\nmedian baseline: {baseline_median}\")"
   ]
  },
  {
   "cell_type": "markdown",
   "id": "6660edac",
   "metadata": {},
   "source": [
    "## Linear Regression (OLS)\n",
    "\n",
    "**Train**"
   ]
  },
  {
   "cell_type": "code",
   "execution_count": 8,
   "id": "ff87fa8c",
   "metadata": {},
   "outputs": [],
   "source": [
    "# MAKE THE THING: create the model object\n",
    "linear_model_ols = LinearRegression(fit_intercept=True)\n",
    "\n",
    "#1. FIT THE THING: fit the model to training data\n",
    "OLSmodel = linear_model_ols.fit(xtrain, ytrain)\n",
    "\n",
    "#2. USE THE THING: make a prediction\n",
    "ytrain_pred_ols = linear_model_ols.predict(xtrain)\n",
    "\n",
    "#3. Evaluate: RMSE\n",
    "rmse_train_ols = mean_squared_error(ytrain, ytrain_pred_ols) ** (.5) # 0.5 to get the root\n"
   ]
  },
  {
   "cell_type": "markdown",
   "id": "ac4b9a7a",
   "metadata": {},
   "source": [
    "**Validate**"
   ]
  },
  {
   "cell_type": "code",
   "execution_count": 9,
   "id": "2b9744f7",
   "metadata": {},
   "outputs": [
    {
     "name": "stdout",
     "output_type": "stream",
     "text": [
      "OLS Regressor \n",
      "RMSE_train 228413.20251157752 \n",
      "RMSE_validate 228263.0927175613 \n",
      "RMSE_difference -150.109794016229 \n",
      "R2_validate 0.2579341497104136\n"
     ]
    }
   ],
   "source": [
    "\n",
    "#2. USE THE THING: make a prediction\n",
    "yval_pred_ols = linear_model_ols.predict(xval)\n",
    "\n",
    "#3. Evaluate: RMSE\n",
    "rmse_val_ols = mean_squared_error(yval, yval_pred_ols) ** (.5) # 0.5 to get the root\n",
    "\n",
    "\n",
    "# root mean squeared error\n",
    "print(f\"OLS Regressor \\nRMSE_train {rmse_train_ols} \\\n",
    "\\nRMSE_validate {rmse_val_ols} \\\n",
    "\\nRMSE_difference {rmse_val_ols - rmse_train_ols} \\\n",
    "\\nR2_validate {explained_variance_score(yval, yval_pred_ols)}\")"
   ]
  },
  {
   "cell_type": "markdown",
   "id": "70a78c2b",
   "metadata": {},
   "source": [
    "## LassoLars\n",
    "\n",
    "**train**"
   ]
  },
  {
   "cell_type": "code",
   "execution_count": 10,
   "id": "45b00637",
   "metadata": {},
   "outputs": [],
   "source": [
    "# MAKE THE THING: create the model object\n",
    "linear_nodel_lars = LassoLars(alpha= 1.0, fit_intercept=False, max_iter=1000)\n",
    "\n",
    "#1. FIT THE THING: fit the model to training data\n",
    "# We must specify the column in y_train, since we have converted it to a dataframe from a series!\n",
    "laslars = linear_nodel_lars.fit(xtrain, ytrain)\n",
    "\n",
    "#2. USE THE THING: make a prediction\n",
    "ytrain_pred_lars = linear_nodel_lars.predict(xtrain)\n",
    "\n",
    "#3. Evaluate: RMSE\n",
    "rmse_train_lars = mean_squared_error(ytrain, ytrain_pred_lars) ** (0.5)\n"
   ]
  },
  {
   "cell_type": "markdown",
   "id": "ea1bcfc9",
   "metadata": {},
   "source": [
    "**Validate**"
   ]
  },
  {
   "cell_type": "code",
   "execution_count": 11,
   "id": "1217cfc9",
   "metadata": {},
   "outputs": [
    {
     "name": "stdout",
     "output_type": "stream",
     "text": [
      "RMSE for Lasso + Lars\n",
      "_____________________\n",
      "RMSE Training/In-Sample: 228413.202953387, \n",
      "RMSE Validation/Out-of-Sample:  228263.22500206297\n",
      "RMSE Difference:  -149.97795132402098\n",
      "R2_validate 0.2579332726763923\")\n",
      "\n"
     ]
    }
   ],
   "source": [
    "\n",
    "# predict validate\n",
    "yval_pred_lars = linear_nodel_lars.predict(xval)\n",
    "\n",
    "# evaluate: RMSE\n",
    "rmse_val_lars = mean_squared_error(yval, yval_pred_lars) ** (0.5)\n",
    "\n",
    "# how important is each feature to the target\n",
    "laslars.coef_\n",
    "\n",
    "print(f\"\"\"RMSE for Lasso + Lars\n",
    "_____________________\n",
    "RMSE Training/In-Sample: {rmse_train_lars}, \n",
    "RMSE Validation/Out-of-Sample:  {rmse_val_lars}\n",
    "RMSE Difference:  {rmse_val_lars - rmse_train_lars}\n",
    "R2_validate {explained_variance_score(yval, yval_pred_lars)}\")\n",
    "\"\"\")"
   ]
  },
  {
   "cell_type": "markdown",
   "id": "f48b1b69",
   "metadata": {},
   "source": [
    "## TweedieRegressor (GLM:Generalized Linear Model)"
   ]
  },
  {
   "cell_type": "code",
   "execution_count": 12,
   "id": "6d004ab9",
   "metadata": {},
   "outputs": [
    {
     "data": {
      "text/plain": [
       "<Axes: >"
      ]
     },
     "execution_count": 12,
     "metadata": {},
     "output_type": "execute_result"
    },
    {
     "data": {
      "image/png": "[encoded data removed]",
      "text/plain": [
       "<Figure size 500x300 with 1 Axes>"
      ]
     },
     "metadata": {},
     "output_type": "display_data"
    }
   ],
   "source": [
    "# Plot the distribution\n",
    "plt.figure(figsize=(5,3))\n",
    "ytrain.hist()\n",
    "\n",
    "# looks like a gamma distribution"
   ]
  },
  {
   "cell_type": "markdown",
   "id": "a3ac3a32",
   "metadata": {},
   "source": [
    "**Train**"
   ]
  },
  {
   "cell_type": "code",
   "execution_count": 13,
   "id": "1e9e597d",
   "metadata": {},
   "outputs": [],
   "source": [
    "# MAKE THE THING: create the model object\n",
    "linear_nodel_twd = TweedieRegressor(alpha= 1.0, power= 1)\n",
    "\n",
    "#1. FIT THE THING: fit the model to training data\n",
    "# We must specify the column in y_train, since we have converted it to a dataframe from a series!\n",
    "tweedieReg = linear_nodel_twd.fit(xtrain, ytrain)\n",
    "\n",
    "#2. USE THE THING: make a prediction\n",
    "ytrain_pred_twd = linear_nodel_twd.predict(xtrain)\n",
    "\n",
    "#3. Evaluate: RMSE\n",
    "rmse_train_twd = mean_squared_error(ytrain, ytrain_pred_twd) ** (0.5)\n"
   ]
  },
  {
   "cell_type": "markdown",
   "id": "a3e4be87",
   "metadata": {},
   "source": [
    "**Validate**"
   ]
  },
  {
   "cell_type": "code",
   "execution_count": 14,
   "id": "a79ed416",
   "metadata": {},
   "outputs": [
    {
     "name": "stdout",
     "output_type": "stream",
     "text": [
      "RMSE for Tweedie Regressor\n",
      "_____________________\n",
      "RMSE Training/In-Sample: 228167.14166304853, \n",
      "RMSE Validation/Out-of-Sample:  227974.8624731191\n",
      "RMSE Difference:  -192.27918992942432\n",
      "R2_validate 0.25980642292347356\")\n",
      "\n"
     ]
    }
   ],
   "source": [
    "# predict validate\n",
    "yval_pred_twd = linear_nodel_twd.predict(xval)\n",
    "\n",
    "# evaluate: RMSE\n",
    "rmse_val_twd = mean_squared_error(yval, yval_pred_twd) ** (0.5)\n",
    "\n",
    "# how important is each feature to the target\n",
    "tweedieReg.coef_\n",
    "\n",
    "print(f\"\"\"RMSE for Tweedie Regressor\n",
    "_____________________\n",
    "RMSE Training/In-Sample: {rmse_train_twd}, \n",
    "RMSE Validation/Out-of-Sample:  {rmse_val_twd}\n",
    "RMSE Difference:  {rmse_val_twd - rmse_train_twd}\n",
    "R2_validate {explained_variance_score(yval, yval_pred_twd)}\")\n",
    "\"\"\")"
   ]
  },
  {
   "cell_type": "markdown",
   "id": "bf623266",
   "metadata": {},
   "source": [
    "## Polynomial Features\n",
    "\n",
    "**Prep Polynomial features**"
   ]
  },
  {
   "cell_type": "code",
   "execution_count": 15,
   "id": "0a185f37",
   "metadata": {},
   "outputs": [
    {
     "data": {
      "text/plain": [
       "array([1.        , 1.        , 0.        , 0.        , 0.44444444,\n",
       "       0.29615035, 0.5       , 0.17924528, 1.        , 0.        ,\n",
       "       0.        , 0.44444444, 0.29615035, 0.5       , 0.17924528,\n",
       "       0.        , 0.        , 0.        , 0.        , 0.        ,\n",
       "       0.        , 0.        , 0.        , 0.        , 0.        ,\n",
       "       0.        , 0.19753086, 0.13162238, 0.22222222, 0.07966457,\n",
       "       0.08770503, 0.14807517, 0.05308355, 0.25      , 0.08962264,\n",
       "       0.03212887, 1.        , 0.        , 0.        , 0.44444444,\n",
       "       0.29615035, 0.5       , 0.17924528, 0.        , 0.        ,\n",
       "       0.        , 0.        , 0.        , 0.        , 0.        ,\n",
       "       0.        , 0.        , 0.        , 0.        , 0.19753086,\n",
       "       0.13162238, 0.22222222, 0.07966457, 0.08770503, 0.14807517,\n",
       "       0.05308355, 0.25      , 0.08962264, 0.03212887, 0.        ,\n",
       "       0.        , 0.        , 0.        , 0.        , 0.        ,\n",
       "       0.        , 0.        , 0.        , 0.        , 0.        ,\n",
       "       0.        , 0.        , 0.        , 0.        , 0.        ,\n",
       "       0.        , 0.        , 0.        , 0.        , 0.        ,\n",
       "       0.        , 0.        , 0.        , 0.        , 0.        ,\n",
       "       0.        , 0.        , 0.        , 0.        , 0.        ,\n",
       "       0.        , 0.        , 0.        , 0.        , 0.        ,\n",
       "       0.0877915 , 0.05849883, 0.09876543, 0.03540648, 0.03898001,\n",
       "       0.06581119, 0.02359269, 0.11111111, 0.03983229, 0.0142795 ,\n",
       "       0.02597387, 0.04385251, 0.01572071, 0.07403759, 0.02654178,\n",
       "       0.00951498, 0.125     , 0.04481132, 0.01606444, 0.00575895])"
      ]
     },
     "execution_count": 15,
     "metadata": {},
     "output_type": "execute_result"
    }
   ],
   "source": [
    "#1. Create the polynomial features to get a new set of features\n",
    "pf = PolynomialFeatures(degree=3) #Quadratic aka x-squared\n",
    "\n",
    "#1. Fit and transform X_train_scaled\n",
    "xtrain_degree2 = pf.fit_transform(xtrain)\n",
    "\n",
    "#1. Transform X_validate_scaled & X_test_scaled \n",
    "xval_degree2 = pf.transform(xval)\n",
    "\n",
    "xtrain_degree2[1]\n",
    "# x_test_degree2 = pf.transform(x_test_scaled)"
   ]
  },
  {
   "cell_type": "markdown",
   "id": "fa91328b",
   "metadata": {},
   "source": [
    "**Train**"
   ]
  },
  {
   "cell_type": "code",
   "execution_count": 16,
   "id": "08eed579",
   "metadata": {},
   "outputs": [],
   "source": [
    "#2.1 MAKE THE THING: create the model object\n",
    "linear_model_pf = LinearRegression()\n",
    "\n",
    "#2.2 FIT THE THING: fit the model to our training data. We must specify the column in y_train, \n",
    "# since we have converted it to a dataframe from a series! \n",
    "polyFeat = linear_model_pf.fit(xtrain_degree2, ytrain)\n",
    "\n",
    "#3. USE THE THING: predict train\n",
    "ytrain_pred_poly = linear_model_pf.predict(xtrain_degree2)\n",
    "\n",
    "#4. Evaluate: rmse\n",
    "rmse_train_poly = mean_squared_error(ytrain, ytrain_pred_poly) ** (0.5)\n"
   ]
  },
  {
   "cell_type": "markdown",
   "id": "f825c4f6",
   "metadata": {},
   "source": [
    "**Validate**"
   ]
  },
  {
   "cell_type": "code",
   "execution_count": 17,
   "id": "e5aff527",
   "metadata": {},
   "outputs": [
    {
     "name": "stdout",
     "output_type": "stream",
     "text": [
      "Polynomial feature regressor\n",
      "_____________________\n",
      "RMSE Training/In-Sample: 223519.2173339139, \n",
      "RMSE Validation/Out-of-Sample:  223363.09834810492\n",
      "RMSE Difference:  -156.11898580897832\n",
      "R2_validate 0.28945072580590603\")\n",
      "\n"
     ]
    }
   ],
   "source": [
    "# predict validate\n",
    "yval_pred_poly = linear_model_pf.predict(xval_degree2)\n",
    "\n",
    "# evaluate: RMSE\n",
    "rmse_val_poly = mean_squared_error(yval, yval_pred_poly) ** (0.5)\n",
    "\n",
    "# how important is each feature to the target\n",
    "polyFeat.coef_\n",
    "\n",
    "\n",
    "print(f\"\"\"Polynomial feature regressor\n",
    "_____________________\n",
    "RMSE Training/In-Sample: {rmse_train_poly}, \n",
    "RMSE Validation/Out-of-Sample:  {rmse_val_poly}\n",
    "RMSE Difference:  {rmse_val_poly - rmse_train_poly}\n",
    "R2_validate {explained_variance_score(yval, yval_pred_poly)}\")\n",
    "\"\"\")"
   ]
  },
  {
   "cell_type": "markdown",
   "id": "6b48e433",
   "metadata": {},
   "source": [
    "## Best Model Test"
   ]
  },
  {
   "cell_type": "code",
   "execution_count": 20,
   "id": "e4680f67",
   "metadata": {},
   "outputs": [],
   "source": [
    "# This is only the test data\n",
    "test_scaled = pd.read_csv(\"./00_project_data/1-3_testing_data.csv\", index_col=0)\n",
    "\n",
    "train_scaled = test_scaled.reset_index(drop=True)\n",
    "\n",
    "# separate features from target\n",
    "# these coluns are set in order of importance\n",
    "xtest = test_scaled[['los_angeles', 'ventura', 'orange', \n",
    "                       'bathrooms_scaled','sqr_feet_scaled', \n",
    "                       'bedrooms_scaled', 'year_built_scaled']]\n",
    "\n",
    "ytest= test_scaled.tax_value"
   ]
  },
  {
   "cell_type": "code",
   "execution_count": 18,
   "id": "534a8c1e",
   "metadata": {},
   "outputs": [],
   "source": [
    "# # predict validate\n",
    "# ytest_pred_twd = linear_nodel_twd.predict(xtest)\n",
    "\n",
    "# # evaluate: RMSE\n",
    "# rmse_test_twd = mean_squared_error(ytest, ytest_pred_twd) ** (0.5)\n",
    "\n",
    "# # how important is each feature to the target\n",
    "# tweedieReg.coef_\n",
    "\n",
    "# print(f\"\"\"RMSE for Lasso + Lars\n",
    "# _____________________\n",
    "# RMSE Train: {rmse_train_twd}\n",
    "# RMSE Test: {rmse_test_twd}\n",
    "# RMSE Difference (test vs train):  {rmse_test_twd - rmse_train_twd}\n",
    "# R2_validate {explained_variance_score(ytest, ytest_pred_twd)}\")\n",
    "\n",
    "# Baseline mean: {baseline_mean}\n",
    "# Baseline median: {baseline_median}\n",
    "# \"\"\")\n",
    "\n",
    "# # R2_validate {explained_variance_score(yval, yval_pred_twd)}\""
   ]
  }
 ],
 "metadata": {
  "kernelspec": {
   "display_name": "Python 3 (ipykernel)",
   "language": "python",
   "name": "python3"
  },
  "language_info": {
   "codemirror_mode": {
    "name": "ipython",
    "version": 3
   },
   "file_extension": ".py",
   "mimetype": "text/x-python",
   "name": "python",
   "nbconvert_exporter": "python",
   "pygments_lexer": "ipython3",
   "version": "3.10.9"
  }
 },
 "nbformat": 4,
 "nbformat_minor": 5
}
