{
 "cells": [
  {
   "cell_type": "markdown",
   "id": "06174f04",
   "metadata": {},
   "source": [
    "# Acquire\n",
    "\n",
    "**Goal: Your goal is to predict the values of single unit properties using the obervations from 2017.**\n",
    "\n",
    "**import**"
   ]
  },
  {
   "cell_type": "code",
   "execution_count": 1,
   "id": "6d5743ee",
   "metadata": {},
   "outputs": [],
   "source": [
    "# data manipulation\n",
    "import pandas as pd\n",
    "import numpy as np\n",
    "\n",
    "# data visualization\n",
    "import matplotlib.pyplot as plt\n",
    "import seaborn as sns\n",
    "\n",
    "# data separation/transformation\n",
    "from sklearn.model_selection import train_test_split\n",
    "from sklearn.preprocessing import MinMaxScaler\n",
    "\n",
    "# system manipulation\n",
    "import sys\n",
    "sys.path.append(\"./util_\")\n",
    "import acquire_\n",
    "import prepare_\n",
    "\n",
    "# other\n",
    "import warnings\n",
    "warnings.filterwarnings(\"ignore\")\n"
   ]
  },
  {
   "cell_type": "markdown",
   "id": "b82b4656",
   "metadata": {},
   "source": [
    "**get data**"
   ]
  },
  {
   "cell_type": "code",
   "execution_count": 2,
   "id": "15a0f3a0",
   "metadata": {},
   "outputs": [],
   "source": [
    "# sql query\n",
    "query = \"\"\"\n",
    "SELECT bedroomcnt, \n",
    "        bathroomcnt,\n",
    "        calculatedfinishedsquarefeet,\n",
    "        taxvaluedollarcnt,\n",
    "        yearbuilt,\n",
    "        taxamount,\n",
    "        fips     \n",
    "FROM properties_2017\n",
    "WHERE propertylandusetypeid = 261; -- Single family home\n",
    "\"\"\""
   ]
  },
  {
   "cell_type": "code",
   "execution_count": 3,
   "id": "198f93ec",
   "metadata": {},
   "outputs": [],
   "source": [
    "# get data from codeup database\n",
    "zillow, q = acquire_.get_codeup_sql_data_(db_name=\"zillow\", query=query,fileName=\"zillow_single_family\")\n"
   ]
  },
  {
   "cell_type": "markdown",
   "id": "60f43d12",
   "metadata": {},
   "source": [
    "**Understand data**"
   ]
  },
  {
   "cell_type": "code",
   "execution_count": 4,
   "id": "b5b9675d",
   "metadata": {},
   "outputs": [
    {
     "data": {
      "text/html": [
       "<div>\n",
       "<style scoped>\n",
       "    .dataframe tbody tr th:only-of-type {\n",
       "        vertical-align: middle;\n",
       "    }\n",
       "\n",
       "    .dataframe tbody tr th {\n",
       "        vertical-align: top;\n",
       "    }\n",
       "\n",
       "    .dataframe thead th {\n",
       "        text-align: right;\n",
       "    }\n",
       "</style>\n",
       "<table border=\"1\" class=\"dataframe\">\n",
       "  <thead>\n",
       "    <tr style=\"text-align: right;\">\n",
       "      <th></th>\n",
       "      <th>bedroomcnt</th>\n",
       "      <th>bathroomcnt</th>\n",
       "      <th>calculatedfinishedsquarefeet</th>\n",
       "      <th>taxvaluedollarcnt</th>\n",
       "      <th>yearbuilt</th>\n",
       "      <th>taxamount</th>\n",
       "      <th>fips</th>\n",
       "    </tr>\n",
       "  </thead>\n",
       "  <tbody>\n",
       "    <tr>\n",
       "      <th>0</th>\n",
       "      <td>0.0</td>\n",
       "      <td>0.0</td>\n",
       "      <td>NaN</td>\n",
       "      <td>27516.0</td>\n",
       "      <td>NaN</td>\n",
       "      <td>NaN</td>\n",
       "      <td>6037.0</td>\n",
       "    </tr>\n",
       "    <tr>\n",
       "      <th>1</th>\n",
       "      <td>0.0</td>\n",
       "      <td>0.0</td>\n",
       "      <td>NaN</td>\n",
       "      <td>10.0</td>\n",
       "      <td>NaN</td>\n",
       "      <td>NaN</td>\n",
       "      <td>6037.0</td>\n",
       "    </tr>\n",
       "    <tr>\n",
       "      <th>2</th>\n",
       "      <td>0.0</td>\n",
       "      <td>0.0</td>\n",
       "      <td>NaN</td>\n",
       "      <td>10.0</td>\n",
       "      <td>NaN</td>\n",
       "      <td>NaN</td>\n",
       "      <td>6037.0</td>\n",
       "    </tr>\n",
       "    <tr>\n",
       "      <th>3</th>\n",
       "      <td>0.0</td>\n",
       "      <td>0.0</td>\n",
       "      <td>NaN</td>\n",
       "      <td>2108.0</td>\n",
       "      <td>NaN</td>\n",
       "      <td>174.21</td>\n",
       "      <td>6037.0</td>\n",
       "    </tr>\n",
       "    <tr>\n",
       "      <th>4</th>\n",
       "      <td>4.0</td>\n",
       "      <td>2.0</td>\n",
       "      <td>3633.0</td>\n",
       "      <td>296425.0</td>\n",
       "      <td>2005.0</td>\n",
       "      <td>6941.39</td>\n",
       "      <td>6037.0</td>\n",
       "    </tr>\n",
       "  </tbody>\n",
       "</table>\n",
       "</div>"
      ],
      "text/plain": [
       "   bedroomcnt  bathroomcnt  calculatedfinishedsquarefeet  taxvaluedollarcnt  \\\n",
       "0         0.0          0.0                           NaN            27516.0   \n",
       "1         0.0          0.0                           NaN               10.0   \n",
       "2         0.0          0.0                           NaN               10.0   \n",
       "3         0.0          0.0                           NaN             2108.0   \n",
       "4         4.0          2.0                        3633.0           296425.0   \n",
       "\n",
       "   yearbuilt  taxamount    fips  \n",
       "0        NaN        NaN  6037.0  \n",
       "1        NaN        NaN  6037.0  \n",
       "2        NaN        NaN  6037.0  \n",
       "3        NaN     174.21  6037.0  \n",
       "4     2005.0    6941.39  6037.0  "
      ]
     },
     "execution_count": 4,
     "metadata": {},
     "output_type": "execute_result"
    }
   ],
   "source": [
    "zillow.head()"
   ]
  },
  {
   "cell_type": "code",
   "execution_count": 5,
   "id": "4ae4da04",
   "metadata": {},
   "outputs": [
    {
     "data": {
      "text/plain": [
       "(2152863, 7)"
      ]
     },
     "execution_count": 5,
     "metadata": {},
     "output_type": "execute_result"
    }
   ],
   "source": [
    "zillow.shape"
   ]
  },
  {
   "cell_type": "code",
   "execution_count": 6,
   "id": "66fcee59",
   "metadata": {},
   "outputs": [
    {
     "data": {
      "text/plain": [
       "Index(['bedroomcnt', 'bathroomcnt', 'calculatedfinishedsquarefeet',\n",
       "       'taxvaluedollarcnt', 'yearbuilt', 'taxamount', 'fips'],\n",
       "      dtype='object')"
      ]
     },
     "execution_count": 6,
     "metadata": {},
     "output_type": "execute_result"
    }
   ],
   "source": [
    "zillow.columns"
   ]
  },
  {
   "cell_type": "code",
   "execution_count": 7,
   "id": "11b576f3",
   "metadata": {},
   "outputs": [
    {
     "name": "stdout",
     "output_type": "stream",
     "text": [
      "<class 'pandas.core.frame.DataFrame'>\n",
      "RangeIndex: 2152863 entries, 0 to 2152862\n",
      "Data columns (total 7 columns):\n",
      " #   Column                        Non-Null Count    Dtype  \n",
      "---  ------                        --------------    -----  \n",
      " 0   bedroomcnt                    2152852 non-null  float64\n",
      " 1   bathroomcnt                   2152852 non-null  float64\n",
      " 2   calculatedfinishedsquarefeet  2144379 non-null  float64\n",
      " 3   taxvaluedollarcnt             2152370 non-null  float64\n",
      " 4   yearbuilt                     2143526 non-null  float64\n",
      " 5   taxamount                     2148421 non-null  float64\n",
      " 6   fips                          2152863 non-null  float64\n",
      "dtypes: float64(7)\n",
      "memory usage: 115.0 MB\n"
     ]
    }
   ],
   "source": [
    "zillow.info(show_counts=True)"
   ]
  },
  {
   "cell_type": "code",
   "execution_count": 8,
   "id": "1db4d242",
   "metadata": {},
   "outputs": [
    {
     "data": {
      "text/plain": [
       "0.01058032954256727"
      ]
     },
     "execution_count": 8,
     "metadata": {},
     "output_type": "execute_result"
    }
   ],
   "source": [
    "# count all the null values\n",
    "zillow.isna().sum().values.sum() / len(zillow)"
   ]
  },
  {
   "cell_type": "code",
   "execution_count": 9,
   "id": "5078177f",
   "metadata": {},
   "outputs": [
    {
     "data": {
      "text/html": [
       "<div>\n",
       "<style scoped>\n",
       "    .dataframe tbody tr th:only-of-type {\n",
       "        vertical-align: middle;\n",
       "    }\n",
       "\n",
       "    .dataframe tbody tr th {\n",
       "        vertical-align: top;\n",
       "    }\n",
       "\n",
       "    .dataframe thead th {\n",
       "        text-align: right;\n",
       "    }\n",
       "</style>\n",
       "<table border=\"1\" class=\"dataframe\">\n",
       "  <thead>\n",
       "    <tr style=\"text-align: right;\">\n",
       "      <th></th>\n",
       "      <th>bedroomcnt</th>\n",
       "      <th>bathroomcnt</th>\n",
       "      <th>calculatedfinishedsquarefeet</th>\n",
       "      <th>taxvaluedollarcnt</th>\n",
       "      <th>yearbuilt</th>\n",
       "      <th>taxamount</th>\n",
       "      <th>fips</th>\n",
       "    </tr>\n",
       "  </thead>\n",
       "  <tbody>\n",
       "    <tr>\n",
       "      <th>count</th>\n",
       "      <td>2.152852e+06</td>\n",
       "      <td>2.152852e+06</td>\n",
       "      <td>2.144379e+06</td>\n",
       "      <td>2.152370e+06</td>\n",
       "      <td>2.143526e+06</td>\n",
       "      <td>2.148421e+06</td>\n",
       "      <td>2.152863e+06</td>\n",
       "    </tr>\n",
       "    <tr>\n",
       "      <th>mean</th>\n",
       "      <td>3.287196e+00</td>\n",
       "      <td>2.230688e+00</td>\n",
       "      <td>1.862855e+03</td>\n",
       "      <td>4.618962e+05</td>\n",
       "      <td>1.960950e+03</td>\n",
       "      <td>5.634866e+03</td>\n",
       "      <td>6.048377e+03</td>\n",
       "    </tr>\n",
       "    <tr>\n",
       "      <th>std</th>\n",
       "      <td>9.547544e-01</td>\n",
       "      <td>9.992796e-01</td>\n",
       "      <td>1.222125e+03</td>\n",
       "      <td>6.996760e+05</td>\n",
       "      <td>2.216220e+01</td>\n",
       "      <td>8.178910e+03</td>\n",
       "      <td>2.043329e+01</td>\n",
       "    </tr>\n",
       "    <tr>\n",
       "      <th>min</th>\n",
       "      <td>0.000000e+00</td>\n",
       "      <td>0.000000e+00</td>\n",
       "      <td>1.000000e+00</td>\n",
       "      <td>1.000000e+00</td>\n",
       "      <td>1.801000e+03</td>\n",
       "      <td>1.850000e+00</td>\n",
       "      <td>6.037000e+03</td>\n",
       "    </tr>\n",
       "    <tr>\n",
       "      <th>25%</th>\n",
       "      <td>3.000000e+00</td>\n",
       "      <td>2.000000e+00</td>\n",
       "      <td>1.257000e+03</td>\n",
       "      <td>1.881702e+05</td>\n",
       "      <td>1.949000e+03</td>\n",
       "      <td>2.534980e+03</td>\n",
       "      <td>6.037000e+03</td>\n",
       "    </tr>\n",
       "    <tr>\n",
       "      <th>50%</th>\n",
       "      <td>3.000000e+00</td>\n",
       "      <td>2.000000e+00</td>\n",
       "      <td>1.623000e+03</td>\n",
       "      <td>3.276710e+05</td>\n",
       "      <td>1.958000e+03</td>\n",
       "      <td>4.108950e+03</td>\n",
       "      <td>6.037000e+03</td>\n",
       "    </tr>\n",
       "    <tr>\n",
       "      <th>75%</th>\n",
       "      <td>4.000000e+00</td>\n",
       "      <td>3.000000e+00</td>\n",
       "      <td>2.208000e+03</td>\n",
       "      <td>5.345270e+05</td>\n",
       "      <td>1.976000e+03</td>\n",
       "      <td>6.414320e+03</td>\n",
       "      <td>6.059000e+03</td>\n",
       "    </tr>\n",
       "    <tr>\n",
       "      <th>max</th>\n",
       "      <td>2.500000e+01</td>\n",
       "      <td>3.200000e+01</td>\n",
       "      <td>9.525760e+05</td>\n",
       "      <td>9.842891e+07</td>\n",
       "      <td>2.016000e+03</td>\n",
       "      <td>1.337756e+06</td>\n",
       "      <td>6.111000e+03</td>\n",
       "    </tr>\n",
       "  </tbody>\n",
       "</table>\n",
       "</div>"
      ],
      "text/plain": [
       "         bedroomcnt   bathroomcnt  calculatedfinishedsquarefeet  \\\n",
       "count  2.152852e+06  2.152852e+06                  2.144379e+06   \n",
       "mean   3.287196e+00  2.230688e+00                  1.862855e+03   \n",
       "std    9.547544e-01  9.992796e-01                  1.222125e+03   \n",
       "min    0.000000e+00  0.000000e+00                  1.000000e+00   \n",
       "25%    3.000000e+00  2.000000e+00                  1.257000e+03   \n",
       "50%    3.000000e+00  2.000000e+00                  1.623000e+03   \n",
       "75%    4.000000e+00  3.000000e+00                  2.208000e+03   \n",
       "max    2.500000e+01  3.200000e+01                  9.525760e+05   \n",
       "\n",
       "       taxvaluedollarcnt     yearbuilt     taxamount          fips  \n",
       "count       2.152370e+06  2.143526e+06  2.148421e+06  2.152863e+06  \n",
       "mean        4.618962e+05  1.960950e+03  5.634866e+03  6.048377e+03  \n",
       "std         6.996760e+05  2.216220e+01  8.178910e+03  2.043329e+01  \n",
       "min         1.000000e+00  1.801000e+03  1.850000e+00  6.037000e+03  \n",
       "25%         1.881702e+05  1.949000e+03  2.534980e+03  6.037000e+03  \n",
       "50%         3.276710e+05  1.958000e+03  4.108950e+03  6.037000e+03  \n",
       "75%         5.345270e+05  1.976000e+03  6.414320e+03  6.059000e+03  \n",
       "max         9.842891e+07  2.016000e+03  1.337756e+06  6.111000e+03  "
      ]
     },
     "execution_count": 9,
     "metadata": {},
     "output_type": "execute_result"
    }
   ],
   "source": [
    "zillow.describe()"
   ]
  },
  {
   "cell_type": "code",
   "execution_count": 10,
   "id": "93bb08c6",
   "metadata": {},
   "outputs": [
    {
     "name": "stdout",
     "output_type": "stream",
     "text": [
      "Numeric col count: 7\n",
      "object col count: 0\n"
     ]
    }
   ],
   "source": [
    "# count of numeric columns and object columns\n",
    "numerics = len(zillow.select_dtypes(\"number\").columns)\n",
    "objects = len(zillow.select_dtypes(\"object\").columns)\n",
    "\n",
    "print(\"Numeric col count:\", numerics)\n",
    "print(\"object col count:\", objects)"
   ]
  },
  {
   "cell_type": "markdown",
   "id": "82ddac19",
   "metadata": {},
   "source": [
    "**What I see:**\n",
    "\n",
    "- I have 2152863 rows and 7 columns\n",
    "- 7 of the 29 columns are numric while 0 of them are string object colums\n",
    "- 22778 total null count (1% of the data)\n",
    "- I also see the descriptive statistics of my data"
   ]
  },
  {
   "cell_type": "markdown",
   "id": "9e6bfa4b",
   "metadata": {},
   "source": [
    "# Prepare"
   ]
  },
  {
   "cell_type": "markdown",
   "id": "dca305e6",
   "metadata": {},
   "source": [
    "**Rename columns**"
   ]
  },
  {
   "cell_type": "code",
   "execution_count": 11,
   "id": "8045f98d",
   "metadata": {},
   "outputs": [],
   "source": [
    "# rename dataframe columns\n",
    "zillow = zillow.rename(columns={\"bedroomcnt\":\"bedrooms\",\n",
    "                       \"bathroomcnt\":\"bathrooms\",\n",
    "                       \"calculatedfinishedsquarefeet\":\"sqr_feet\",\n",
    "                      \"taxvaluedollarcnt\":\"tax_value\",\n",
    "                      \"yearbuilt\":\"year_built\",\n",
    "                      \"taxamount\":\"tax_amount\",\n",
    "                      \"fips\":\"county\"})"
   ]
  },
  {
   "cell_type": "markdown",
   "id": "fb266d4e",
   "metadata": {},
   "source": [
    "**drop nulls**"
   ]
  },
  {
   "cell_type": "code",
   "execution_count": 12,
   "id": "2c08a476",
   "metadata": {},
   "outputs": [],
   "source": [
    "# drop all nulls in the dataframe\n",
    "zillow = zillow.dropna()"
   ]
  },
  {
   "cell_type": "markdown",
   "id": "4a8230a0",
   "metadata": {},
   "source": [
    "**convert data type**"
   ]
  },
  {
   "cell_type": "code",
   "execution_count": 13,
   "id": "7a939fa9",
   "metadata": {},
   "outputs": [],
   "source": [
    "# convert data type from float to int\n",
    "zillow.bedrooms = zillow.bedrooms.astype(int)\n",
    "zillow.year_built = zillow.year_built.astype(int)"
   ]
  },
  {
   "cell_type": "markdown",
   "id": "a748cca4",
   "metadata": {},
   "source": [
    "**Remove duplicated rows**"
   ]
  },
  {
   "cell_type": "code",
   "execution_count": 14,
   "id": "11f51429",
   "metadata": {},
   "outputs": [],
   "source": [
    "# remove the duplocated rows\n",
    "zillow = zillow.drop_duplicates(keep=\"first\")"
   ]
  },
  {
   "cell_type": "markdown",
   "id": "0f652bbb",
   "metadata": {},
   "source": [
    "**Remove outliers**\n",
    "\n",
    "This is done using box plot in the explore phase. only looking at the training data."
   ]
  },
  {
   "cell_type": "code",
   "execution_count": 15,
   "id": "3028e3e7",
   "metadata": {},
   "outputs": [],
   "source": [
    "# remove outliers\n",
    "zillow = zillow[zillow.bedrooms <= 7]\n",
    "zillow = zillow[zillow.bathrooms <= 7]\n",
    "zillow = zillow[zillow.year_built >= 1900]\n",
    "zillow = zillow[zillow.sqr_feet <= 5000]\n",
    "zillow = zillow[zillow.tax_amount <= 20000]"
   ]
  },
  {
   "cell_type": "markdown",
   "id": "cfb115e3",
   "metadata": {},
   "source": [
    "**feature transformation**"
   ]
  },
  {
   "cell_type": "code",
   "execution_count": 16,
   "id": "3ff17dbc",
   "metadata": {},
   "outputs": [],
   "source": [
    "# Rename the unique values in fips to county names\n",
    "zillow.county = zillow.county.astype(str).str.replace(\"6037.0\",\"Los Angeles\").str.replace(\"6059.0\",\"Orange\").str.replace(\"6111.0\",\"Ventura\")\n"
   ]
  },
  {
   "cell_type": "markdown",
   "id": "74f8b2ab",
   "metadata": {},
   "source": [
    "**Create dummies**"
   ]
  },
  {
   "cell_type": "code",
   "execution_count": 17,
   "id": "2848f161",
   "metadata": {},
   "outputs": [
    {
     "data": {
      "text/html": [
       "<div>\n",
       "<style scoped>\n",
       "    .dataframe tbody tr th:only-of-type {\n",
       "        vertical-align: middle;\n",
       "    }\n",
       "\n",
       "    .dataframe tbody tr th {\n",
       "        vertical-align: top;\n",
       "    }\n",
       "\n",
       "    .dataframe thead th {\n",
       "        text-align: right;\n",
       "    }\n",
       "</style>\n",
       "<table border=\"1\" class=\"dataframe\">\n",
       "  <thead>\n",
       "    <tr style=\"text-align: right;\">\n",
       "      <th></th>\n",
       "      <th>Los Angeles</th>\n",
       "      <th>Orange</th>\n",
       "      <th>Ventura</th>\n",
       "    </tr>\n",
       "  </thead>\n",
       "  <tbody>\n",
       "    <tr>\n",
       "      <th>4</th>\n",
       "      <td>1</td>\n",
       "      <td>0</td>\n",
       "      <td>0</td>\n",
       "    </tr>\n",
       "    <tr>\n",
       "      <th>6</th>\n",
       "      <td>1</td>\n",
       "      <td>0</td>\n",
       "      <td>0</td>\n",
       "    </tr>\n",
       "  </tbody>\n",
       "</table>\n",
       "</div>"
      ],
      "text/plain": [
       "   Los Angeles  Orange  Ventura\n",
       "4            1       0        0\n",
       "6            1       0        0"
      ]
     },
     "execution_count": 17,
     "metadata": {},
     "output_type": "execute_result"
    }
   ],
   "source": [
    "# create dummie variables\n",
    "dummies = pd.get_dummies(zillow.county)\n",
    "\n",
    "# clean dummie column names\n",
    "dummies_col = dummies.columns.str.replace(\" \", \"_\").str.lower()\n",
    "\n",
    "dummies.head(2)"
   ]
  },
  {
   "cell_type": "code",
   "execution_count": 18,
   "id": "1211ed86",
   "metadata": {},
   "outputs": [
    {
     "data": {
      "text/html": [
       "<div>\n",
       "<style scoped>\n",
       "    .dataframe tbody tr th:only-of-type {\n",
       "        vertical-align: middle;\n",
       "    }\n",
       "\n",
       "    .dataframe tbody tr th {\n",
       "        vertical-align: top;\n",
       "    }\n",
       "\n",
       "    .dataframe thead th {\n",
       "        text-align: right;\n",
       "    }\n",
       "</style>\n",
       "<table border=\"1\" class=\"dataframe\">\n",
       "  <thead>\n",
       "    <tr style=\"text-align: right;\">\n",
       "      <th></th>\n",
       "      <th>bedrooms</th>\n",
       "      <th>bathrooms</th>\n",
       "      <th>sqr_feet</th>\n",
       "      <th>tax_value</th>\n",
       "      <th>year_built</th>\n",
       "      <th>tax_amount</th>\n",
       "      <th>county</th>\n",
       "      <th>los_angeles</th>\n",
       "      <th>orange</th>\n",
       "      <th>ventura</th>\n",
       "    </tr>\n",
       "  </thead>\n",
       "  <tbody>\n",
       "    <tr>\n",
       "      <th>4</th>\n",
       "      <td>4</td>\n",
       "      <td>2.0</td>\n",
       "      <td>3633.0</td>\n",
       "      <td>296425.0</td>\n",
       "      <td>2005</td>\n",
       "      <td>6941.39</td>\n",
       "      <td>Los Angeles</td>\n",
       "      <td>1</td>\n",
       "      <td>0</td>\n",
       "      <td>0</td>\n",
       "    </tr>\n",
       "    <tr>\n",
       "      <th>6</th>\n",
       "      <td>3</td>\n",
       "      <td>4.0</td>\n",
       "      <td>1620.0</td>\n",
       "      <td>847770.0</td>\n",
       "      <td>2011</td>\n",
       "      <td>10244.94</td>\n",
       "      <td>Los Angeles</td>\n",
       "      <td>1</td>\n",
       "      <td>0</td>\n",
       "      <td>0</td>\n",
       "    </tr>\n",
       "  </tbody>\n",
       "</table>\n",
       "</div>"
      ],
      "text/plain": [
       "   bedrooms  bathrooms  sqr_feet  tax_value  year_built  tax_amount  \\\n",
       "4         4        2.0    3633.0   296425.0        2005     6941.39   \n",
       "6         3        4.0    1620.0   847770.0        2011    10244.94   \n",
       "\n",
       "        county  los_angeles  orange  ventura  \n",
       "4  Los Angeles            1       0        0  \n",
       "6  Los Angeles            1       0        0  "
      ]
     },
     "execution_count": 18,
     "metadata": {},
     "output_type": "execute_result"
    }
   ],
   "source": [
    "# make a copy of my original data frame\n",
    "zillow_encoded_scaled = zillow.copy()\n",
    "\n",
    "# add dummies to my data frame\n",
    "zillow_encoded_scaled[dummies_col] = dummies\n",
    "zillow_encoded_scaled.head(2)"
   ]
  },
  {
   "cell_type": "markdown",
   "id": "4bf592e1",
   "metadata": {},
   "source": [
    "## Split"
   ]
  },
  {
   "cell_type": "code",
   "execution_count": 19,
   "id": "d17e847d",
   "metadata": {},
   "outputs": [
    {
     "data": {
      "text/plain": [
       "((1237902, 10), (412634, 10), (412635, 10))"
      ]
     },
     "execution_count": 19,
     "metadata": {},
     "output_type": "execute_result"
    }
   ],
   "source": [
    "# split the data into training, validation and testing sets\n",
    "train, validate, test = prepare_.split_data_(df=zillow_encoded_scaled,\n",
    "                    test_size=0.2, \n",
    "                     validate_size=0.2,\n",
    "                    stratify_col= \"county\",\n",
    "                     random_state=95)\n",
    "(train.shape, validate.shape, test.shape)"
   ]
  },
  {
   "cell_type": "markdown",
   "id": "6c380c2d",
   "metadata": {},
   "source": [
    "**Scale data**"
   ]
  },
  {
   "cell_type": "code",
   "execution_count": 20,
   "id": "69e555d0",
   "metadata": {},
   "outputs": [
    {
     "data": {
      "text/html": [
       "<div>\n",
       "<style scoped>\n",
       "    .dataframe tbody tr th:only-of-type {\n",
       "        vertical-align: middle;\n",
       "    }\n",
       "\n",
       "    .dataframe tbody tr th {\n",
       "        vertical-align: top;\n",
       "    }\n",
       "\n",
       "    .dataframe thead th {\n",
       "        text-align: right;\n",
       "    }\n",
       "</style>\n",
       "<table border=\"1\" class=\"dataframe\">\n",
       "  <thead>\n",
       "    <tr style=\"text-align: right;\">\n",
       "      <th></th>\n",
       "      <th>bedrooms</th>\n",
       "      <th>bathrooms</th>\n",
       "      <th>sqr_feet</th>\n",
       "      <th>year_built</th>\n",
       "      <th>tax_amount</th>\n",
       "    </tr>\n",
       "  </thead>\n",
       "  <tbody>\n",
       "    <tr>\n",
       "      <th>595053</th>\n",
       "      <td>3</td>\n",
       "      <td>3.0</td>\n",
       "      <td>1601.0</td>\n",
       "      <td>1947</td>\n",
       "      <td>3259.81</td>\n",
       "    </tr>\n",
       "    <tr>\n",
       "      <th>1827191</th>\n",
       "      <td>3</td>\n",
       "      <td>1.0</td>\n",
       "      <td>980.0</td>\n",
       "      <td>1952</td>\n",
       "      <td>2905.82</td>\n",
       "    </tr>\n",
       "  </tbody>\n",
       "</table>\n",
       "</div>"
      ],
      "text/plain": [
       "         bedrooms  bathrooms  sqr_feet  year_built  tax_amount\n",
       "595053          3        3.0    1601.0        1947     3259.81\n",
       "1827191         3        1.0     980.0        1952     2905.82"
      ]
     },
     "execution_count": 20,
     "metadata": {},
     "output_type": "execute_result"
    }
   ],
   "source": [
    "# scalable features\n",
    "features_to_scale = train[['bedrooms','bathrooms','sqr_feet','year_built','tax_amount']]\n",
    "\n",
    "features_to_scale.head(2)"
   ]
  },
  {
   "cell_type": "code",
   "execution_count": 21,
   "id": "48dd070e",
   "metadata": {},
   "outputs": [],
   "source": [
    "# build a scaling object\n",
    "scaler = MinMaxScaler()\n",
    "\n",
    "# Note that we only call .fit with the training data,\n",
    "# but we use .transform to apply the scaling to all the data splits.\n",
    "# y Target values: this is not being changed in any way(no predictions are being made)\n",
    "x_train_scaled = scaler.fit_transform(X=features_to_scale,)\n",
    "\n",
    "# transfrom the validate and test using the minMax object\n",
    "x_val_scaled = scaler.transform(X=validate[features_to_scale.columns])\n",
    "x_test_scaled = scaler.transform(X=test[features_to_scale.columns])\n"
   ]
  },
  {
   "cell_type": "code",
   "execution_count": 22,
   "id": "382f8768",
   "metadata": {},
   "outputs": [
    {
     "data": {
      "text/plain": [
       "array([[0.42857143, 0.42857143, 0.32006401, 0.40517241, 0.16242895],\n",
       "       [0.42857143, 0.14285714, 0.19583917, 0.44827586, 0.14471741],\n",
       "       [0.42857143, 0.42857143, 0.41188238, 0.49137931, 0.17433255],\n",
       "       ...,\n",
       "       [0.42857143, 0.14285714, 0.22824565, 0.40517241, 0.05172217],\n",
       "       [0.42857143, 0.14285714, 0.26965393, 0.22413793, 0.14890075],\n",
       "       [0.42857143, 0.28571429, 0.27645529, 0.51724138, 0.1373529 ]])"
      ]
     },
     "execution_count": 22,
     "metadata": {},
     "output_type": "execute_result"
    }
   ],
   "source": [
    "x_train_scaled"
   ]
  },
  {
   "cell_type": "markdown",
   "id": "71ca50e8",
   "metadata": {},
   "source": [
    "**Convert scaled features to dataframe**"
   ]
  },
  {
   "cell_type": "code",
   "execution_count": 23,
   "id": "0be9dd4f",
   "metadata": {},
   "outputs": [
    {
     "data": {
      "text/plain": [
       "['bedrooms_scaled',\n",
       " 'bathrooms_scaled',\n",
       " 'sqr_feet_scaled',\n",
       " 'year_built_scaled',\n",
       " 'tax_amount_scaled']"
      ]
     },
     "execution_count": 23,
     "metadata": {},
     "output_type": "execute_result"
    }
   ],
   "source": [
    "# New _ariable mames to add to data\n",
    "new_scale_col = []\n",
    "for i in features_to_scale.columns:\n",
    "    new_scale_col.append(f\"{i}_scaled\")\n",
    "\n",
    "new_scale_col"
   ]
  },
  {
   "cell_type": "code",
   "execution_count": 24,
   "id": "b1c59270",
   "metadata": {},
   "outputs": [
    {
     "data": {
      "text/html": [
       "<div>\n",
       "<style scoped>\n",
       "    .dataframe tbody tr th:only-of-type {\n",
       "        vertical-align: middle;\n",
       "    }\n",
       "\n",
       "    .dataframe tbody tr th {\n",
       "        vertical-align: top;\n",
       "    }\n",
       "\n",
       "    .dataframe thead th {\n",
       "        text-align: right;\n",
       "    }\n",
       "</style>\n",
       "<table border=\"1\" class=\"dataframe\">\n",
       "  <thead>\n",
       "    <tr style=\"text-align: right;\">\n",
       "      <th></th>\n",
       "      <th>bedrooms_scaled</th>\n",
       "      <th>bathrooms_scaled</th>\n",
       "      <th>sqr_feet_scaled</th>\n",
       "      <th>year_built_scaled</th>\n",
       "      <th>tax_amount_scaled</th>\n",
       "    </tr>\n",
       "  </thead>\n",
       "  <tbody>\n",
       "    <tr>\n",
       "      <th>0</th>\n",
       "      <td>0.428571</td>\n",
       "      <td>0.428571</td>\n",
       "      <td>0.320064</td>\n",
       "      <td>0.405172</td>\n",
       "      <td>0.162429</td>\n",
       "    </tr>\n",
       "    <tr>\n",
       "      <th>1</th>\n",
       "      <td>0.428571</td>\n",
       "      <td>0.142857</td>\n",
       "      <td>0.195839</td>\n",
       "      <td>0.448276</td>\n",
       "      <td>0.144717</td>\n",
       "    </tr>\n",
       "    <tr>\n",
       "      <th>2</th>\n",
       "      <td>0.428571</td>\n",
       "      <td>0.428571</td>\n",
       "      <td>0.411882</td>\n",
       "      <td>0.491379</td>\n",
       "      <td>0.174333</td>\n",
       "    </tr>\n",
       "    <tr>\n",
       "      <th>3</th>\n",
       "      <td>0.428571</td>\n",
       "      <td>0.285714</td>\n",
       "      <td>0.261252</td>\n",
       "      <td>0.706897</td>\n",
       "      <td>0.147458</td>\n",
       "    </tr>\n",
       "    <tr>\n",
       "      <th>4</th>\n",
       "      <td>0.428571</td>\n",
       "      <td>0.285714</td>\n",
       "      <td>0.382877</td>\n",
       "      <td>0.655172</td>\n",
       "      <td>0.217292</td>\n",
       "    </tr>\n",
       "  </tbody>\n",
       "</table>\n",
       "</div>"
      ],
      "text/plain": [
       "   bedrooms_scaled  bathrooms_scaled  sqr_feet_scaled  year_built_scaled  \\\n",
       "0         0.428571          0.428571         0.320064           0.405172   \n",
       "1         0.428571          0.142857         0.195839           0.448276   \n",
       "2         0.428571          0.428571         0.411882           0.491379   \n",
       "3         0.428571          0.285714         0.261252           0.706897   \n",
       "4         0.428571          0.285714         0.382877           0.655172   \n",
       "\n",
       "   tax_amount_scaled  \n",
       "0           0.162429  \n",
       "1           0.144717  \n",
       "2           0.174333  \n",
       "3           0.147458  \n",
       "4           0.217292  "
      ]
     },
     "execution_count": 24,
     "metadata": {},
     "output_type": "execute_result"
    }
   ],
   "source": [
    "# convert to dataframe\n",
    "x_train_scaled = pd.DataFrame(x_train_scaled)\n",
    "x_val_scaled = pd.DataFrame(x_val_scaled)\n",
    "x_test_scaled = pd.DataFrame(x_test_scaled)\n",
    "\n",
    "# add new column names back to the data frame\n",
    "x_train_scaled[new_scale_col] = x_train_scaled\n",
    "x_val_scaled[new_scale_col] = x_val_scaled\n",
    "x_test_scaled[new_scale_col] = x_test_scaled\n",
    "\n",
    "# remove redundent columns from new dataframe\n",
    "x_train_scaled = x_train_scaled[new_scale_col]\n",
    "x_val_scaled = x_val_scaled[new_scale_col]\n",
    "x_test_scaled = x_test_scaled[new_scale_col]\n",
    "\n",
    "x_train_scaled.head()"
   ]
  },
  {
   "cell_type": "code",
   "execution_count": 25,
   "id": "23670de1",
   "metadata": {},
   "outputs": [
    {
     "data": {
      "text/plain": [
       "(1237902, 5)"
      ]
     },
     "execution_count": 25,
     "metadata": {},
     "output_type": "execute_result"
    }
   ],
   "source": [
    "x_train_scaled.shape"
   ]
  },
  {
   "cell_type": "markdown",
   "id": "21281739",
   "metadata": {},
   "source": [
    "**Add scaled columns to a copy of original data**"
   ]
  },
  {
   "cell_type": "code",
   "execution_count": 26,
   "id": "296e21a7",
   "metadata": {},
   "outputs": [],
   "source": [
    "# train[x_train_scaled.columns] = x_train_scaled\n",
    "train = train.reset_index(drop=True)\n",
    "validate = validate.reset_index(drop=True)\n",
    "test = test.reset_index(drop=True)\n",
    "\n",
    "# Concatenate the DataFrames horizontally\n",
    "train = pd.concat([train, x_train_scaled], axis=1, verify_integrity=True)\n",
    "validate = pd.concat([validate, x_val_scaled], axis=1, verify_integrity=True)\n",
    "test = pd.concat([test, x_test_scaled], axis=1, verify_integrity=True)\n",
    "\n",
    "# drop the original columns\n",
    "train = train.drop(columns=features_to_scale)\n",
    "validate = validate.drop(columns=features_to_scale)\n",
    "test = test.drop(columns=features_to_scale)"
   ]
  },
  {
   "cell_type": "code",
   "execution_count": 27,
   "id": "a2a280a5",
   "metadata": {},
   "outputs": [
    {
     "data": {
      "text/html": [
       "<div>\n",
       "<style scoped>\n",
       "    .dataframe tbody tr th:only-of-type {\n",
       "        vertical-align: middle;\n",
       "    }\n",
       "\n",
       "    .dataframe tbody tr th {\n",
       "        vertical-align: top;\n",
       "    }\n",
       "\n",
       "    .dataframe thead th {\n",
       "        text-align: right;\n",
       "    }\n",
       "</style>\n",
       "<table border=\"1\" class=\"dataframe\">\n",
       "  <thead>\n",
       "    <tr style=\"text-align: right;\">\n",
       "      <th></th>\n",
       "      <th>tax_value</th>\n",
       "      <th>county</th>\n",
       "      <th>los_angeles</th>\n",
       "      <th>orange</th>\n",
       "      <th>ventura</th>\n",
       "      <th>bedrooms_scaled</th>\n",
       "      <th>bathrooms_scaled</th>\n",
       "      <th>sqr_feet_scaled</th>\n",
       "      <th>year_built_scaled</th>\n",
       "      <th>tax_amount_scaled</th>\n",
       "    </tr>\n",
       "  </thead>\n",
       "  <tbody>\n",
       "    <tr>\n",
       "      <th>0</th>\n",
       "      <td>160657.0</td>\n",
       "      <td>Los Angeles</td>\n",
       "      <td>1</td>\n",
       "      <td>0</td>\n",
       "      <td>0</td>\n",
       "      <td>0.428571</td>\n",
       "      <td>0.428571</td>\n",
       "      <td>0.320064</td>\n",
       "      <td>0.405172</td>\n",
       "      <td>0.162429</td>\n",
       "    </tr>\n",
       "    <tr>\n",
       "      <th>1</th>\n",
       "      <td>243277.0</td>\n",
       "      <td>Orange</td>\n",
       "      <td>0</td>\n",
       "      <td>1</td>\n",
       "      <td>0</td>\n",
       "      <td>0.428571</td>\n",
       "      <td>0.142857</td>\n",
       "      <td>0.195839</td>\n",
       "      <td>0.448276</td>\n",
       "      <td>0.144717</td>\n",
       "    </tr>\n",
       "    <tr>\n",
       "      <th>2</th>\n",
       "      <td>285312.0</td>\n",
       "      <td>Los Angeles</td>\n",
       "      <td>1</td>\n",
       "      <td>0</td>\n",
       "      <td>0</td>\n",
       "      <td>0.428571</td>\n",
       "      <td>0.428571</td>\n",
       "      <td>0.411882</td>\n",
       "      <td>0.491379</td>\n",
       "      <td>0.174333</td>\n",
       "    </tr>\n",
       "    <tr>\n",
       "      <th>3</th>\n",
       "      <td>268523.0</td>\n",
       "      <td>Ventura</td>\n",
       "      <td>0</td>\n",
       "      <td>0</td>\n",
       "      <td>1</td>\n",
       "      <td>0.428571</td>\n",
       "      <td>0.285714</td>\n",
       "      <td>0.261252</td>\n",
       "      <td>0.706897</td>\n",
       "      <td>0.147458</td>\n",
       "    </tr>\n",
       "    <tr>\n",
       "      <th>4</th>\n",
       "      <td>339115.0</td>\n",
       "      <td>Los Angeles</td>\n",
       "      <td>1</td>\n",
       "      <td>0</td>\n",
       "      <td>0</td>\n",
       "      <td>0.428571</td>\n",
       "      <td>0.285714</td>\n",
       "      <td>0.382877</td>\n",
       "      <td>0.655172</td>\n",
       "      <td>0.217292</td>\n",
       "    </tr>\n",
       "  </tbody>\n",
       "</table>\n",
       "</div>"
      ],
      "text/plain": [
       "   tax_value       county  los_angeles  orange  ventura  bedrooms_scaled  \\\n",
       "0   160657.0  Los Angeles            1       0        0         0.428571   \n",
       "1   243277.0       Orange            0       1        0         0.428571   \n",
       "2   285312.0  Los Angeles            1       0        0         0.428571   \n",
       "3   268523.0      Ventura            0       0        1         0.428571   \n",
       "4   339115.0  Los Angeles            1       0        0         0.428571   \n",
       "\n",
       "   bathrooms_scaled  sqr_feet_scaled  year_built_scaled  tax_amount_scaled  \n",
       "0          0.428571         0.320064           0.405172           0.162429  \n",
       "1          0.142857         0.195839           0.448276           0.144717  \n",
       "2          0.428571         0.411882           0.491379           0.174333  \n",
       "3          0.285714         0.261252           0.706897           0.147458  \n",
       "4          0.285714         0.382877           0.655172           0.217292  "
      ]
     },
     "execution_count": 27,
     "metadata": {},
     "output_type": "execute_result"
    }
   ],
   "source": [
    "train.head()"
   ]
  },
  {
   "cell_type": "markdown",
   "id": "1c8a7ebf",
   "metadata": {},
   "source": [
    "**Save split**"
   ]
  },
  {
   "cell_type": "code",
   "execution_count": 28,
   "id": "8480b84c",
   "metadata": {},
   "outputs": [
    {
     "data": {
      "text/plain": [
       "'SIX data sets saved as .csv'"
      ]
     },
     "execution_count": 28,
     "metadata": {},
     "output_type": "execute_result"
    }
   ],
   "source": [
    "# save created data frames into csv\n",
    "prepare_.save_split_data_(original_df=zillow,\n",
    "                          encoded_scaled_df=zillow_encoded_scaled, \n",
    "                          train=train, \n",
    "                          validate=validate, \n",
    "                          test=test,\n",
    "                         test_size=0.2,\n",
    "                         stratify_col= \"county\",\n",
    "                         random_state=95)"
   ]
  },
  {
   "cell_type": "markdown",
   "id": "d8db39b5",
   "metadata": {},
   "source": [
    "### Actions Taken\n",
    "\n",
    "- Remove all nulls (1% of the data)\n",
    "- Remove duplicated rows.\n",
    "- convert data type from float to int (bedrooms, bathrooms)\n",
    "- remove outliers\n",
    "- replace the fips code with county names and Encode county column.\n",
    "- Split data into train, validate, and test. (`60/20/20 ` split)\n",
    "- scale the humeric categorical and continuous variable and extract a copy of the original data frame.\n",
    "    - `bedrooms, bathrooms, sqr_feet, year_built, tax_amount`"
   ]
  }
 ],
 "metadata": {
  "kernelspec": {
   "display_name": "Python 3 (ipykernel)",
   "language": "python",
   "name": "python3"
  },
  "language_info": {
   "codemirror_mode": {
    "name": "ipython",
    "version": 3
   },
   "file_extension": ".py",
   "mimetype": "text/x-python",
   "name": "python",
   "nbconvert_exporter": "python",
   "pygments_lexer": "ipython3",
   "version": "3.10.9"
  }
 },
 "nbformat": 4,
 "nbformat_minor": 5
}
