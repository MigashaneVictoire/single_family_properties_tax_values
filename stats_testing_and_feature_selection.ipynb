{
 "cells": [
  {
   "cell_type": "code",
   "execution_count": 1,
   "id": "34000c19",
   "metadata": {},
   "outputs": [],
   "source": [
    "# data manipulation\n",
    "import pandas as pd\n",
    "import numpy as np\n",
    "\n",
    "# data visualization\n",
    "import matplotlib.pyplot as plt\n",
    "import seaborn as sns\n",
    "\n",
    "# data separation/transformation\n",
    "from sklearn.feature_selection import SelectKBest, f_regression\n",
    "from sklearn.linear_model import LinearRegression\n",
    "from sklearn.feature_selection import RFE # Recursive Feature Elimination¶\n",
    "\n",
    "# statistics testing\n",
    "import scipy.stats as stats\n",
    "\n",
    "# system manipulation\n",
    "import itertools\n",
    "import os\n",
    "import sys\n",
    "sys.path.append(\"./util_\")\n",
    "import prepare_\n",
    "import explore_\n",
    "\n",
    "# other\n",
    "import env\n",
    "import warnings\n",
    "warnings.filterwarnings(\"ignore\")\n",
    "\n",
    "# set the random seed\n",
    "np.random.seed(95)"
   ]
  },
  {
   "cell_type": "markdown",
   "id": "94a8afca",
   "metadata": {},
   "source": [
    "**Get data**"
   ]
  },
  {
   "cell_type": "code",
   "execution_count": 2,
   "id": "ff400717",
   "metadata": {
    "scrolled": true
   },
   "outputs": [
    {
     "data": {
      "text/html": [
       "<div>\n",
       "<style scoped>\n",
       "    .dataframe tbody tr th:only-of-type {\n",
       "        vertical-align: middle;\n",
       "    }\n",
       "\n",
       "    .dataframe tbody tr th {\n",
       "        vertical-align: top;\n",
       "    }\n",
       "\n",
       "    .dataframe thead th {\n",
       "        text-align: right;\n",
       "    }\n",
       "</style>\n",
       "<table border=\"1\" class=\"dataframe\">\n",
       "  <thead>\n",
       "    <tr style=\"text-align: right;\">\n",
       "      <th></th>\n",
       "      <th>tax_value</th>\n",
       "      <th>county</th>\n",
       "      <th>los_angeles</th>\n",
       "      <th>orange</th>\n",
       "      <th>ventura</th>\n",
       "      <th>bedrooms_scaled</th>\n",
       "      <th>bathrooms_scaled</th>\n",
       "      <th>sqr_feet_scaled</th>\n",
       "      <th>year_built_scaled</th>\n",
       "      <th>tax_amount_scaled</th>\n",
       "    </tr>\n",
       "  </thead>\n",
       "  <tbody>\n",
       "    <tr>\n",
       "      <th>0</th>\n",
       "      <td>160657.0</td>\n",
       "      <td>Los Angeles</td>\n",
       "      <td>1</td>\n",
       "      <td>0</td>\n",
       "      <td>0</td>\n",
       "      <td>0.428571</td>\n",
       "      <td>0.428571</td>\n",
       "      <td>0.320064</td>\n",
       "      <td>0.405172</td>\n",
       "      <td>0.162429</td>\n",
       "    </tr>\n",
       "    <tr>\n",
       "      <th>1</th>\n",
       "      <td>243277.0</td>\n",
       "      <td>Orange</td>\n",
       "      <td>0</td>\n",
       "      <td>1</td>\n",
       "      <td>0</td>\n",
       "      <td>0.428571</td>\n",
       "      <td>0.142857</td>\n",
       "      <td>0.195839</td>\n",
       "      <td>0.448276</td>\n",
       "      <td>0.144717</td>\n",
       "    </tr>\n",
       "    <tr>\n",
       "      <th>2</th>\n",
       "      <td>285312.0</td>\n",
       "      <td>Los Angeles</td>\n",
       "      <td>1</td>\n",
       "      <td>0</td>\n",
       "      <td>0</td>\n",
       "      <td>0.428571</td>\n",
       "      <td>0.428571</td>\n",
       "      <td>0.411882</td>\n",
       "      <td>0.491379</td>\n",
       "      <td>0.174333</td>\n",
       "    </tr>\n",
       "    <tr>\n",
       "      <th>3</th>\n",
       "      <td>268523.0</td>\n",
       "      <td>Ventura</td>\n",
       "      <td>0</td>\n",
       "      <td>0</td>\n",
       "      <td>1</td>\n",
       "      <td>0.428571</td>\n",
       "      <td>0.285714</td>\n",
       "      <td>0.261252</td>\n",
       "      <td>0.706897</td>\n",
       "      <td>0.147458</td>\n",
       "    </tr>\n",
       "    <tr>\n",
       "      <th>4</th>\n",
       "      <td>339115.0</td>\n",
       "      <td>Los Angeles</td>\n",
       "      <td>1</td>\n",
       "      <td>0</td>\n",
       "      <td>0</td>\n",
       "      <td>0.428571</td>\n",
       "      <td>0.285714</td>\n",
       "      <td>0.382877</td>\n",
       "      <td>0.655172</td>\n",
       "      <td>0.217292</td>\n",
       "    </tr>\n",
       "  </tbody>\n",
       "</table>\n",
       "</div>"
      ],
      "text/plain": [
       "   tax_value       county  los_angeles  orange  ventura  bedrooms_scaled  \\\n",
       "0   160657.0  Los Angeles            1       0        0         0.428571   \n",
       "1   243277.0       Orange            0       1        0         0.428571   \n",
       "2   285312.0  Los Angeles            1       0        0         0.428571   \n",
       "3   268523.0      Ventura            0       0        1         0.428571   \n",
       "4   339115.0  Los Angeles            1       0        0         0.428571   \n",
       "\n",
       "   bathrooms_scaled  sqr_feet_scaled  year_built_scaled  tax_amount_scaled  \n",
       "0          0.428571         0.320064           0.405172           0.162429  \n",
       "1          0.142857         0.195839           0.448276           0.144717  \n",
       "2          0.428571         0.411882           0.491379           0.174333  \n",
       "3          0.285714         0.261252           0.706897           0.147458  \n",
       "4          0.285714         0.382877           0.655172           0.217292  "
      ]
     },
     "execution_count": 2,
     "metadata": {},
     "output_type": "execute_result"
    }
   ],
   "source": [
    "# This data is already been split and save\n",
    "# This is only training data\n",
    "train_scaled = pd.read_csv(\"./00_project_data/1-1_training_data.csv\", index_col=0)\n",
    "train_scaled = train_scaled.reset_index(drop=True)\n",
    "train_scaled.head()"
   ]
  },
  {
   "cell_type": "markdown",
   "id": "86b44ca8",
   "metadata": {},
   "source": [
    "## Feature Selection\n",
    "\n",
    "Use recursive feature elimination to select the top 4 features for predicting tax value."
   ]
  },
  {
   "cell_type": "code",
   "execution_count": 3,
   "id": "acf2bf2f",
   "metadata": {},
   "outputs": [],
   "source": [
    "# separate features from target\n",
    "xtrain = train_scaled.drop(columns=[\"tax_value\", \"county\", \"tax_amount_scaled\"])\n",
    "ytrain = train_scaled.tax_value"
   ]
  },
  {
   "cell_type": "code",
   "execution_count": 4,
   "id": "2e8b05d2",
   "metadata": {},
   "outputs": [
    {
     "data": {
      "text/plain": [
       "array([1, 3, 2, 5, 6, 4, 7])"
      ]
     },
     "execution_count": 4,
     "metadata": {},
     "output_type": "execute_result"
    }
   ],
   "source": [
    "# make a model object to use in RFE process.\n",
    "linear_model = LinearRegression()\n",
    "\n",
    "# MAKE the RFE object\n",
    "rfe = RFE(linear_model, n_features_to_select=1)\n",
    "\n",
    "# FIT the RFE object to the training data\n",
    "rfe.fit(xtrain, ytrain)\n",
    "\n",
    "rfe.ranking_"
   ]
  },
  {
   "cell_type": "code",
   "execution_count": 5,
   "id": "7dd9f106",
   "metadata": {
    "scrolled": true
   },
   "outputs": [
    {
     "data": {
      "text/html": [
       "<div>\n",
       "<style scoped>\n",
       "    .dataframe tbody tr th:only-of-type {\n",
       "        vertical-align: middle;\n",
       "    }\n",
       "\n",
       "    .dataframe tbody tr th {\n",
       "        vertical-align: top;\n",
       "    }\n",
       "\n",
       "    .dataframe thead th {\n",
       "        text-align: right;\n",
       "    }\n",
       "</style>\n",
       "<table border=\"1\" class=\"dataframe\">\n",
       "  <thead>\n",
       "    <tr style=\"text-align: right;\">\n",
       "      <th></th>\n",
       "      <th>los_angeles</th>\n",
       "      <th>ventura</th>\n",
       "      <th>orange</th>\n",
       "      <th>bathrooms_scaled</th>\n",
       "      <th>sqr_feet_scaled</th>\n",
       "      <th>bedrooms_scaled</th>\n",
       "      <th>year_built_scaled</th>\n",
       "    </tr>\n",
       "  </thead>\n",
       "  <tbody>\n",
       "    <tr>\n",
       "      <th>0</th>\n",
       "      <td>1</td>\n",
       "      <td>0</td>\n",
       "      <td>0</td>\n",
       "      <td>0.428571</td>\n",
       "      <td>0.320064</td>\n",
       "      <td>0.428571</td>\n",
       "      <td>0.405172</td>\n",
       "    </tr>\n",
       "    <tr>\n",
       "      <th>1</th>\n",
       "      <td>0</td>\n",
       "      <td>0</td>\n",
       "      <td>1</td>\n",
       "      <td>0.142857</td>\n",
       "      <td>0.195839</td>\n",
       "      <td>0.428571</td>\n",
       "      <td>0.448276</td>\n",
       "    </tr>\n",
       "    <tr>\n",
       "      <th>2</th>\n",
       "      <td>1</td>\n",
       "      <td>0</td>\n",
       "      <td>0</td>\n",
       "      <td>0.428571</td>\n",
       "      <td>0.411882</td>\n",
       "      <td>0.428571</td>\n",
       "      <td>0.491379</td>\n",
       "    </tr>\n",
       "  </tbody>\n",
       "</table>\n",
       "</div>"
      ],
      "text/plain": [
       "   los_angeles  ventura  orange  bathrooms_scaled  sqr_feet_scaled  \\\n",
       "0            1        0       0          0.428571         0.320064   \n",
       "1            0        0       1          0.142857         0.195839   \n",
       "2            1        0       0          0.428571         0.411882   \n",
       "\n",
       "   bedrooms_scaled  year_built_scaled  \n",
       "0         0.428571           0.405172  \n",
       "1         0.428571           0.448276  \n",
       "2         0.428571           0.491379  "
      ]
     },
     "execution_count": 5,
     "metadata": {},
     "output_type": "execute_result"
    }
   ],
   "source": [
    "# get a dataframe of all the columns orderd by importance\n",
    "xtrain_selected = xtrain.iloc[:, rfe.ranking_ - 1]\n",
    "xtrain_selected.head(3)\n",
    "\n",
    "# More important to least important"
   ]
  },
  {
   "cell_type": "code",
   "execution_count": 6,
   "id": "c45be59d",
   "metadata": {},
   "outputs": [
    {
     "data": {
      "text/plain": [
       "Index(['los_angeles', 'ventura', 'orange', 'bathrooms_scaled',\n",
       "       'sqr_feet_scaled', 'bedrooms_scaled', 'year_built_scaled'],\n",
       "      dtype='object')"
      ]
     },
     "execution_count": 6,
     "metadata": {},
     "output_type": "execute_result"
    }
   ],
   "source": [
    "xtrain_selected.columns"
   ]
  },
  {
   "cell_type": "markdown",
   "id": "79084ac0",
   "metadata": {},
   "source": [
    "## Stats testing"
   ]
  },
  {
   "cell_type": "code",
   "execution_count": 7,
   "id": "7047ad97",
   "metadata": {},
   "outputs": [
    {
     "data": {
      "text/html": [
       "<div>\n",
       "<style scoped>\n",
       "    .dataframe tbody tr th:only-of-type {\n",
       "        vertical-align: middle;\n",
       "    }\n",
       "\n",
       "    .dataframe tbody tr th {\n",
       "        vertical-align: top;\n",
       "    }\n",
       "\n",
       "    .dataframe thead th {\n",
       "        text-align: right;\n",
       "    }\n",
       "</style>\n",
       "<table border=\"1\" class=\"dataframe\">\n",
       "  <thead>\n",
       "    <tr style=\"text-align: right;\">\n",
       "      <th></th>\n",
       "      <th>bedrooms</th>\n",
       "      <th>bathrooms</th>\n",
       "      <th>sqr_feet</th>\n",
       "      <th>tax_value</th>\n",
       "      <th>year_built</th>\n",
       "      <th>tax_amount</th>\n",
       "      <th>county</th>\n",
       "    </tr>\n",
       "  </thead>\n",
       "  <tbody>\n",
       "    <tr>\n",
       "      <th>0</th>\n",
       "      <td>3</td>\n",
       "      <td>3.0</td>\n",
       "      <td>1601.0</td>\n",
       "      <td>160657.0</td>\n",
       "      <td>1947</td>\n",
       "      <td>3259.81</td>\n",
       "      <td>Los Angeles</td>\n",
       "    </tr>\n",
       "    <tr>\n",
       "      <th>1</th>\n",
       "      <td>3</td>\n",
       "      <td>1.0</td>\n",
       "      <td>980.0</td>\n",
       "      <td>243277.0</td>\n",
       "      <td>1952</td>\n",
       "      <td>2905.82</td>\n",
       "      <td>Orange</td>\n",
       "    </tr>\n",
       "    <tr>\n",
       "      <th>2</th>\n",
       "      <td>3</td>\n",
       "      <td>3.0</td>\n",
       "      <td>2060.0</td>\n",
       "      <td>285312.0</td>\n",
       "      <td>1957</td>\n",
       "      <td>3497.72</td>\n",
       "      <td>Los Angeles</td>\n",
       "    </tr>\n",
       "    <tr>\n",
       "      <th>3</th>\n",
       "      <td>3</td>\n",
       "      <td>2.0</td>\n",
       "      <td>1307.0</td>\n",
       "      <td>268523.0</td>\n",
       "      <td>1982</td>\n",
       "      <td>2960.60</td>\n",
       "      <td>Ventura</td>\n",
       "    </tr>\n",
       "    <tr>\n",
       "      <th>4</th>\n",
       "      <td>3</td>\n",
       "      <td>2.0</td>\n",
       "      <td>1915.0</td>\n",
       "      <td>339115.0</td>\n",
       "      <td>1976</td>\n",
       "      <td>4356.32</td>\n",
       "      <td>Los Angeles</td>\n",
       "    </tr>\n",
       "  </tbody>\n",
       "</table>\n",
       "</div>"
      ],
      "text/plain": [
       "   bedrooms  bathrooms  sqr_feet  tax_value  year_built  tax_amount  \\\n",
       "0         3        3.0    1601.0   160657.0        1947     3259.81   \n",
       "1         3        1.0     980.0   243277.0        1952     2905.82   \n",
       "2         3        3.0    2060.0   285312.0        1957     3497.72   \n",
       "3         3        2.0    1307.0   268523.0        1982     2960.60   \n",
       "4         3        2.0    1915.0   339115.0        1976     4356.32   \n",
       "\n",
       "        county  \n",
       "0  Los Angeles  \n",
       "1       Orange  \n",
       "2  Los Angeles  \n",
       "3      Ventura  \n",
       "4  Los Angeles  "
      ]
     },
     "execution_count": 7,
     "metadata": {},
     "output_type": "execute_result"
    }
   ],
   "source": [
    "# This data is already been split and save\n",
    "# This is only training data\n",
    "train = pd.read_csv(\"./00_project_data/01_original_clean_no_dummies_train.csv\", index_col=0)\n",
    "train = train.reset_index(drop=True)\n",
    "train.head()"
   ]
  },
  {
   "cell_type": "markdown",
   "id": "581edccd",
   "metadata": {},
   "source": [
    "**Questions**\n",
    "\n",
    "- 1. Is there a linear relationship between the square footage of the property and the tax value?\n",
    "    - Does the mean tax value differ significantly between properties with different square footage (e.g., comparing properties below 1,000 square feet to those above 2,000 square feet)?\n",
    "\n",
    "- 2. Is there any relationship between the year the property was built and the tax value?\n",
    "- 3. Does the county where the property is located affect the tax value?\n",
    "- 4. Is there a relationship between the number of bedrooms and the square footage of the property?\n",
    "    - Is there a significant difference in the mean tax value between properties with different numbers of bedrooms or bathrooms \n",
    "    \n",
    "    - Does the mean tax value differ significantly between properties with a different number of bedrooms or bathrooms (e.g., comparing 1-bedroom to 3-bedroom)?\n",
    "\n",
    "- 5. Does the year the property was built have any influence on its tax value?\n",
    "    - Is there a significant difference in the mean tax value between properties built in different years (e.g., older vs. newer properties)?\n",
    "    - Does the mean tax value differ significantly between properties built in different decades (e.g., comparing properties built in the 1980s to those built in the 2000s)?\n",
    "- 6. Is there a difference in tax value based on the county where the property is located?\n",
    "    - Is there a significant difference in the mean tax value between properties located in different counties?\n",
    "    - Does the mean tax value differ significantly between properties in County A compared to County B?"
   ]
  },
  {
   "cell_type": "markdown",
   "id": "f74d0a7c",
   "metadata": {},
   "source": [
    "\n",
    "### 1. Is there a linear relationship between the square footage of the property and the tax value?"
   ]
  },
  {
   "cell_type": "code",
   "execution_count": 8,
   "id": "60b80e95",
   "metadata": {},
   "outputs": [
    {
     "name": "stdout",
     "output_type": "stream",
     "text": [
      "Null_Hyp: There is no a linear relationship between the square footage of the property and the tax value\n",
      "\n",
      "Alt_Hyp: There is a linear relationship between the square footage of the property and the tax value\n"
     ]
    }
   ],
   "source": [
    "print(\"Null_Hyp: There is no a linear relationship between the square footage of the property and the tax value\")\n",
    "print(\"\")\n",
    "print(\"Alt_Hyp: There is a linear relationship between the square footage of the property and the tax value\")\n"
   ]
  },
  {
   "cell_type": "code",
   "execution_count": 9,
   "id": "1b111da6",
   "metadata": {},
   "outputs": [
    {
     "data": {
      "image/png": "[encoded data removed]",
      "text/plain": [
       "<Figure size 500x300 with 1 Axes>"
      ]
     },
     "metadata": {},
     "output_type": "display_data"
    }
   ],
   "source": [
    "# plot the columns\n",
    "plt.figure(figsize = (5,3))\n",
    "sns.scatterplot(data=train, x=\"sqr_feet\", y=\"tax_value\")\n",
    "plt.show()\n"
   ]
  },
  {
   "cell_type": "code",
   "execution_count": 10,
   "id": "fdd78284",
   "metadata": {},
   "outputs": [
    {
     "name": "stdout",
     "output_type": "stream",
     "text": [
      "coeficient r: 0.5583485670625855\n",
      "p-value: 0.0\n",
      "We have enough evidence to reject the null\n"
     ]
    }
   ],
   "source": [
    "# confidence level\n",
    "alpha = 0.05\n",
    "\n",
    "# perform the pearson's rcorrelation test\n",
    "r, p_value = stats.pearsonr(train.sqr_feet, train.tax_value)\n",
    "\n",
    "# print results\n",
    "print(\"coeficient r:\", r)\n",
    "print(\"p-value:\", p_value)\n",
    "explore_.verify_alpha_(p_value) # compare p-value to alpha"
   ]
  },
  {
   "cell_type": "markdown",
   "id": "f6c9a849",
   "metadata": {},
   "source": [
    "- The correlation test shows that there is enough data to say that there is a relationship between square feet and tax valiue and our r-coeficient shows that this relashionship is strong.\n",
    "\n",
    "\n",
    "**A. Does the mean tax value differ significantly between properties with different square footage**"
   ]
  },
  {
   "cell_type": "code",
   "execution_count": 11,
   "id": "606ce953",
   "metadata": {},
   "outputs": [
    {
     "name": "stdout",
     "output_type": "stream",
     "text": [
      "Null_Hyp: The mean tax value differ significantly between properties with different square footage\n",
      "\n",
      "Alt_Hyp: The mean tax value does not differ significantly between properties with different square footage\n"
     ]
    }
   ],
   "source": [
    "print(\"Null_Hyp: The mean tax value differ significantly between properties with different square footage\")\n",
    "print(\"\")\n",
    "print(\"Alt_Hyp: The mean tax value does not differ significantly between properties with different square footage\")\n"
   ]
  },
  {
   "cell_type": "code",
   "execution_count": 12,
   "id": "35d13e2d",
   "metadata": {},
   "outputs": [
    {
     "data": {
      "image/png": "[encoded data removed]",
      "text/plain": [
       "<Figure size 800x400 with 2 Axes>"
      ]
     },
     "metadata": {},
     "output_type": "display_data"
    }
   ],
   "source": [
    "# Define the bin edges\n",
    "bin_edges = [0, 1000, 2000, 3000, 4000, 5000]\n",
    "\n",
    "# Create a new column with binned values\n",
    "train[\"sqr_teed_bin\"] = pd.cut(train.sqr_feet, bins=bin_edges)\n",
    "\n",
    "# Group the data by the bin column and compute the mean value\n",
    "grouped_sqr_ft_by_mean_tax_value = train.groupby('sqr_teed_bin').tax_value.mean()\n",
    "grouped_sqr_ft_by_total_sqr_feet = train.groupby('sqr_teed_bin').sqr_feet.sum()\n",
    "\n",
    "# Plot the values\n",
    "fig, ax = plt.subplots(1,2,figsize = (8,4))\n",
    "grouped_sqr_ft_by_mean_tax_value.plot(kind='bar', ax=ax[0])\n",
    "grouped_sqr_ft_by_total_sqr_feet.plot(kind=\"bar\", ax=ax[1])\n",
    "plt.tight_layout()\n",
    "plt.show()"
   ]
  },
  {
   "cell_type": "markdown",
   "id": "db6d1fd1",
   "metadata": {},
   "source": [
    "**Assiptions**\n",
    "\n",
    "Normal distribution, or at least 30 observations and \"kinda\" normal for each of the individual groups."
   ]
  },
  {
   "cell_type": "code",
   "execution_count": 15,
   "id": "56ba3ab5",
   "metadata": {
    "scrolled": true
   },
   "outputs": [],
   "source": [
    "# create the groups to stat test\n",
    "zero_to_one = train[train.sqr_feet < 1000].sqr_feet\n",
    "one_to_two = train[(train.sqr_feet >= 1000) & (train.sqr_feet < 2000)].sqr_feet\n",
    "two_to_three = train[(train.sqr_feet >= 2000) & (train.sqr_feet < 3000)].sqr_feet\n",
    "three_to_four = train[(train.sqr_feet >= 3000) & (train.sqr_feet < 4000)].sqr_feet\n",
    "four_to_five = train[(train.sqr_feet >= 4000) & (train.sqr_feet <= 5000)].sqr_feet\n"
   ]
  },
  {
   "cell_type": "markdown",
   "id": "dec272f7",
   "metadata": {},
   "source": [
    "**Verify variance quality**"
   ]
  },
  {
   "cell_type": "code",
   "execution_count": 18,
   "id": "14360787",
   "metadata": {},
   "outputs": [
    {
     "name": "stdout",
     "output_type": "stream",
     "text": [
      "P-value 0.0 is less than alpha: Varience are NOT equal\n"
     ]
    }
   ],
   "source": [
    "alpha = 0.05\n",
    "\n",
    "# Verify variance quality\n",
    "# Perform Levene's test\n",
    "levene_stat, levene_pvalue = stats.levene(zero_to_one, one_to_two, two_to_three,\n",
    "                                          three_to_four, four_to_five)\n",
    "\n",
    "if levene_pvalue > alpha:\n",
    "    print(f\"P-value {levene_pvalue} is greater than alpha: Varience are equal\")\n",
    "else:\n",
    "     print(f\"P-value {levene_pvalue} is less than alpha: Varience are NOT equal\")"
   ]
  },
  {
   "cell_type": "markdown",
   "id": "1c9acd52",
   "metadata": {},
   "source": [
    "**Test statistics**"
   ]
  },
  {
   "cell_type": "code",
   "execution_count": 21,
   "id": "7e3e3a7d",
   "metadata": {},
   "outputs": [
    {
     "name": "stdout",
     "output_type": "stream",
     "text": [
      "We reject the null hypothesis\n"
     ]
    }
   ],
   "source": [
    "# Test stats\n",
    "t_stats, p_value = stats.f_oneway(zero_to_one, one_to_two, two_to_three,\n",
    "                                          three_to_four, four_to_five)\n",
    "\n",
    "\n",
    "def Prob_distribution_conclude(t_stats,p_value, alpha=0.05):\n",
    "    #evaluate p-value\n",
    "    if (t_stats > 0) and (p_value < alpha):\n",
    "        print(\"We reject the null hypothesis\")\n",
    "    else:\n",
    "        print(\"We fail to reject the null hypothesis\")\n",
    "\n",
    "Prob_distribution_conclude(t_stats,p_value, alpha)"
   ]
  },
  {
   "cell_type": "markdown",
   "id": "73440085",
   "metadata": {},
   "source": [
    "- Stats test show that the mean tax value differ significantly between properties with different square footage"
   ]
  },
  {
   "cell_type": "markdown",
   "id": "72368464",
   "metadata": {},
   "source": [
    "### 2. Do the number of bedrooms or bathrooms impact the tax value?"
   ]
  },
  {
   "cell_type": "code",
   "execution_count": null,
   "id": "90548b5b",
   "metadata": {},
   "outputs": [],
   "source": [
    "print(\"Null_Hyp: The number of bedrooms or bathrooms don't impact the tax value\")\n",
    "print(\"\")\n",
    "print(\"Alt_Hyp: The number of bedrooms or bathrooms impact the tax value\")\n"
   ]
  },
  {
   "cell_type": "code",
   "execution_count": null,
   "id": "18375721",
   "metadata": {},
   "outputs": [],
   "source": [
    "# plot the columns\n",
    "fig, ax = plt.subplots(1,2,figsize = (8,4))\n",
    "sns.scatterplot(data=train, x=\"bedrooms\", y=\"tax_value\", ax=ax[0])\n",
    "sns.scatterplot(data=train, x=\"bathrooms\", y=\"tax_value\", ax=ax[1])\n",
    "plt.show()\n"
   ]
  },
  {
   "cell_type": "code",
   "execution_count": null,
   "id": "edc28d89",
   "metadata": {},
   "outputs": [],
   "source": [
    "# confidence level\n",
    "alpha = 0.05\n",
    "\n",
    "# perform the pearson's rcorrelation test\n",
    "r, p_value = stats.spearmanr(train.bedrooms, train.tax_value)\n",
    "\n",
    "# print results\n",
    "print(\"coeficient r:\", r)\n",
    "print(\"p-value:\", p_value)\n",
    "explore_.verify_alpha_(p_value) # compare p-value to alpha"
   ]
  },
  {
   "cell_type": "code",
   "execution_count": null,
   "id": "6461dda7",
   "metadata": {},
   "outputs": [],
   "source": [
    "# confidence level\n",
    "alpha = 0.05\n",
    "\n",
    "# perform the pearson's rcorrelation test\n",
    "r, p_value = stats.spearmanr(train.bathrooms, train.tax_value)\n",
    "\n",
    "# print results\n",
    "print(\"coeficient r:\", r)\n",
    "print(\"p-value:\", p_value)\n",
    "explore_.verify_alpha_(p_value) # compare p-value to alpha"
   ]
  },
  {
   "cell_type": "markdown",
   "id": "808ead8b",
   "metadata": {},
   "source": [
    "- The spearmanr test shows that there is enough data to say that there is a relationship between bedrooms and tax valiue and our r-coeficient shows that this relashionship is weak.\n",
    "\n",
    "- The spearmanr test shows that there is enough data to say that there is a relationship between bedrooms and tax valiue and our r-coeficient shows that this relashionship is moderate."
   ]
  },
  {
   "cell_type": "markdown",
   "id": "fcc0249e",
   "metadata": {},
   "source": [
    "### 3. Does the county where the property is located affect the tax value?"
   ]
  },
  {
   "cell_type": "code",
   "execution_count": null,
   "id": "b14d8cc5",
   "metadata": {},
   "outputs": [],
   "source": [
    "print(\"Null_Hyp: The county where the property is located does not affect the tax value\")\n",
    "print(\"\")\n",
    "print(\"Alt_Hyp: The county where the property is located affect the tax value\")\n"
   ]
  },
  {
   "cell_type": "code",
   "execution_count": null,
   "id": "8463d5f2",
   "metadata": {},
   "outputs": [],
   "source": [
    "# plot the columns\n",
    "plt.figure(figsize = (5,3))\n",
    "sns.scatterplot(data=train, x=\"county\", y=\"tax_value\")\n",
    "plt.show()\n"
   ]
  },
  {
   "cell_type": "code",
   "execution_count": null,
   "id": "deb92995",
   "metadata": {},
   "outputs": [],
   "source": [
    "# confidence level\n",
    "alpha = 0.05\n",
    "\n",
    "# perform the pearson's rcorrelation test\n",
    "r, p_value = stats.spearmanr(train.county, train.tax_value)\n",
    "\n",
    "# print results\n",
    "print(\"coeficient r:\", r)\n",
    "print(\"p-value:\", p_value)\n",
    "explore_.verify_alpha_(p_value) # compare p-value to alpha"
   ]
  },
  {
   "cell_type": "markdown",
   "id": "475f0e9e",
   "metadata": {},
   "source": [
    "- The spearmanr test shows that there is enough data to say that there is a relationship between county and tax valiue and our r-coeficient shows that this relashionship is very weak."
   ]
  },
  {
   "cell_type": "markdown",
   "id": "4a3ca9fe",
   "metadata": {},
   "source": [
    "### 4. Is there a relationship between the number of bedrooms and the square footage of the property?"
   ]
  },
  {
   "cell_type": "code",
   "execution_count": null,
   "id": "4a119210",
   "metadata": {},
   "outputs": [],
   "source": [
    "print(\"Null_Hyp: There is a relationship between the number of bedrooms and the square footage of the property\")\n",
    "print(\"\")\n",
    "print(\"Alt_Hyp: There is a relationship between the number of bedrooms and the square footage of the property\")\n"
   ]
  },
  {
   "cell_type": "code",
   "execution_count": null,
   "id": "f1343268",
   "metadata": {},
   "outputs": [],
   "source": [
    "# plot the columns\n",
    "plt.figure(figsize = (5,3))\n",
    "sns.scatterplot(data=train, x=\"year_built\", y=\"tax_value\")\n",
    "plt.show()"
   ]
  },
  {
   "cell_type": "code",
   "execution_count": null,
   "id": "d0a61e8b",
   "metadata": {},
   "outputs": [],
   "source": [
    "# set significance level\n",
    "alpha = 0.05\n",
    "\n",
    "# test stats\n",
    "chi2, p_value, degreeFreedom, exp_table = stats.chi2_contingency(cont_table)\n",
    "\n",
    "# print results\n",
    "print(\"chi2:\", chi2)\n",
    "print(\"p-value:\", p_value)\n",
    "print(\"defrees of freedom:\", degreeFreedom, \"\\n\\n\")\n",
    "\n",
    "# conclusion\n",
    "explore_.verify_alpha_(p_value)\n",
    "\n",
    "print(\"Expected\")\n",
    "pd.DataFrame(exp_table)"
   ]
  },
  {
   "cell_type": "markdown",
   "id": "90c99d0f",
   "metadata": {},
   "source": [
    "- The chi-squared test shows that there is enough data to say that there is a relationship between betrooms and square footage."
   ]
  },
  {
   "cell_type": "markdown",
   "id": "ecb89deb",
   "metadata": {},
   "source": [
    "### 5. Does the year the property was built have any influence on its tax value?"
   ]
  },
  {
   "cell_type": "code",
   "execution_count": null,
   "id": "b1229c86",
   "metadata": {},
   "outputs": [],
   "source": [
    "print(\"Null_Hyp: The year the property was built have no influence on its tax value\")\n",
    "print(\"\")\n",
    "print(\"Alt_Hyp: The year the property was built have influence on its tax value\")\n"
   ]
  },
  {
   "cell_type": "code",
   "execution_count": null,
   "id": "67a7c044",
   "metadata": {},
   "outputs": [],
   "source": [
    "# plot the columns\n",
    "plt.figure(figsize = (5,3))\n",
    "sns.scatterplot(data=train, x=\"year_built\", y=\"tax_value\")\n",
    "plt.show()\n"
   ]
  },
  {
   "cell_type": "code",
   "execution_count": null,
   "id": "8c3778ce",
   "metadata": {},
   "outputs": [],
   "source": [
    "# confidence level\n",
    "alpha = 0.05\n",
    "\n",
    "# perform the pearson's rcorrelation test\n",
    "r, p_value = stats.spearmanr(train.year_built, train.tax_value)\n",
    "\n",
    "# print results\n",
    "print(\"coeficient r:\", r)\n",
    "print(\"p-value:\", p_value)\n",
    "explore_.verify_alpha_(p_value) # compare p-value to alpha"
   ]
  },
  {
   "cell_type": "markdown",
   "id": "2d107593",
   "metadata": {},
   "source": [
    "- The spearmanr test shows that there is enough data to say that there is a relationship between year built and tax valiue and our r-coeficient shows that this relashionship is very weak."
   ]
  },
  {
   "cell_type": "code",
   "execution_count": null,
   "id": "51329fab",
   "metadata": {},
   "outputs": [],
   "source": []
  },
  {
   "cell_type": "code",
   "execution_count": null,
   "id": "ca7fa9bb",
   "metadata": {},
   "outputs": [],
   "source": []
  },
  {
   "cell_type": "code",
   "execution_count": null,
   "id": "b848bf3a",
   "metadata": {},
   "outputs": [],
   "source": []
  },
  {
   "cell_type": "code",
   "execution_count": null,
   "id": "2b36ca28",
   "metadata": {},
   "outputs": [],
   "source": []
  },
  {
   "cell_type": "code",
   "execution_count": null,
   "id": "a66c7096",
   "metadata": {},
   "outputs": [],
   "source": []
  },
  {
   "cell_type": "code",
   "execution_count": null,
   "id": "93df6220",
   "metadata": {},
   "outputs": [],
   "source": []
  },
  {
   "cell_type": "code",
   "execution_count": null,
   "id": "03cb12a7",
   "metadata": {},
   "outputs": [],
   "source": []
  },
  {
   "cell_type": "code",
   "execution_count": null,
   "id": "1b5a2445",
   "metadata": {},
   "outputs": [],
   "source": []
  },
  {
   "cell_type": "code",
   "execution_count": null,
   "id": "d0dc6d77",
   "metadata": {},
   "outputs": [],
   "source": []
  },
  {
   "cell_type": "code",
   "execution_count": null,
   "id": "f79c242f",
   "metadata": {},
   "outputs": [],
   "source": []
  },
  {
   "cell_type": "code",
   "execution_count": null,
   "id": "d445730d",
   "metadata": {},
   "outputs": [],
   "source": []
  },
  {
   "cell_type": "code",
   "execution_count": null,
   "id": "bc6f8735",
   "metadata": {},
   "outputs": [],
   "source": []
  }
 ],
 "metadata": {
  "kernelspec": {
   "display_name": "Python 3 (ipykernel)",
   "language": "python",
   "name": "python3"
  },
  "language_info": {
   "codemirror_mode": {
    "name": "ipython",
    "version": 3
   },
   "file_extension": ".py",
   "mimetype": "text/x-python",
   "name": "python",
   "nbconvert_exporter": "python",
   "pygments_lexer": "ipython3",
   "version": "3.10.9"
  }
 },
 "nbformat": 4,
 "nbformat_minor": 5
}
