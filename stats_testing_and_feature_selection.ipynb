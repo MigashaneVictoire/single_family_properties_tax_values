{
 "cells": [
  {
   "cell_type": "code",
   "execution_count": 1,
   "id": "34000c19",
   "metadata": {},
   "outputs": [],
   "source": [
    "# data manipulation\n",
    "import pandas as pd\n",
    "import numpy as np\n",
    "\n",
    "# data visualization\n",
    "import matplotlib.pyplot as plt\n",
    "import seaborn as sns\n",
    "\n",
    "# data separation/transformation\n",
    "from sklearn.feature_selection import SelectKBest, f_regression\n",
    "from sklearn.linear_model import LinearRegression\n",
    "from sklearn.feature_selection import RFE # Recursive Feature Elimination¶\n",
    "\n",
    "# statistics testing\n",
    "import scipy.stats as stats\n",
    "\n",
    "# system manipulation\n",
    "import itertools\n",
    "import os\n",
    "import sys\n",
    "sys.path.append(\"./util_\")\n",
    "import prepare_\n",
    "import explore_\n",
    "\n",
    "# other\n",
    "import env\n",
    "import warnings\n",
    "warnings.filterwarnings(\"ignore\")\n",
    "\n",
    "# set the random seed\n",
    "np.random.seed(95)"
   ]
  },
  {
   "cell_type": "markdown",
   "id": "94a8afca",
   "metadata": {},
   "source": [
    "**Get data**"
   ]
  },
  {
   "cell_type": "code",
   "execution_count": 2,
   "id": "ff400717",
   "metadata": {
    "scrolled": true
   },
   "outputs": [
    {
     "data": {
      "text/html": [
       "<div>\n",
       "<style scoped>\n",
       "    .dataframe tbody tr th:only-of-type {\n",
       "        vertical-align: middle;\n",
       "    }\n",
       "\n",
       "    .dataframe tbody tr th {\n",
       "        vertical-align: top;\n",
       "    }\n",
       "\n",
       "    .dataframe thead th {\n",
       "        text-align: right;\n",
       "    }\n",
       "</style>\n",
       "<table border=\"1\" class=\"dataframe\">\n",
       "  <thead>\n",
       "    <tr style=\"text-align: right;\">\n",
       "      <th></th>\n",
       "      <th>tax_value</th>\n",
       "      <th>county</th>\n",
       "      <th>los_angeles</th>\n",
       "      <th>orange</th>\n",
       "      <th>ventura</th>\n",
       "      <th>bedrooms_scaled</th>\n",
       "      <th>bathrooms_scaled</th>\n",
       "      <th>sqr_feet_scaled</th>\n",
       "      <th>year_built_scaled</th>\n",
       "      <th>tax_amount_scaled</th>\n",
       "    </tr>\n",
       "  </thead>\n",
       "  <tbody>\n",
       "    <tr>\n",
       "      <th>0</th>\n",
       "      <td>160657.0</td>\n",
       "      <td>Los Angeles</td>\n",
       "      <td>1</td>\n",
       "      <td>0</td>\n",
       "      <td>0</td>\n",
       "      <td>0.428571</td>\n",
       "      <td>0.428571</td>\n",
       "      <td>0.320064</td>\n",
       "      <td>0.405172</td>\n",
       "      <td>0.162429</td>\n",
       "    </tr>\n",
       "    <tr>\n",
       "      <th>1</th>\n",
       "      <td>243277.0</td>\n",
       "      <td>Orange</td>\n",
       "      <td>0</td>\n",
       "      <td>1</td>\n",
       "      <td>0</td>\n",
       "      <td>0.428571</td>\n",
       "      <td>0.142857</td>\n",
       "      <td>0.195839</td>\n",
       "      <td>0.448276</td>\n",
       "      <td>0.144717</td>\n",
       "    </tr>\n",
       "    <tr>\n",
       "      <th>2</th>\n",
       "      <td>285312.0</td>\n",
       "      <td>Los Angeles</td>\n",
       "      <td>1</td>\n",
       "      <td>0</td>\n",
       "      <td>0</td>\n",
       "      <td>0.428571</td>\n",
       "      <td>0.428571</td>\n",
       "      <td>0.411882</td>\n",
       "      <td>0.491379</td>\n",
       "      <td>0.174333</td>\n",
       "    </tr>\n",
       "    <tr>\n",
       "      <th>3</th>\n",
       "      <td>268523.0</td>\n",
       "      <td>Ventura</td>\n",
       "      <td>0</td>\n",
       "      <td>0</td>\n",
       "      <td>1</td>\n",
       "      <td>0.428571</td>\n",
       "      <td>0.285714</td>\n",
       "      <td>0.261252</td>\n",
       "      <td>0.706897</td>\n",
       "      <td>0.147458</td>\n",
       "    </tr>\n",
       "    <tr>\n",
       "      <th>4</th>\n",
       "      <td>339115.0</td>\n",
       "      <td>Los Angeles</td>\n",
       "      <td>1</td>\n",
       "      <td>0</td>\n",
       "      <td>0</td>\n",
       "      <td>0.428571</td>\n",
       "      <td>0.285714</td>\n",
       "      <td>0.382877</td>\n",
       "      <td>0.655172</td>\n",
       "      <td>0.217292</td>\n",
       "    </tr>\n",
       "  </tbody>\n",
       "</table>\n",
       "</div>"
      ],
      "text/plain": [
       "   tax_value       county  los_angeles  orange  ventura  bedrooms_scaled  \\\n",
       "0   160657.0  Los Angeles            1       0        0         0.428571   \n",
       "1   243277.0       Orange            0       1        0         0.428571   \n",
       "2   285312.0  Los Angeles            1       0        0         0.428571   \n",
       "3   268523.0      Ventura            0       0        1         0.428571   \n",
       "4   339115.0  Los Angeles            1       0        0         0.428571   \n",
       "\n",
       "   bathrooms_scaled  sqr_feet_scaled  year_built_scaled  tax_amount_scaled  \n",
       "0          0.428571         0.320064           0.405172           0.162429  \n",
       "1          0.142857         0.195839           0.448276           0.144717  \n",
       "2          0.428571         0.411882           0.491379           0.174333  \n",
       "3          0.285714         0.261252           0.706897           0.147458  \n",
       "4          0.285714         0.382877           0.655172           0.217292  "
      ]
     },
     "execution_count": 2,
     "metadata": {},
     "output_type": "execute_result"
    }
   ],
   "source": [
    "# This data is already been split and save\n",
    "# This is only training data\n",
    "train_scaled = pd.read_csv(\"./00_project_data/1-1_training_data.csv\", index_col=0)\n",
    "train_scaled = train_scaled.reset_index(drop=True)\n",
    "train_scaled.head()"
   ]
  },
  {
   "cell_type": "markdown",
   "id": "86b44ca8",
   "metadata": {},
   "source": [
    "## Feature Selection\n",
    "\n",
    "Use recursive feature elimination to select the top 4 features for predicting tax value."
   ]
  },
  {
   "cell_type": "code",
   "execution_count": 3,
   "id": "acf2bf2f",
   "metadata": {},
   "outputs": [],
   "source": [
    "# separate features from target\n",
    "xtrain = train_scaled.drop(columns=[\"tax_value\", \"county\", \"tax_amount_scaled\"])\n",
    "ytrain = train_scaled.tax_value"
   ]
  },
  {
   "cell_type": "code",
   "execution_count": 6,
   "id": "2e8b05d2",
   "metadata": {},
   "outputs": [
    {
     "data": {
      "text/plain": [
       "array([1, 3, 2, 5, 6, 4, 7])"
      ]
     },
     "execution_count": 6,
     "metadata": {},
     "output_type": "execute_result"
    }
   ],
   "source": [
    "# make a model object to use in RFE process.\n",
    "linear_model = LinearRegression()\n",
    "\n",
    "# MAKE the RFE object\n",
    "rfe = RFE(linear_model, n_features_to_select=1)\n",
    "\n",
    "# FIT the RFE object to the training data\n",
    "rfe.fit(xtrain, ytrain)\n",
    "\n",
    "rfe.ranking_"
   ]
  },
  {
   "cell_type": "code",
   "execution_count": 8,
   "id": "7dd9f106",
   "metadata": {
    "scrolled": true
   },
   "outputs": [
    {
     "data": {
      "text/html": [
       "<div>\n",
       "<style scoped>\n",
       "    .dataframe tbody tr th:only-of-type {\n",
       "        vertical-align: middle;\n",
       "    }\n",
       "\n",
       "    .dataframe tbody tr th {\n",
       "        vertical-align: top;\n",
       "    }\n",
       "\n",
       "    .dataframe thead th {\n",
       "        text-align: right;\n",
       "    }\n",
       "</style>\n",
       "<table border=\"1\" class=\"dataframe\">\n",
       "  <thead>\n",
       "    <tr style=\"text-align: right;\">\n",
       "      <th></th>\n",
       "      <th>los_angeles</th>\n",
       "      <th>ventura</th>\n",
       "      <th>orange</th>\n",
       "      <th>bathrooms_scaled</th>\n",
       "      <th>sqr_feet_scaled</th>\n",
       "      <th>bedrooms_scaled</th>\n",
       "      <th>year_built_scaled</th>\n",
       "    </tr>\n",
       "  </thead>\n",
       "  <tbody>\n",
       "    <tr>\n",
       "      <th>0</th>\n",
       "      <td>1</td>\n",
       "      <td>0</td>\n",
       "      <td>0</td>\n",
       "      <td>0.428571</td>\n",
       "      <td>0.320064</td>\n",
       "      <td>0.428571</td>\n",
       "      <td>0.405172</td>\n",
       "    </tr>\n",
       "    <tr>\n",
       "      <th>1</th>\n",
       "      <td>0</td>\n",
       "      <td>0</td>\n",
       "      <td>1</td>\n",
       "      <td>0.142857</td>\n",
       "      <td>0.195839</td>\n",
       "      <td>0.428571</td>\n",
       "      <td>0.448276</td>\n",
       "    </tr>\n",
       "    <tr>\n",
       "      <th>2</th>\n",
       "      <td>1</td>\n",
       "      <td>0</td>\n",
       "      <td>0</td>\n",
       "      <td>0.428571</td>\n",
       "      <td>0.411882</td>\n",
       "      <td>0.428571</td>\n",
       "      <td>0.491379</td>\n",
       "    </tr>\n",
       "  </tbody>\n",
       "</table>\n",
       "</div>"
      ],
      "text/plain": [
       "   los_angeles  ventura  orange  bathrooms_scaled  sqr_feet_scaled  \\\n",
       "0            1        0       0          0.428571         0.320064   \n",
       "1            0        0       1          0.142857         0.195839   \n",
       "2            1        0       0          0.428571         0.411882   \n",
       "\n",
       "   bedrooms_scaled  year_built_scaled  \n",
       "0         0.428571           0.405172  \n",
       "1         0.428571           0.448276  \n",
       "2         0.428571           0.491379  "
      ]
     },
     "execution_count": 8,
     "metadata": {},
     "output_type": "execute_result"
    }
   ],
   "source": [
    "# get a dataframe of all the columns orderd by importance\n",
    "xtrain_selected = xtrain.iloc[:, rfe.ranking_ - 1]\n",
    "xtrain_selected.head(3)\n",
    "\n",
    "# More important to least important"
   ]
  },
  {
   "cell_type": "code",
   "execution_count": 10,
   "id": "c45be59d",
   "metadata": {},
   "outputs": [
    {
     "data": {
      "text/plain": [
       "Index(['los_angeles', 'ventura', 'orange', 'bathrooms_scaled',\n",
       "       'sqr_feet_scaled', 'bedrooms_scaled', 'year_built_scaled'],\n",
       "      dtype='object')"
      ]
     },
     "execution_count": 10,
     "metadata": {},
     "output_type": "execute_result"
    }
   ],
   "source": [
    "xtrain_selected.columns"
   ]
  },
  {
   "cell_type": "markdown",
   "id": "79084ac0",
   "metadata": {},
   "source": [
    "## Stats testing"
   ]
  },
  {
   "cell_type": "code",
   "execution_count": 9,
   "id": "7047ad97",
   "metadata": {},
   "outputs": [
    {
     "data": {
      "text/html": [
       "<div>\n",
       "<style scoped>\n",
       "    .dataframe tbody tr th:only-of-type {\n",
       "        vertical-align: middle;\n",
       "    }\n",
       "\n",
       "    .dataframe tbody tr th {\n",
       "        vertical-align: top;\n",
       "    }\n",
       "\n",
       "    .dataframe thead th {\n",
       "        text-align: right;\n",
       "    }\n",
       "</style>\n",
       "<table border=\"1\" class=\"dataframe\">\n",
       "  <thead>\n",
       "    <tr style=\"text-align: right;\">\n",
       "      <th></th>\n",
       "      <th>bedrooms</th>\n",
       "      <th>bathrooms</th>\n",
       "      <th>sqr_feet</th>\n",
       "      <th>tax_value</th>\n",
       "      <th>year_built</th>\n",
       "      <th>tax_amount</th>\n",
       "      <th>county</th>\n",
       "    </tr>\n",
       "  </thead>\n",
       "  <tbody>\n",
       "    <tr>\n",
       "      <th>0</th>\n",
       "      <td>3</td>\n",
       "      <td>3.0</td>\n",
       "      <td>1601.0</td>\n",
       "      <td>160657.0</td>\n",
       "      <td>1947</td>\n",
       "      <td>3259.81</td>\n",
       "      <td>Los Angeles</td>\n",
       "    </tr>\n",
       "    <tr>\n",
       "      <th>1</th>\n",
       "      <td>3</td>\n",
       "      <td>1.0</td>\n",
       "      <td>980.0</td>\n",
       "      <td>243277.0</td>\n",
       "      <td>1952</td>\n",
       "      <td>2905.82</td>\n",
       "      <td>Orange</td>\n",
       "    </tr>\n",
       "    <tr>\n",
       "      <th>2</th>\n",
       "      <td>3</td>\n",
       "      <td>3.0</td>\n",
       "      <td>2060.0</td>\n",
       "      <td>285312.0</td>\n",
       "      <td>1957</td>\n",
       "      <td>3497.72</td>\n",
       "      <td>Los Angeles</td>\n",
       "    </tr>\n",
       "    <tr>\n",
       "      <th>3</th>\n",
       "      <td>3</td>\n",
       "      <td>2.0</td>\n",
       "      <td>1307.0</td>\n",
       "      <td>268523.0</td>\n",
       "      <td>1982</td>\n",
       "      <td>2960.60</td>\n",
       "      <td>Ventura</td>\n",
       "    </tr>\n",
       "    <tr>\n",
       "      <th>4</th>\n",
       "      <td>3</td>\n",
       "      <td>2.0</td>\n",
       "      <td>1915.0</td>\n",
       "      <td>339115.0</td>\n",
       "      <td>1976</td>\n",
       "      <td>4356.32</td>\n",
       "      <td>Los Angeles</td>\n",
       "    </tr>\n",
       "  </tbody>\n",
       "</table>\n",
       "</div>"
      ],
      "text/plain": [
       "   bedrooms  bathrooms  sqr_feet  tax_value  year_built  tax_amount  \\\n",
       "0         3        3.0    1601.0   160657.0        1947     3259.81   \n",
       "1         3        1.0     980.0   243277.0        1952     2905.82   \n",
       "2         3        3.0    2060.0   285312.0        1957     3497.72   \n",
       "3         3        2.0    1307.0   268523.0        1982     2960.60   \n",
       "4         3        2.0    1915.0   339115.0        1976     4356.32   \n",
       "\n",
       "        county  \n",
       "0  Los Angeles  \n",
       "1       Orange  \n",
       "2  Los Angeles  \n",
       "3      Ventura  \n",
       "4  Los Angeles  "
      ]
     },
     "execution_count": 9,
     "metadata": {},
     "output_type": "execute_result"
    }
   ],
   "source": [
    "# This data is already been split and save\n",
    "# This is only training data\n",
    "train = pd.read_csv(\"./00_project_data/01_original_clean_no_dummies_train.csv\", index_col=0)\n",
    "train = train.reset_index(drop=True)\n",
    "train.head()"
   ]
  },
  {
   "cell_type": "markdown",
   "id": "581edccd",
   "metadata": {},
   "source": [
    "**Questions**\n",
    "\n",
    "- Is there a linear relationship between the square footage of the property and the tax value?\n",
    "- Do the number of bedrooms or bathrooms impact the tax value?\n",
    "- Is there any relationship between the year the property was built and the tax value?\n",
    "- Does the county where the property is located affect the tax value?\n",
    "- Are there any interactions or combinations of variables that affect the tax value?"
   ]
  },
  {
   "cell_type": "markdown",
   "id": "f74d0a7c",
   "metadata": {},
   "source": [
    "## Check Independace\n",
    "\n",
    "### 1. Is there a linear relationship between the square footage of the property and the tax value?"
   ]
  },
  {
   "cell_type": "code",
   "execution_count": null,
   "id": "60b80e95",
   "metadata": {},
   "outputs": [],
   "source": [
    "print(\"Null_Hyp: There is a linear relationship between the square footage of the property and the tax value?\")\n",
    "print(\"\")\n",
    "print(\"Alt_Hyp: There is no a linear relationship between the square footage of the property and the tax value?\")\n"
   ]
  },
  {
   "cell_type": "code",
   "execution_count": null,
   "id": "1b111da6",
   "metadata": {},
   "outputs": [],
   "source": [
    "# plot the columns\n",
    "sns.relplot(data=train, x=\"sqr_feet\", y=\"tax_value\")\n",
    "\n"
   ]
  },
  {
   "cell_type": "markdown",
   "id": "c5d3a3b9",
   "metadata": {},
   "source": []
  },
  {
   "cell_type": "code",
   "execution_count": null,
   "id": "86d6e66c",
   "metadata": {},
   "outputs": [],
   "source": []
  },
  {
   "cell_type": "code",
   "execution_count": null,
   "id": "16c23bf3",
   "metadata": {},
   "outputs": [],
   "source": []
  },
  {
   "cell_type": "code",
   "execution_count": null,
   "id": "90548b5b",
   "metadata": {},
   "outputs": [],
   "source": []
  }
 ],
 "metadata": {
  "kernelspec": {
   "display_name": "Python 3 (ipykernel)",
   "language": "python",
   "name": "python3"
  },
  "language_info": {
   "codemirror_mode": {
    "name": "ipython",
    "version": 3
   },
   "file_extension": ".py",
   "mimetype": "text/x-python",
   "name": "python",
   "nbconvert_exporter": "python",
   "pygments_lexer": "ipython3",
   "version": "3.10.9"
  }
 },
 "nbformat": 4,
 "nbformat_minor": 5
}
